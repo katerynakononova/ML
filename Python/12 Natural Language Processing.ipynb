{
 "cells": [
  {
   "cell_type": "code",
   "execution_count": 2,
   "metadata": {},
   "outputs": [],
   "source": [
    "# Natural Language Processing"
   ]
  },
  {
   "cell_type": "code",
   "execution_count": 3,
   "metadata": {},
   "outputs": [],
   "source": [
    "# Importing the libraries\n",
    "import numpy as np\n",
    "import matplotlib.pyplot as plt\n",
    "import pandas as pd"
   ]
  },
  {
   "cell_type": "code",
   "execution_count": 4,
   "metadata": {},
   "outputs": [],
   "source": [
    "# Importing the dataset\n",
    "dataset = pd.read_csv('Restaurant_Reviews.tsv', delimiter = '\\t', quoting = 3)"
   ]
  },
  {
   "cell_type": "code",
   "execution_count": 5,
   "metadata": {},
   "outputs": [
    {
     "name": "stderr",
     "output_type": "stream",
     "text": [
      "[nltk_data] Downloading package stopwords to\n",
      "[nltk_data]     C:\\Users\\kater\\AppData\\Roaming\\nltk_data...\n",
      "[nltk_data]   Unzipping corpora\\stopwords.zip.\n"
     ]
    }
   ],
   "source": [
    "# Cleaning the texts\n",
    "import re\n",
    "import nltk\n",
    "nltk.download('stopwords')\n",
    "from nltk.corpus import stopwords\n",
    "from nltk.stem.porter import PorterStemmer\n",
    "corpus = []\n",
    "for i in range(0, 1000):\n",
    "    review = re.sub('[^a-zA-Z]', ' ', dataset['Review'][i])\n",
    "    review = review.lower()\n",
    "    review = review.split()\n",
    "    ps = PorterStemmer()\n",
    "    review = [ps.stem(word) for word in review if not word in set(stopwords.words('english'))]\n",
    "    review = ' '.join(review)\n",
    "    corpus.append(review)"
   ]
  },
  {
   "cell_type": "code",
   "execution_count": 6,
   "metadata": {},
   "outputs": [],
   "source": [
    "# Creating the Bag of Words model\n",
    "from sklearn.feature_extraction.text import CountVectorizer\n",
    "cv = CountVectorizer(max_features = 1500)\n",
    "X = cv.fit_transform(corpus).toarray()\n",
    "y = dataset.iloc[:, 1].values"
   ]
  },
  {
   "cell_type": "code",
   "execution_count": 7,
   "metadata": {},
   "outputs": [],
   "source": [
    "# Splitting the dataset into the Training set and Test set\n",
    "from sklearn.model_selection import train_test_split\n",
    "X_train, X_test, y_train, y_test = train_test_split(X, y, test_size=0.2, random_state=0)"
   ]
  },
  {
   "cell_type": "code",
   "execution_count": 21,
   "metadata": {},
   "outputs": [
    {
     "data": {
      "text/plain": [
       "1500"
      ]
     },
     "execution_count": 21,
     "metadata": {},
     "output_type": "execute_result"
    }
   ],
   "source": [
    "X_train.shape"
   ]
  },
  {
   "cell_type": "code",
   "execution_count": 9,
   "metadata": {},
   "outputs": [],
   "source": [
    "# Fitting Naive Bayes to the Training set\n",
    "from sklearn.naive_bayes import GaussianNB\n",
    "nb = GaussianNB().fit(X_train, y_train)"
   ]
  },
  {
   "cell_type": "code",
   "execution_count": 10,
   "metadata": {},
   "outputs": [],
   "source": [
    "# Predicting the Test set results\n",
    "y_pred = nb.predict(X_test)"
   ]
  },
  {
   "cell_type": "code",
   "execution_count": 11,
   "metadata": {},
   "outputs": [
    {
     "name": "stdout",
     "output_type": "stream",
     "text": [
      "[[55 42]\n",
      " [12 91]]\n"
     ]
    }
   ],
   "source": [
    "# Making the Confusion Matrix\n",
    "from sklearn.metrics import confusion_matrix\n",
    "cm = confusion_matrix(y_test, y_pred)\n",
    "print(cm)"
   ]
  },
  {
   "cell_type": "code",
   "execution_count": 12,
   "metadata": {},
   "outputs": [
    {
     "name": "stderr",
     "output_type": "stream",
     "text": [
      "Using TensorFlow backend.\n",
      "C:\\Users\\kater\\anaconda3\\lib\\site-packages\\tensorflow\\python\\framework\\dtypes.py:516: FutureWarning: Passing (type, 1) or '1type' as a synonym of type is deprecated; in a future version of numpy, it will be understood as (type, (1,)) / '(1,)type'.\n",
      "  _np_qint8 = np.dtype([(\"qint8\", np.int8, 1)])\n",
      "C:\\Users\\kater\\anaconda3\\lib\\site-packages\\tensorflow\\python\\framework\\dtypes.py:517: FutureWarning: Passing (type, 1) or '1type' as a synonym of type is deprecated; in a future version of numpy, it will be understood as (type, (1,)) / '(1,)type'.\n",
      "  _np_quint8 = np.dtype([(\"quint8\", np.uint8, 1)])\n",
      "C:\\Users\\kater\\anaconda3\\lib\\site-packages\\tensorflow\\python\\framework\\dtypes.py:518: FutureWarning: Passing (type, 1) or '1type' as a synonym of type is deprecated; in a future version of numpy, it will be understood as (type, (1,)) / '(1,)type'.\n",
      "  _np_qint16 = np.dtype([(\"qint16\", np.int16, 1)])\n",
      "C:\\Users\\kater\\anaconda3\\lib\\site-packages\\tensorflow\\python\\framework\\dtypes.py:519: FutureWarning: Passing (type, 1) or '1type' as a synonym of type is deprecated; in a future version of numpy, it will be understood as (type, (1,)) / '(1,)type'.\n",
      "  _np_quint16 = np.dtype([(\"quint16\", np.uint16, 1)])\n",
      "C:\\Users\\kater\\anaconda3\\lib\\site-packages\\tensorflow\\python\\framework\\dtypes.py:520: FutureWarning: Passing (type, 1) or '1type' as a synonym of type is deprecated; in a future version of numpy, it will be understood as (type, (1,)) / '(1,)type'.\n",
      "  _np_qint32 = np.dtype([(\"qint32\", np.int32, 1)])\n",
      "C:\\Users\\kater\\anaconda3\\lib\\site-packages\\tensorflow\\python\\framework\\dtypes.py:525: FutureWarning: Passing (type, 1) or '1type' as a synonym of type is deprecated; in a future version of numpy, it will be understood as (type, (1,)) / '(1,)type'.\n",
      "  np_resource = np.dtype([(\"resource\", np.ubyte, 1)])\n",
      "C:\\Users\\kater\\anaconda3\\lib\\site-packages\\tensorboard\\compat\\tensorflow_stub\\dtypes.py:541: FutureWarning: Passing (type, 1) or '1type' as a synonym of type is deprecated; in a future version of numpy, it will be understood as (type, (1,)) / '(1,)type'.\n",
      "  _np_qint8 = np.dtype([(\"qint8\", np.int8, 1)])\n",
      "C:\\Users\\kater\\anaconda3\\lib\\site-packages\\tensorboard\\compat\\tensorflow_stub\\dtypes.py:542: FutureWarning: Passing (type, 1) or '1type' as a synonym of type is deprecated; in a future version of numpy, it will be understood as (type, (1,)) / '(1,)type'.\n",
      "  _np_quint8 = np.dtype([(\"quint8\", np.uint8, 1)])\n",
      "C:\\Users\\kater\\anaconda3\\lib\\site-packages\\tensorboard\\compat\\tensorflow_stub\\dtypes.py:543: FutureWarning: Passing (type, 1) or '1type' as a synonym of type is deprecated; in a future version of numpy, it will be understood as (type, (1,)) / '(1,)type'.\n",
      "  _np_qint16 = np.dtype([(\"qint16\", np.int16, 1)])\n",
      "C:\\Users\\kater\\anaconda3\\lib\\site-packages\\tensorboard\\compat\\tensorflow_stub\\dtypes.py:544: FutureWarning: Passing (type, 1) or '1type' as a synonym of type is deprecated; in a future version of numpy, it will be understood as (type, (1,)) / '(1,)type'.\n",
      "  _np_quint16 = np.dtype([(\"quint16\", np.uint16, 1)])\n",
      "C:\\Users\\kater\\anaconda3\\lib\\site-packages\\tensorboard\\compat\\tensorflow_stub\\dtypes.py:545: FutureWarning: Passing (type, 1) or '1type' as a synonym of type is deprecated; in a future version of numpy, it will be understood as (type, (1,)) / '(1,)type'.\n",
      "  _np_qint32 = np.dtype([(\"qint32\", np.int32, 1)])\n",
      "C:\\Users\\kater\\anaconda3\\lib\\site-packages\\tensorboard\\compat\\tensorflow_stub\\dtypes.py:550: FutureWarning: Passing (type, 1) or '1type' as a synonym of type is deprecated; in a future version of numpy, it will be understood as (type, (1,)) / '(1,)type'.\n",
      "  np_resource = np.dtype([(\"resource\", np.ubyte, 1)])\n"
     ]
    }
   ],
   "source": [
    "# Importing the Keras libraries and packages\n",
    "import keras\n",
    "from keras.models import Sequential\n",
    "from keras.layers import Dense"
   ]
  },
  {
   "cell_type": "code",
   "execution_count": 28,
   "metadata": {},
   "outputs": [
    {
     "name": "stderr",
     "output_type": "stream",
     "text": [
      "C:\\Users\\kater\\anaconda3\\lib\\site-packages\\ipykernel_launcher.py:10: UserWarning: Update your `Dense` call to the Keras 2 API: `Dense(activation=\"relu\", input_dim=1500, units=750, kernel_initializer=\"uniform\")`\n",
      "  # Remove the CWD from sys.path while we load stuff.\n",
      "C:\\Users\\kater\\anaconda3\\lib\\site-packages\\ipykernel_launcher.py:13: UserWarning: Update your `Dense` call to the Keras 2 API: `Dense(activation=\"sigmoid\", units=187, kernel_initializer=\"uniform\")`\n",
      "  del sys.path[0]\n",
      "C:\\Users\\kater\\anaconda3\\lib\\site-packages\\ipykernel_launcher.py:14: UserWarning: Update your `Dense` call to the Keras 2 API: `Dense(activation=\"relu\", units=93, kernel_initializer=\"uniform\")`\n",
      "  \n",
      "C:\\Users\\kater\\anaconda3\\lib\\site-packages\\ipykernel_launcher.py:15: UserWarning: Update your `Dense` call to the Keras 2 API: `Dense(activation=\"sigmoid\", units=1, kernel_initializer=\"uniform\")`\n",
      "  from ipykernel import kernelapp as app\n"
     ]
    }
   ],
   "source": [
    "# Initialising the ANN\n",
    "layer0 =  int(X_train.shape[1])\n",
    "layer1 = int(X_train.shape[1]/2)\n",
    "layer2 = int(X_train.shape[1]/8)\n",
    "layer3 = int(X_train.shape[1]/16)\n",
    "\n",
    "cnn = Sequential()\n",
    "\n",
    "# Adding the input layer and the first hidden layer\n",
    "cnn.add(Dense(output_dim = layer1, init = 'uniform', activation = 'relu', input_dim = layer0))\n",
    "\n",
    "# Adding layers\n",
    "cnn.add(Dense(output_dim = layer2, init = 'uniform', activation = 'sigmoid'))\n",
    "cnn.add(Dense(output_dim = layer3, init = 'uniform', activation = 'relu'))\n",
    "cnn.add(Dense(output_dim = 1, init = 'uniform', activation = 'sigmoid'))\n",
    "\n",
    "\n",
    "# Compiling the ANN\n",
    "cnn.compile(optimizer = 'adam', loss = 'binary_crossentropy', metrics = ['accuracy'])"
   ]
  },
  {
   "cell_type": "code",
   "execution_count": 29,
   "metadata": {},
   "outputs": [
    {
     "name": "stderr",
     "output_type": "stream",
     "text": [
      "C:\\Users\\kater\\anaconda3\\lib\\site-packages\\ipykernel_launcher.py:2: UserWarning: The `nb_epoch` argument in `fit` has been renamed `epochs`.\n",
      "  \n"
     ]
    },
    {
     "name": "stdout",
     "output_type": "stream",
     "text": [
      "WARNING:tensorflow:From C:\\Users\\kater\\anaconda3\\lib\\site-packages\\keras\\backend\\tensorflow_backend.py:422: The name tf.global_variables is deprecated. Please use tf.compat.v1.global_variables instead.\n",
      "\n",
      "Epoch 1/100\n",
      "800/800 [==============================] - 3s 4ms/step - loss: 0.6936 - accuracy: 0.5213: 1s -\n",
      "Epoch 2/100\n",
      "800/800 [==============================] - 3s 4ms/step - loss: 0.4487 - accuracy: 0.8200\n",
      "Epoch 3/100\n",
      "800/800 [==============================] - 3s 4ms/step - loss: 0.1229 - accuracy: 0.9600\n",
      "Epoch 4/100\n",
      "800/800 [==============================] - 3s 4ms/step - loss: 0.0468 - accuracy: 0.9862\n",
      "Epoch 5/100\n",
      "800/800 [==============================] - 3s 4ms/step - loss: 0.0332 - accuracy: 0.9887\n",
      "Epoch 6/100\n",
      "800/800 [==============================] - 3s 4ms/step - loss: 0.0269 - accuracy: 0.9887\n",
      "Epoch 7/100\n",
      "800/800 [==============================] - 3s 3ms/step - loss: 0.0179 - accuracy: 0.9937\n",
      "Epoch 8/100\n",
      "800/800 [==============================] - 3s 3ms/step - loss: 0.0282 - accuracy: 0.9925\n",
      "Epoch 9/100\n",
      "800/800 [==============================] - 3s 4ms/step - loss: 0.0175 - accuracy: 0.9925\n",
      "Epoch 10/100\n",
      "800/800 [==============================] - 3s 4ms/step - loss: 0.0195 - accuracy: 0.9950\n",
      "Epoch 11/100\n",
      "800/800 [==============================] - 3s 4ms/step - loss: 0.0131 - accuracy: 0.9950\n",
      "Epoch 12/100\n",
      "800/800 [==============================] - 3s 4ms/step - loss: 0.0167 - accuracy: 0.9925\n",
      "Epoch 13/100\n",
      "800/800 [==============================] - 3s 4ms/step - loss: 0.0123 - accuracy: 0.9962\n",
      "Epoch 14/100\n",
      "800/800 [==============================] - 3s 4ms/step - loss: 0.0267 - accuracy: 0.9900\n",
      "Epoch 15/100\n",
      "800/800 [==============================] - 3s 4ms/step - loss: 0.0160 - accuracy: 0.9937\n",
      "Epoch 16/100\n",
      "800/800 [==============================] - 3s 4ms/step - loss: 0.0185 - accuracy: 0.9925\n",
      "Epoch 17/100\n",
      "800/800 [==============================] - 3s 4ms/step - loss: 0.0142 - accuracy: 0.9937\n",
      "Epoch 18/100\n",
      "800/800 [==============================] - 3s 4ms/step - loss: 0.0150 - accuracy: 0.9950\n",
      "Epoch 19/100\n",
      "800/800 [==============================] - 3s 4ms/step - loss: 0.0123 - accuracy: 0.9950\n",
      "Epoch 20/100\n",
      "800/800 [==============================] - 3s 4ms/step - loss: 0.0163 - accuracy: 0.9937\n",
      "Epoch 21/100\n",
      "800/800 [==============================] - 3s 4ms/step - loss: 0.0133 - accuracy: 0.9962\n",
      "Epoch 22/100\n",
      "800/800 [==============================] - 4s 4ms/step - loss: 0.0133 - accuracy: 0.9950\n",
      "Epoch 23/100\n",
      "800/800 [==============================] - 3s 3ms/step - loss: 0.0138 - accuracy: 0.9950\n",
      "Epoch 24/100\n",
      "800/800 [==============================] - 3s 3ms/step - loss: 0.0144 - accuracy: 0.9950\n",
      "Epoch 25/100\n",
      "800/800 [==============================] - 3s 4ms/step - loss: 0.0159 - accuracy: 0.9925: 0s - loss: 0.0\n",
      "Epoch 26/100\n",
      "800/800 [==============================] - 3s 4ms/step - loss: 0.0159 - accuracy: 0.9950\n",
      "Epoch 27/100\n",
      "800/800 [==============================] - 3s 3ms/step - loss: 0.0134 - accuracy: 0.9937\n",
      "Epoch 28/100\n",
      "800/800 [==============================] - 3s 3ms/step - loss: 0.0139 - accuracy: 0.9925\n",
      "Epoch 29/100\n",
      "800/800 [==============================] - 2s 3ms/step - loss: 0.0154 - accuracy: 0.9937\n",
      "Epoch 30/100\n",
      "800/800 [==============================] - 3s 4ms/step - loss: 0.0127 - accuracy: 0.9962\n",
      "Epoch 31/100\n",
      "800/800 [==============================] - 3s 4ms/step - loss: 0.0111 - accuracy: 0.9950\n",
      "Epoch 32/100\n",
      "800/800 [==============================] - 3s 4ms/step - loss: 0.0121 - accuracy: 0.9962\n",
      "Epoch 33/100\n",
      "800/800 [==============================] - 3s 4ms/step - loss: 0.0146 - accuracy: 0.9950\n",
      "Epoch 34/100\n",
      "800/800 [==============================] - 3s 4ms/step - loss: 0.0128 - accuracy: 0.9925 ETA: 2s - loss: 8.2771e - - ETA: 0s -\n",
      "Epoch 35/100\n",
      "800/800 [==============================] - 3s 4ms/step - loss: 0.0149 - accuracy: 0.9925\n",
      "Epoch 36/100\n",
      "800/800 [==============================] - 3s 4ms/step - loss: 0.0139 - accuracy: 0.9950\n",
      "Epoch 37/100\n",
      "800/800 [==============================] - 4s 5ms/step - loss: 0.0140 - accuracy: 0.9937\n",
      "Epoch 38/100\n",
      "800/800 [==============================] - 3s 4ms/step - loss: 0.0121 - accuracy: 0.9937\n",
      "Epoch 39/100\n",
      "800/800 [==============================] - 3s 4ms/step - loss: 0.0116 - accuracy: 0.9962\n",
      "Epoch 40/100\n",
      "800/800 [==============================] - 3s 4ms/step - loss: 0.0119 - accuracy: 0.9937\n",
      "Epoch 41/100\n",
      "800/800 [==============================] - 3s 4ms/step - loss: 0.0134 - accuracy: 0.9950\n",
      "Epoch 42/100\n",
      "800/800 [==============================] - 4s 4ms/step - loss: 0.0139 - accuracy: 0.9937\n",
      "Epoch 43/100\n",
      "800/800 [==============================] - 3s 4ms/step - loss: 0.0112 - accuracy: 0.9937\n",
      "Epoch 44/100\n",
      "800/800 [==============================] - 4s 4ms/step - loss: 0.0124 - accuracy: 0.9950: 0s - loss: 0.0134 - accuracy\n",
      "Epoch 45/100\n",
      "800/800 [==============================] - 3s 4ms/step - loss: 0.0131 - accuracy: 0.9925\n",
      "Epoch 46/100\n",
      "800/800 [==============================] - 3s 4ms/step - loss: 0.0121 - accuracy: 0.9950\n",
      "Epoch 47/100\n",
      "800/800 [==============================] - 4s 5ms/step - loss: 0.0107 - accuracy: 0.9950\n",
      "Epoch 48/100\n",
      "800/800 [==============================] - 3s 4ms/step - loss: 0.0102 - accuracy: 0.9950\n",
      "Epoch 49/100\n",
      "800/800 [==============================] - 4s 5ms/step - loss: 0.0160 - accuracy: 0.9912\n",
      "Epoch 50/100\n",
      "800/800 [==============================] - 4s 4ms/step - loss: 0.0120 - accuracy: 0.9937\n",
      "Epoch 51/100\n",
      "800/800 [==============================] - 3s 4ms/step - loss: 0.0130 - accuracy: 0.9937\n",
      "Epoch 52/100\n",
      "800/800 [==============================] - 3s 4ms/step - loss: 0.0122 - accuracy: 0.9925\n",
      "Epoch 53/100\n",
      "800/800 [==============================] - 3s 4ms/step - loss: 0.0112 - accuracy: 0.9937\n",
      "Epoch 54/100\n",
      "800/800 [==============================] - 3s 4ms/step - loss: 0.0117 - accuracy: 0.9962\n",
      "Epoch 55/100\n",
      "800/800 [==============================] - 3s 4ms/step - loss: 0.0106 - accuracy: 0.9950\n",
      "Epoch 56/100\n",
      "800/800 [==============================] - 3s 4ms/step - loss: 0.0105 - accuracy: 0.9937\n",
      "Epoch 57/100\n",
      "800/800 [==============================] - 3s 4ms/step - loss: 0.0121 - accuracy: 0.9937\n",
      "Epoch 58/100\n",
      "800/800 [==============================] - 3s 4ms/step - loss: 0.0110 - accuracy: 0.9962\n",
      "Epoch 59/100\n",
      "800/800 [==============================] - 3s 4ms/step - loss: 0.0093 - accuracy: 0.9937\n",
      "Epoch 60/100\n",
      "800/800 [==============================] - 4s 5ms/step - loss: 0.0125 - accuracy: 0.9962\n",
      "Epoch 61/100\n",
      "800/800 [==============================] - 4s 5ms/step - loss: 0.0101 - accuracy: 0.9950\n",
      "Epoch 62/100\n",
      "800/800 [==============================] - 3s 4ms/step - loss: 0.0110 - accuracy: 0.9950\n",
      "Epoch 63/100\n",
      "800/800 [==============================] - 4s 5ms/step - loss: 0.0101 - accuracy: 0.9925\n",
      "Epoch 64/100\n",
      "800/800 [==============================] - 4s 5ms/step - loss: 0.0096 - accuracy: 0.9962\n",
      "Epoch 65/100\n",
      "800/800 [==============================] - 3s 4ms/step - loss: 0.0100 - accuracy: 0.9937\n",
      "Epoch 66/100\n",
      "800/800 [==============================] - 3s 4ms/step - loss: 0.0092 - accuracy: 0.9950\n",
      "Epoch 67/100\n",
      "800/800 [==============================] - 3s 4ms/step - loss: 0.0093 - accuracy: 0.9962\n",
      "Epoch 68/100\n",
      "800/800 [==============================] - 3s 4ms/step - loss: 0.0097 - accuracy: 0.9950: 1s - loss: 0.0034 -  - ETA\n",
      "Epoch 69/100\n",
      "800/800 [==============================] - 3s 4ms/step - loss: 0.0096 - accuracy: 0.9962\n",
      "Epoch 70/100\n",
      "800/800 [==============================] - 3s 4ms/step - loss: 0.0097 - accuracy: 0.9962\n",
      "Epoch 71/100\n",
      "800/800 [==============================] - 3s 4ms/step - loss: 0.0095 - accuracy: 0.9950\n",
      "Epoch 72/100\n",
      "800/800 [==============================] - 3s 4ms/step - loss: 0.0090 - accuracy: 0.9962\n",
      "Epoch 73/100\n",
      "800/800 [==============================] - 3s 4ms/step - loss: 0.0085 - accuracy: 0.9925\n",
      "Epoch 74/100\n",
      "800/800 [==============================] - 4s 5ms/step - loss: 0.0096 - accuracy: 0.9962\n",
      "Epoch 75/100\n",
      "800/800 [==============================] - 4s 4ms/step - loss: 0.0087 - accuracy: 0.9950\n",
      "Epoch 76/100\n",
      "800/800 [==============================] - 3s 4ms/step - loss: 0.0082 - accuracy: 0.9950\n",
      "Epoch 77/100\n",
      "800/800 [==============================] - 3s 4ms/step - loss: 0.0086 - accuracy: 0.9962\n",
      "Epoch 78/100\n"
     ]
    },
    {
     "name": "stdout",
     "output_type": "stream",
     "text": [
      "800/800 [==============================] - 3s 4ms/step - loss: 0.0083 - accuracy: 0.9962\n",
      "Epoch 79/100\n",
      "800/800 [==============================] - 3s 4ms/step - loss: 0.0087 - accuracy: 0.9962\n",
      "Epoch 80/100\n",
      "800/800 [==============================] - 3s 4ms/step - loss: 0.0085 - accuracy: 0.9962\n",
      "Epoch 81/100\n",
      "800/800 [==============================] - 4s 4ms/step - loss: 0.0083 - accuracy: 0.9950\n",
      "Epoch 82/100\n",
      "800/800 [==============================] - 3s 4ms/step - loss: 0.0086 - accuracy: 0.9962\n",
      "Epoch 83/100\n",
      "800/800 [==============================] - 3s 4ms/step - loss: 0.0082 - accuracy: 0.9962\n",
      "Epoch 84/100\n",
      "800/800 [==============================] - 4s 5ms/step - loss: 0.0082 - accuracy: 0.9962\n",
      "Epoch 85/100\n",
      "800/800 [==============================] - 3s 4ms/step - loss: 0.0081 - accuracy: 0.9962\n",
      "Epoch 86/100\n",
      "800/800 [==============================] - 3s 4ms/step - loss: 0.0082 - accuracy: 0.9962\n",
      "Epoch 87/100\n",
      "800/800 [==============================] - 3s 4ms/step - loss: 0.0082 - accuracy: 0.9962\n",
      "Epoch 88/100\n",
      "800/800 [==============================] - 4s 5ms/step - loss: 0.0083 - accuracy: 0.9950\n",
      "Epoch 89/100\n",
      "800/800 [==============================] - 3s 4ms/step - loss: 0.0082 - accuracy: 0.9962\n",
      "Epoch 90/100\n",
      "800/800 [==============================] - 3s 4ms/step - loss: 0.0081 - accuracy: 0.9962\n",
      "Epoch 91/100\n",
      "800/800 [==============================] - 3s 4ms/step - loss: 0.0084 - accuracy: 0.9962\n",
      "Epoch 92/100\n",
      "800/800 [==============================] - 3s 4ms/step - loss: 0.0080 - accuracy: 0.9962\n",
      "Epoch 93/100\n",
      "800/800 [==============================] - 3s 4ms/step - loss: 0.0079 - accuracy: 0.9962\n",
      "Epoch 94/100\n",
      "800/800 [==============================] - 3s 4ms/step - loss: 0.0082 - accuracy: 0.9962\n",
      "Epoch 95/100\n",
      "800/800 [==============================] - 4s 5ms/step - loss: 0.0079 - accuracy: 0.9962\n",
      "Epoch 96/100\n",
      "800/800 [==============================] - 4s 4ms/step - loss: 0.0080 - accuracy: 0.9962\n",
      "Epoch 97/100\n",
      "800/800 [==============================] - 3s 4ms/step - loss: 0.0079 - accuracy: 0.9962\n",
      "Epoch 98/100\n",
      "800/800 [==============================] - 4s 5ms/step - loss: 0.0078 - accuracy: 0.9962\n",
      "Epoch 99/100\n",
      "800/800 [==============================] - 3s 4ms/step - loss: 0.0079 - accuracy: 0.9962: 1s\n",
      "Epoch 100/100\n",
      "800/800 [==============================] - 3s 4ms/step - loss: 0.0080 - accuracy: 0.9962\n"
     ]
    },
    {
     "data": {
      "text/plain": [
       "<keras.callbacks.callbacks.History at 0x211f18ac248>"
      ]
     },
     "execution_count": 29,
     "metadata": {},
     "output_type": "execute_result"
    }
   ],
   "source": [
    "# Fitting the ANN to the Training set\n",
    "cnn.fit(X_train, y_train, batch_size = 8, nb_epoch = 100)"
   ]
  },
  {
   "cell_type": "code",
   "execution_count": 30,
   "metadata": {},
   "outputs": [],
   "source": [
    "# Predicting the Test set results\n",
    "y_pred = cnn.predict(X_test)\n",
    "y_pred = (y_pred > 0.5)"
   ]
  },
  {
   "cell_type": "code",
   "execution_count": 31,
   "metadata": {},
   "outputs": [
    {
     "name": "stdout",
     "output_type": "stream",
     "text": [
      "[[77 20]\n",
      " [32 71]]\n"
     ]
    }
   ],
   "source": [
    "# Making the Confusion Matrix\n",
    "from sklearn.metrics import confusion_matrix\n",
    "cm = confusion_matrix(y_test, y_pred)\n",
    "print(cm)"
   ]
  }
 ],
 "metadata": {
  "kernelspec": {
   "display_name": "Python 3",
   "language": "python",
   "name": "python3"
  },
  "language_info": {
   "codemirror_mode": {
    "name": "ipython",
    "version": 3
   },
   "file_extension": ".py",
   "mimetype": "text/x-python",
   "name": "python",
   "nbconvert_exporter": "python",
   "pygments_lexer": "ipython3",
   "version": "3.7.6"
  }
 },
 "nbformat": 4,
 "nbformat_minor": 4
}
