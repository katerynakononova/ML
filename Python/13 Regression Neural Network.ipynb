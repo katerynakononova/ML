{
 "cells": [
  {
   "cell_type": "code",
   "execution_count": 36,
   "metadata": {},
   "outputs": [],
   "source": [
    "# Regression Neural Network"
   ]
  },
  {
   "cell_type": "code",
   "execution_count": 37,
   "metadata": {},
   "outputs": [],
   "source": [
    "# Importing the libraries\n",
    "import numpy as np\n",
    "import matplotlib.pyplot as plt\n",
    "import pandas as pd"
   ]
  },
  {
   "cell_type": "code",
   "execution_count": 47,
   "metadata": {},
   "outputs": [],
   "source": [
    "# Importing prepared dataset\n",
    "import pickle\n",
    "input = open('data_reg.pkl', 'rb')\n",
    "obj = pickle.load(input)\n",
    "input.close()\n",
    "X_train = obj[\"X_train\"]\n",
    "X_test = obj[\"X_test\"]\n",
    "y_train = obj[\"y_train\"]\n",
    "y_test = obj[\"y_test\"]"
   ]
  },
  {
   "cell_type": "code",
   "execution_count": 48,
   "metadata": {},
   "outputs": [],
   "source": [
    "# Feature Scaling\n",
    "from sklearn.preprocessing import StandardScaler\n",
    "sc_X = StandardScaler().fit(X_train)\n",
    "X_train = sc_X.transform(X_train)\n",
    "X_test = sc_X.transform(X_test)\n",
    "sc_y = StandardScaler().fit(np.array([[i] for i in y_train]))\n",
    "y_train = sc_y.transform(np.array([[i] for i in y_train]))\n",
    "y_test = sc_y.transform(np.array([[i] for i in y_test]))"
   ]
  },
  {
   "cell_type": "code",
   "execution_count": 49,
   "metadata": {},
   "outputs": [],
   "source": [
    "# Install Tensorflow\n",
    "# Install Keras\n",
    "# Importing the Keras libraries and packages\n",
    "import keras\n",
    "from keras.models import Sequential\n",
    "from keras.layers import Dense"
   ]
  },
  {
   "cell_type": "code",
   "execution_count": 50,
   "metadata": {},
   "outputs": [
    {
     "name": "stderr",
     "output_type": "stream",
     "text": [
      "C:\\Users\\kater\\anaconda3\\lib\\site-packages\\ipykernel_launcher.py:5: UserWarning: Update your `Dense` call to the Keras 2 API: `Dense(activation=\"tanh\", input_dim=3, units=6)`\n",
      "  \"\"\"\n",
      "C:\\Users\\kater\\anaconda3\\lib\\site-packages\\ipykernel_launcher.py:8: UserWarning: Update your `Dense` call to the Keras 2 API: `Dense(activation=\"tanh\", units=4)`\n",
      "  \n",
      "C:\\Users\\kater\\anaconda3\\lib\\site-packages\\ipykernel_launcher.py:11: UserWarning: Update your `Dense` call to the Keras 2 API: `Dense(activation=\"linear\", units=1)`\n",
      "  # This is added back by InteractiveShellApp.init_path()\n"
     ]
    }
   ],
   "source": [
    "# Initialising the ANN\n",
    "rnn = Sequential()\n",
    "\n",
    "# Adding the input layer and the first hidden layer\n",
    "rnn.add(Dense(output_dim = 6, activation = 'tanh', input_dim = 3))\n",
    "\n",
    "# Adding the second hidden layer\n",
    "rnn.add(Dense(output_dim = 4, activation = 'tanh'))\n",
    "\n",
    "# Adding the output layer\n",
    "rnn.add(Dense(output_dim = 1, activation = 'linear'))\n",
    "\n",
    "# Compiling the ANN\n",
    "rnn.compile(optimizer='adam', loss='mean_squared_error', metrics = ['accuracy'])"
   ]
  },
  {
   "cell_type": "code",
   "execution_count": 51,
   "metadata": {},
   "outputs": [
    {
     "name": "stderr",
     "output_type": "stream",
     "text": [
      "C:\\Users\\kater\\anaconda3\\lib\\site-packages\\ipykernel_launcher.py:2: UserWarning: The `nb_epoch` argument in `fit` has been renamed `epochs`.\n",
      "  \n"
     ]
    },
    {
     "name": "stdout",
     "output_type": "stream",
     "text": [
      "Epoch 1/100\n",
      "173/173 [==============================] - 1s 4ms/step - loss: 0.7812 - accuracy: 0.0000e+00\n",
      "Epoch 2/100\n",
      "173/173 [==============================] - 0s 531us/step - loss: 0.6442 - accuracy: 0.0000e+00\n",
      "Epoch 3/100\n",
      "173/173 [==============================] - 0s 572us/step - loss: 0.5604 - accuracy: 0.0000e+00\n",
      "Epoch 4/100\n",
      "173/173 [==============================] - 0s 630us/step - loss: 0.5061 - accuracy: 0.0000e+00\n",
      "Epoch 5/100\n",
      "173/173 [==============================] - 0s 1ms/step - loss: 0.4708 - accuracy: 0.0000e+00\n",
      "Epoch 6/100\n",
      "173/173 [==============================] - 0s 835us/step - loss: 0.4471 - accuracy: 0.0000e+00\n",
      "Epoch 7/100\n",
      "173/173 [==============================] - 0s 687us/step - loss: 0.4268 - accuracy: 0.0000e+00\n",
      "Epoch 8/100\n",
      "173/173 [==============================] - 0s 761us/step - loss: 0.4122 - accuracy: 0.0000e+00\n",
      "Epoch 9/100\n",
      "173/173 [==============================] - 0s 786us/step - loss: 0.3986 - accuracy: 0.0000e+00\n",
      "Epoch 10/100\n",
      "173/173 [==============================] - ETA: 0s - loss: 0.4042 - accuracy: 0.0000e+ - 0s 1ms/step - loss: 0.3843 - accuracy: 0.0000e+00\n",
      "Epoch 11/100\n",
      "173/173 [==============================] - 0s 1ms/step - loss: 0.3714 - accuracy: 0.0000e+00\n",
      "Epoch 12/100\n",
      "173/173 [==============================] - 0s 653us/step - loss: 0.3597 - accuracy: 0.0000e+00\n",
      "Epoch 13/100\n",
      "173/173 [==============================] - 0s 838us/step - loss: 0.3491 - accuracy: 0.0000e+00\n",
      "Epoch 14/100\n",
      "173/173 [==============================] - 0s 612us/step - loss: 0.3386 - accuracy: 0.0000e+00\n",
      "Epoch 15/100\n",
      "173/173 [==============================] - 0s 751us/step - loss: 0.3287 - accuracy: 0.0000e+00\n",
      "Epoch 16/100\n",
      "173/173 [==============================] - 0s 682us/step - loss: 0.3218 - accuracy: 0.0000e+00\n",
      "Epoch 17/100\n",
      "173/173 [==============================] - 0s 549us/step - loss: 0.3106 - accuracy: 0.0000e+00\n",
      "Epoch 18/100\n",
      "173/173 [==============================] - 0s 1ms/step - loss: 0.3039 - accuracy: 0.0000e+00\n",
      "Epoch 19/100\n",
      "173/173 [==============================] - 0s 497us/step - loss: 0.2970 - accuracy: 0.0000e+00\n",
      "Epoch 20/100\n",
      "173/173 [==============================] - 0s 739us/step - loss: 0.2909 - accuracy: 0.0000e+00\n",
      "Epoch 21/100\n",
      "173/173 [==============================] - 0s 716us/step - loss: 0.2845 - accuracy: 0.0000e+00\n",
      "Epoch 22/100\n",
      "173/173 [==============================] - 0s 555us/step - loss: 0.2788 - accuracy: 0.0000e+00\n",
      "Epoch 23/100\n",
      "173/173 [==============================] - 0s 864us/step - loss: 0.2736 - accuracy: 0.0000e+00\n",
      "Epoch 24/100\n",
      "173/173 [==============================] - 0s 791us/step - loss: 0.2699 - accuracy: 0.0000e+00\n",
      "Epoch 25/100\n",
      "173/173 [==============================] - 0s 997us/step - loss: 0.2647 - accuracy: 0.0000e+00\n",
      "Epoch 26/100\n",
      "173/173 [==============================] - 0s 786us/step - loss: 0.2612 - accuracy: 0.0000e+00\n",
      "Epoch 27/100\n",
      "173/173 [==============================] - 0s 890us/step - loss: 0.2576 - accuracy: 0.0000e+00\n",
      "Epoch 28/100\n",
      "173/173 [==============================] - 0s 745us/step - loss: 0.2573 - accuracy: 0.0000e+00\n",
      "Epoch 29/100\n",
      "173/173 [==============================] - 0s 537us/step - loss: 0.2513 - accuracy: 0.0000e+00\n",
      "Epoch 30/100\n",
      "173/173 [==============================] - 0s 520us/step - loss: 0.2494 - accuracy: 0.0000e+00\n",
      "Epoch 31/100\n",
      "173/173 [==============================] - 0s 665us/step - loss: 0.2460 - accuracy: 0.0000e+00\n",
      "Epoch 32/100\n",
      "173/173 [==============================] - 0s 526us/step - loss: 0.2446 - accuracy: 0.0000e+00\n",
      "Epoch 33/100\n",
      "173/173 [==============================] - 0s 578us/step - loss: 0.2422 - accuracy: 0.0000e+00\n",
      "Epoch 34/100\n",
      "173/173 [==============================] - 0s 734us/step - loss: 0.2407 - accuracy: 0.0000e+00\n",
      "Epoch 35/100\n",
      "173/173 [==============================] - 0s 642us/step - loss: 0.2383 - accuracy: 0.0000e+00\n",
      "Epoch 36/100\n",
      "173/173 [==============================] - 0s 578us/step - loss: 0.2377 - accuracy: 0.0000e+00\n",
      "Epoch 37/100\n",
      "173/173 [==============================] - 0s 612us/step - loss: 0.2338 - accuracy: 0.0000e+00\n",
      "Epoch 38/100\n",
      "173/173 [==============================] - 0s 922us/step - loss: 0.2344 - accuracy: 0.0000e+00\n",
      "Epoch 39/100\n",
      "173/173 [==============================] - 0s 624us/step - loss: 0.2309 - accuracy: 0.0000e+00\n",
      "Epoch 40/100\n",
      "173/173 [==============================] - 0s 665us/step - loss: 0.2292 - accuracy: 0.0000e+00\n",
      "Epoch 41/100\n",
      "173/173 [==============================] - 0s 688us/step - loss: 0.2278 - accuracy: 0.0000e+00\n",
      "Epoch 42/100\n",
      "173/173 [==============================] - 0s 745us/step - loss: 0.2254 - accuracy: 0.0000e+00\n",
      "Epoch 43/100\n",
      "173/173 [==============================] - 0s 873us/step - loss: 0.2253 - accuracy: 0.0000e+00\n",
      "Epoch 44/100\n",
      "173/173 [==============================] - 0s 468us/step - loss: 0.2229 - accuracy: 0.0000e+00\n",
      "Epoch 45/100\n",
      "173/173 [==============================] - 0s 642us/step - loss: 0.2226 - accuracy: 0.0000e+00\n",
      "Epoch 46/100\n",
      "173/173 [==============================] - 0s 618us/step - loss: 0.2210 - accuracy: 0.0000e+00\n",
      "Epoch 47/100\n",
      "173/173 [==============================] - 0s 590us/step - loss: 0.2188 - accuracy: 0.0000e+00\n",
      "Epoch 48/100\n",
      "173/173 [==============================] - 0s 942us/step - loss: 0.2200 - accuracy: 0.0000e+00\n",
      "Epoch 49/100\n",
      "173/173 [==============================] - 0s 821us/step - loss: 0.2176 - accuracy: 0.0000e+00\n",
      "Epoch 50/100\n",
      "173/173 [==============================] - 0s 584us/step - loss: 0.2158 - accuracy: 0.0000e+00\n",
      "Epoch 51/100\n",
      "173/173 [==============================] - 0s 740us/step - loss: 0.2149 - accuracy: 0.0000e+00\n",
      "Epoch 52/100\n",
      "173/173 [==============================] - 0s 760us/step - loss: 0.2135 - accuracy: 0.0000e+00\n",
      "Epoch 53/100\n",
      "173/173 [==============================] - 0s 480us/step - loss: 0.2132 - accuracy: 0.0000e+00\n",
      "Epoch 54/100\n",
      "173/173 [==============================] - 0s 526us/step - loss: 0.2104 - accuracy: 0.0000e+00\n",
      "Epoch 55/100\n",
      "173/173 [==============================] - 0s 656us/step - loss: 0.2101 - accuracy: 0.0000e+00\n",
      "Epoch 56/100\n",
      "173/173 [==============================] - 0s 764us/step - loss: 0.2090 - accuracy: 0.0000e+00\n",
      "Epoch 57/100\n",
      "173/173 [==============================] - 0s 503us/step - loss: 0.2082 - accuracy: 0.0000e+00\n",
      "Epoch 58/100\n",
      "173/173 [==============================] - 0s 558us/step - loss: 0.2075 - accuracy: 0.0000e+00\n",
      "Epoch 59/100\n",
      "173/173 [==============================] - 0s 693us/step - loss: 0.2073 - accuracy: 0.0000e+00\n",
      "Epoch 60/100\n",
      "173/173 [==============================] - 0s 739us/step - loss: 0.2060 - accuracy: 0.0000e+00\n",
      "Epoch 61/100\n",
      "173/173 [==============================] - ETA: 0s - loss: 0.2520 - accuracy: 0.0000e+ - 0s 627us/step - loss: 0.2057 - accuracy: 0.0000e+00\n",
      "Epoch 62/100\n",
      "173/173 [==============================] - 0s 728us/step - loss: 0.2052 - accuracy: 0.0000e+00\n",
      "Epoch 63/100\n",
      "173/173 [==============================] - 0s 687us/step - loss: 0.2023 - accuracy: 0.0000e+00\n",
      "Epoch 64/100\n",
      "173/173 [==============================] - 0s 612us/step - loss: 0.2039 - accuracy: 0.0000e+00\n",
      "Epoch 65/100\n",
      "173/173 [==============================] - 0s 572us/step - loss: 0.2002 - accuracy: 0.0000e+00\n",
      "Epoch 66/100\n",
      "173/173 [==============================] - 0s 745us/step - loss: 0.2009 - accuracy: 0.0000e+00\n",
      "Epoch 67/100\n",
      "173/173 [==============================] - 0s 635us/step - loss: 0.2012 - accuracy: 0.0000e+00\n",
      "Epoch 68/100\n",
      "173/173 [==============================] - 0s 534us/step - loss: 0.2009 - accuracy: 0.0000e+00\n",
      "Epoch 69/100\n",
      "173/173 [==============================] - 0s 572us/step - loss: 0.1986 - accuracy: 0.0000e+00\n",
      "Epoch 70/100\n",
      "173/173 [==============================] - 0s 687us/step - loss: 0.1974 - accuracy: 0.0000e+00\n",
      "Epoch 71/100\n",
      "173/173 [==============================] - 0s 699us/step - loss: 0.1982 - accuracy: 0.0000e+00\n",
      "Epoch 72/100\n",
      "173/173 [==============================] - 0s 803us/step - loss: 0.1967 - accuracy: 0.0000e+00\n",
      "Epoch 73/100\n",
      "173/173 [==============================] - 0s 800us/step - loss: 0.1951 - accuracy: 0.0000e+00\n",
      "Epoch 74/100\n",
      "173/173 [==============================] - 0s 549us/step - loss: 0.1945 - accuracy: 0.0000e+00\n",
      "Epoch 75/100\n",
      "173/173 [==============================] - 0s 537us/step - loss: 0.1943 - accuracy: 0.0000e+00\n",
      "Epoch 76/100\n"
     ]
    },
    {
     "name": "stdout",
     "output_type": "stream",
     "text": [
      "173/173 [==============================] - 0s 578us/step - loss: 0.1941 - accuracy: 0.0000e+00\n",
      "Epoch 77/100\n",
      "173/173 [==============================] - 0s 531us/step - loss: 0.1933 - accuracy: 0.0000e+00\n",
      "Epoch 78/100\n",
      "173/173 [==============================] - 0s 572us/step - loss: 0.1932 - accuracy: 0.0000e+00\n",
      "Epoch 79/100\n",
      "173/173 [==============================] - 0s 552us/step - loss: 0.1921 - accuracy: 0.0000e+000s - loss: 0.1984 - accuracy: 0.0000e+\n",
      "Epoch 80/100\n",
      "173/173 [==============================] - 0s 664us/step - loss: 0.1912 - accuracy: 0.0000e+00\n",
      "Epoch 81/100\n",
      "173/173 [==============================] - 0s 595us/step - loss: 0.1901 - accuracy: 0.0000e+00\n",
      "Epoch 82/100\n",
      "173/173 [==============================] - 0s 520us/step - loss: 0.1897 - accuracy: 0.0000e+00\n",
      "Epoch 83/100\n",
      "173/173 [==============================] - 0s 572us/step - loss: 0.1893 - accuracy: 0.0000e+00\n",
      "Epoch 84/100\n",
      "173/173 [==============================] - 0s 485us/step - loss: 0.1871 - accuracy: 0.0000e+00\n",
      "Epoch 85/100\n",
      "173/173 [==============================] - 0s 474us/step - loss: 0.1874 - accuracy: 0.0000e+00\n",
      "Epoch 86/100\n",
      "173/173 [==============================] - 0s 479us/step - loss: 0.1902 - accuracy: 0.0000e+00\n",
      "Epoch 87/100\n",
      "173/173 [==============================] - 0s 497us/step - loss: 0.1875 - accuracy: 0.0000e+00\n",
      "Epoch 88/100\n",
      "173/173 [==============================] - 0s 526us/step - loss: 0.1876 - accuracy: 0.0000e+00\n",
      "Epoch 89/100\n",
      "173/173 [==============================] - 0s 537us/step - loss: 0.1851 - accuracy: 0.0000e+00\n",
      "Epoch 90/100\n",
      "173/173 [==============================] - 0s 624us/step - loss: 0.1842 - accuracy: 0.0000e+00\n",
      "Epoch 91/100\n",
      "173/173 [==============================] - 0s 468us/step - loss: 0.1850 - accuracy: 0.0000e+00\n",
      "Epoch 92/100\n",
      "173/173 [==============================] - 0s 456us/step - loss: 0.1866 - accuracy: 0.0000e+00\n",
      "Epoch 93/100\n",
      "173/173 [==============================] - 0s 416us/step - loss: 0.1857 - accuracy: 0.0000e+00\n",
      "Epoch 94/100\n",
      "173/173 [==============================] - 0s 433us/step - loss: 0.1820 - accuracy: 0.0000e+00\n",
      "Epoch 95/100\n",
      "173/173 [==============================] - 0s 445us/step - loss: 0.1845 - accuracy: 0.0000e+00\n",
      "Epoch 96/100\n",
      "173/173 [==============================] - 0s 503us/step - loss: 0.1816 - accuracy: 0.0000e+00\n",
      "Epoch 97/100\n",
      "173/173 [==============================] - 0s 456us/step - loss: 0.1810 - accuracy: 0.0000e+00\n",
      "Epoch 98/100\n",
      "173/173 [==============================] - 0s 445us/step - loss: 0.1798 - accuracy: 0.0000e+00\n",
      "Epoch 99/100\n",
      "173/173 [==============================] - 0s 433us/step - loss: 0.1798 - accuracy: 0.0000e+00\n",
      "Epoch 100/100\n",
      "173/173 [==============================] - 0s 447us/step - loss: 0.1797 - accuracy: 0.0000e+00\n"
     ]
    },
    {
     "data": {
      "text/plain": [
       "<keras.callbacks.callbacks.History at 0x150f5034888>"
      ]
     },
     "execution_count": 51,
     "metadata": {},
     "output_type": "execute_result"
    }
   ],
   "source": [
    "# Fitting the ANN to the Training set\n",
    "rnn.fit(X_train, y_train, batch_size = 8, nb_epoch = 100)"
   ]
  },
  {
   "cell_type": "code",
   "execution_count": 52,
   "metadata": {},
   "outputs": [],
   "source": [
    "# Predicting the Test set results\n",
    "y_pred = rnn.predict(X_test)"
   ]
  },
  {
   "cell_type": "code",
   "execution_count": 53,
   "metadata": {},
   "outputs": [],
   "source": [
    "# Inversing scaling\n",
    "#yhat = pd.DataFrame(yhat, columns=['yhat']) \n",
    "from sklearn.preprocessing import StandardScaler\n",
    "y_hat = sc_y.inverse_transform(y_pred)\n",
    "y_test = sc_y.inverse_transform(y_test)\n",
    "X_test = sc_X.inverse_transform(X_test)"
   ]
  },
  {
   "cell_type": "code",
   "execution_count": 54,
   "metadata": {},
   "outputs": [
    {
     "data": {
      "text/plain": [
       "700605035.4267685"
      ]
     },
     "execution_count": 54,
     "metadata": {},
     "output_type": "execute_result"
    }
   ],
   "source": [
    "# Mean squared error\n",
    "from sklearn.metrics import mean_squared_error\n",
    "mean_squared_error(y_test, y_hat)"
   ]
  },
  {
   "cell_type": "code",
   "execution_count": 55,
   "metadata": {},
   "outputs": [
    {
     "data": {
      "image/png": "[encoded data removed]",
      "text/plain": [
       "<Figure size 432x288 with 1 Axes>"
      ]
     },
     "metadata": {
      "needs_background": "light"
     },
     "output_type": "display_data"
    }
   ],
   "source": [
    "# Visualising the Test set results\n",
    "plt.scatter(X_test[:,2], y_test, color = 'red')\n",
    "plt.plot(X_test[:,2], y_hat, 'bo')\n",
    "plt.title('Price vs M2 (Test set)')\n",
    "plt.xlabel('M2')\n",
    "plt.ylabel('Price')\n",
    "plt.show()"
   ]
  }
 ],
 "metadata": {
  "kernelspec": {
   "display_name": "Python 3",
   "language": "python",
   "name": "python3"
  },
  "language_info": {
   "codemirror_mode": {
    "name": "ipython",
    "version": 3
   },
   "file_extension": ".py",
   "mimetype": "text/x-python",
   "name": "python",
   "nbconvert_exporter": "python",
   "pygments_lexer": "ipython3",
   "version": "3.7.6"
  }
 },
 "nbformat": 4,
 "nbformat_minor": 4
}
