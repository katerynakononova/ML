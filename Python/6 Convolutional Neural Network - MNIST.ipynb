{
 "cells": [
  {
   "cell_type": "code",
   "execution_count": 1,
   "metadata": {},
   "outputs": [],
   "source": [
    "# Convolutional Neural Network"
   ]
  },
  {
   "cell_type": "code",
   "execution_count": 2,
   "metadata": {},
   "outputs": [],
   "source": [
    "from __future__ import print_function\n",
    "# Importing the Keras libraries and packages\n",
    "import keras\n",
    "from keras.datasets import mnist\n",
    "from keras.models import Sequential\n",
    "from keras.layers import Dense, Dropout, Flatten\n",
    "from keras.layers import Conv2D, MaxPooling2D\n",
    "from keras import backend as K"
   ]
  },
  {
   "cell_type": "code",
   "execution_count": 3,
   "metadata": {},
   "outputs": [
    {
     "name": "stdout",
     "output_type": "stream",
     "text": [
      "x_train shape: (60000, 28, 28, 1)\n",
      "60000 train samples\n",
      "10000 test samples\n"
     ]
    }
   ],
   "source": [
    "# Preparing data\n",
    "batch_size = 128\n",
    "num_classes = 10\n",
    "epochs = 12\n",
    "\n",
    "# input image dimensions\n",
    "img_rows, img_cols = 28, 28\n",
    "\n",
    "# the data, split between train and test sets\n",
    "(x_train, y_train), (x_test, y_test) = mnist.load_data()\n",
    "\n",
    "if K.image_data_format() == 'channels_first':\n",
    "    x_train = x_train.reshape(x_train.shape[0], 1, img_rows, img_cols)\n",
    "    x_test = x_test.reshape(x_test.shape[0], 1, img_rows, img_cols)\n",
    "    input_shape = (1, img_rows, img_cols)\n",
    "else:\n",
    "    x_train = x_train.reshape(x_train.shape[0], img_rows, img_cols, 1)\n",
    "    x_test = x_test.reshape(x_test.shape[0], img_rows, img_cols, 1)\n",
    "    input_shape = (img_rows, img_cols, 1)\n",
    "\n",
    "x_train = x_train.astype('float32')\n",
    "x_test = x_test.astype('float32')\n",
    "x_train /= 255\n",
    "x_test /= 255\n",
    "print('x_train shape:', x_train.shape)\n",
    "print(x_train.shape[0], 'train samples')\n",
    "print(x_test.shape[0], 'test samples')\n",
    "\n",
    "# convert class vectors to binary class matrices\n",
    "y_train = keras.utils.to_categorical(y_train, num_classes)\n",
    "y_test = keras.utils.to_categorical(y_test, num_classes)"
   ]
  },
  {
   "cell_type": "code",
   "execution_count": 4,
   "metadata": {
    "scrolled": true
   },
   "outputs": [
    {
     "name": "stdout",
     "output_type": "stream",
     "text": [
      "WARNING:tensorflow:From C:\\Users\\kater\\anaconda3\\lib\\site-packages\\keras\\backend\\tensorflow_backend.py:4070: The name tf.nn.max_pool is deprecated. Please use tf.nn.max_pool2d instead.\n",
      "\n",
      "WARNING:tensorflow:From C:\\Users\\kater\\anaconda3\\lib\\site-packages\\keras\\backend\\tensorflow_backend.py:422: The name tf.global_variables is deprecated. Please use tf.compat.v1.global_variables instead.\n",
      "\n",
      "Train on 60000 samples, validate on 10000 samples\n",
      "Epoch 1/12\n",
      "60000/60000 [==============================] - 71s 1ms/step - loss: 0.3029 - accuracy: 0.9054 - val_loss: 0.0664 - val_accuracy: 0.9790\n",
      "Epoch 2/12\n",
      "60000/60000 [==============================] - 66s 1ms/step - loss: 0.1055 - accuracy: 0.9683 - val_loss: 0.0445 - val_accuracy: 0.9853\n",
      "Epoch 3/12\n",
      "60000/60000 [==============================] - 70s 1ms/step - loss: 0.0812 - accuracy: 0.9756 - val_loss: 0.0386 - val_accuracy: 0.9873\n",
      "Epoch 4/12\n",
      "60000/60000 [==============================] - 73s 1ms/step - loss: 0.0669 - accuracy: 0.9791 - val_loss: 0.0298 - val_accuracy: 0.9899\n",
      "Epoch 5/12\n",
      "60000/60000 [==============================] - 75s 1ms/step - loss: 0.0569 - accuracy: 0.9823 - val_loss: 0.0299 - val_accuracy: 0.9896\n",
      "Epoch 6/12\n",
      "60000/60000 [==============================] - 75s 1ms/step - loss: 0.0535 - accuracy: 0.9836 - val_loss: 0.0262 - val_accuracy: 0.9919\n",
      "Epoch 7/12\n",
      "60000/60000 [==============================] - 76s 1ms/step - loss: 0.0471 - accuracy: 0.9855 - val_loss: 0.0260 - val_accuracy: 0.9919\n",
      "Epoch 8/12\n",
      "60000/60000 [==============================] - 101s 2ms/step - loss: 0.0446 - accuracy: 0.9866 - val_loss: 0.0250 - val_accuracy: 0.9909\n",
      "Epoch 9/12\n",
      "60000/60000 [==============================] - 100s 2ms/step - loss: 0.0416 - accuracy: 0.9869 - val_loss: 0.0235 - val_accuracy: 0.9921\n",
      "Epoch 10/12\n",
      "60000/60000 [==============================] - 95s 2ms/step - loss: 0.0387 - accuracy: 0.9877 - val_loss: 0.0203 - val_accuracy: 0.9930\n",
      "Epoch 11/12\n",
      "60000/60000 [==============================] - 98s 2ms/step - loss: 0.0355 - accuracy: 0.9891 - val_loss: 0.0271 - val_accuracy: 0.9917\n",
      "Epoch 12/12\n",
      "60000/60000 [==============================] - 99s 2ms/step - loss: 0.0360 - accuracy: 0.9895 - val_loss: 0.0226 - val_accuracy: 0.9927\n",
      "Test loss: 0.022577973719315195\n",
      "Test accuracy: 0.9926999807357788\n"
     ]
    }
   ],
   "source": [
    "# Creating and fitting model\n",
    "model = Sequential()\n",
    "model.add(Conv2D(32, kernel_size=(3, 3),\n",
    "                 activation='relu',\n",
    "                 input_shape=input_shape))\n",
    "model.add(MaxPooling2D(pool_size=(2, 2)))\n",
    "model.add(Conv2D(64, (3, 3), activation='relu'))\n",
    "model.add(MaxPooling2D(pool_size=(2, 2)))\n",
    "model.add(Dropout(0.25))\n",
    "model.add(Flatten())\n",
    "model.add(Dense(128, activation='relu'))\n",
    "model.add(Dropout(0.5))\n",
    "model.add(Dense(num_classes, activation='softmax'))\n",
    "\n",
    "model.compile(loss=keras.losses.categorical_crossentropy,\n",
    "              optimizer=keras.optimizers.Adadelta(),\n",
    "              metrics=['accuracy'])\n",
    "\n",
    "model.fit(x_train, y_train,\n",
    "          batch_size=batch_size,\n",
    "          epochs=epochs,\n",
    "          verbose=1,\n",
    "          validation_data=(x_test, y_test))\n",
    "score = model.evaluate(x_test, y_test, verbose=0)\n",
    "print('Test loss:', score[0])\n",
    "print('Test accuracy:', score[1])"
   ]
  }
 ],
 "metadata": {
  "kernelspec": {
   "display_name": "Python 3 (ipykernel)",
   "language": "python",
   "name": "python3"
  },
  "language_info": {
   "codemirror_mode": {
    "name": "ipython",
    "version": 3
   },
   "file_extension": ".py",
   "mimetype": "text/x-python",
   "name": "python",
   "nbconvert_exporter": "python",
   "pygments_lexer": "ipython3",
   "version": "3.8.11"
  }
 },
 "nbformat": 4,
 "nbformat_minor": 4
}
