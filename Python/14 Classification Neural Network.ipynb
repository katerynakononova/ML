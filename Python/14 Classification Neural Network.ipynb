{
 "cells": [
  {
   "cell_type": "markdown",
   "metadata": {},
   "source": [
    "# Classification Neural Network"
   ]
  },
  {
   "cell_type": "code",
   "execution_count": 1,
   "metadata": {},
   "outputs": [],
   "source": [
    "# Importing the libraries\n",
    "import numpy as np\n",
    "import matplotlib.pyplot as plt\n",
    "import pandas as pd"
   ]
  },
  {
   "cell_type": "code",
   "execution_count": 2,
   "metadata": {},
   "outputs": [],
   "source": [
    "# Importing prepared dataset\n",
    "import pickle\n",
    "input = open('data.pkl', 'rb')\n",
    "obj = pickle.load(input)\n",
    "input.close()\n",
    "X_train = obj[\"X_train\"]\n",
    "X_test = obj[\"X_test\"]\n",
    "y_train = obj[\"y_train\"]\n",
    "y_test = obj[\"y_test\"]"
   ]
  },
  {
   "cell_type": "code",
   "execution_count": 3,
   "metadata": {},
   "outputs": [],
   "source": [
    "# Install Tensorflow\n",
    "# Install Keras\n",
    "# Importing the Keras libraries and packages\n",
    "import keras\n",
    "from keras.models import Sequential\n",
    "from keras.layers import Dense"
   ]
  },
  {
   "cell_type": "code",
   "execution_count": 19,
   "metadata": {},
   "outputs": [],
   "source": [
    "# Initialising the ANN\n",
    "cnn = Sequential()\n",
    "\n",
    "# Adding the input layer and the first hidden layer\n",
    "cnn.add(Dense(2, activation = 'relu', input_dim = 2))\n",
    "\n",
    "# Adding the output layer\n",
    "cnn.add(Dense(2, activation = 'sigmoid'))\n",
    "\n",
    "# Adding the output layer\n",
    "cnn.add(Dense(1, activation = 'sigmoid'))\n",
    "\n",
    "# Compiling the ANN\n",
    "cnn.compile(optimizer = 'adam', loss = 'binary_crossentropy', metrics = ['accuracy'])"
   ]
  },
  {
   "cell_type": "code",
   "execution_count": 5,
   "metadata": {},
   "outputs": [],
   "source": [
    "import sys\n",
    "sys.setrecursionlimit(10000)"
   ]
  },
  {
   "cell_type": "code",
   "execution_count": 20,
   "metadata": {},
   "outputs": [
    {
     "name": "stdout",
     "output_type": "stream",
     "text": [
      "Epoch 1/100\n",
      "8/8 [==============================] - 1s 34ms/step - loss: 0.7247 - accuracy: 0.4979 - val_loss: 0.7154 - val_accuracy: 0.5500\n",
      "Epoch 2/100\n",
      "8/8 [==============================] - 0s 8ms/step - loss: 0.7227 - accuracy: 0.4979 - val_loss: 0.7142 - val_accuracy: 0.5500\n",
      "Epoch 3/100\n",
      "8/8 [==============================] - 0s 16ms/step - loss: 0.7210 - accuracy: 0.4917 - val_loss: 0.7130 - val_accuracy: 0.5333\n",
      "Epoch 4/100\n",
      "8/8 [==============================] - 0s 10ms/step - loss: 0.7194 - accuracy: 0.4854 - val_loss: 0.7119 - val_accuracy: 0.5250\n",
      "Epoch 5/100\n",
      "8/8 [==============================] - 0s 10ms/step - loss: 0.7179 - accuracy: 0.4729 - val_loss: 0.7109 - val_accuracy: 0.5250\n",
      "Epoch 6/100\n",
      "8/8 [==============================] - 0s 11ms/step - loss: 0.7163 - accuracy: 0.4646 - val_loss: 0.7098 - val_accuracy: 0.5250\n",
      "Epoch 7/100\n",
      "8/8 [==============================] - 0s 10ms/step - loss: 0.7150 - accuracy: 0.4646 - val_loss: 0.7088 - val_accuracy: 0.5083\n",
      "Epoch 8/100\n",
      "8/8 [==============================] - 0s 12ms/step - loss: 0.7137 - accuracy: 0.4604 - val_loss: 0.7078 - val_accuracy: 0.4917\n",
      "Epoch 9/100\n",
      "8/8 [==============================] - 0s 11ms/step - loss: 0.7125 - accuracy: 0.4479 - val_loss: 0.7069 - val_accuracy: 0.4917\n",
      "Epoch 10/100\n",
      "8/8 [==============================] - 0s 9ms/step - loss: 0.7114 - accuracy: 0.4437 - val_loss: 0.7061 - val_accuracy: 0.4917\n",
      "Epoch 11/100\n",
      "8/8 [==============================] - 0s 11ms/step - loss: 0.7101 - accuracy: 0.4292 - val_loss: 0.7053 - val_accuracy: 0.4917\n",
      "Epoch 12/100\n",
      "8/8 [==============================] - 0s 11ms/step - loss: 0.7091 - accuracy: 0.4250 - val_loss: 0.7045 - val_accuracy: 0.4833\n",
      "Epoch 13/100\n",
      "8/8 [==============================] - 0s 10ms/step - loss: 0.7081 - accuracy: 0.4208 - val_loss: 0.7038 - val_accuracy: 0.4667\n",
      "Epoch 14/100\n",
      "8/8 [==============================] - 0s 9ms/step - loss: 0.7071 - accuracy: 0.4167 - val_loss: 0.7031 - val_accuracy: 0.4667\n",
      "Epoch 15/100\n",
      "8/8 [==============================] - 0s 11ms/step - loss: 0.7062 - accuracy: 0.4146 - val_loss: 0.7024 - val_accuracy: 0.4583\n",
      "Epoch 16/100\n",
      "8/8 [==============================] - 0s 10ms/step - loss: 0.7053 - accuracy: 0.4146 - val_loss: 0.7017 - val_accuracy: 0.4583\n",
      "Epoch 17/100\n",
      "8/8 [==============================] - 0s 10ms/step - loss: 0.7045 - accuracy: 0.4104 - val_loss: 0.7011 - val_accuracy: 0.4417\n",
      "Epoch 18/100\n",
      "8/8 [==============================] - 0s 11ms/step - loss: 0.7037 - accuracy: 0.3833 - val_loss: 0.7006 - val_accuracy: 0.4167\n",
      "Epoch 19/100\n",
      "8/8 [==============================] - 0s 10ms/step - loss: 0.7030 - accuracy: 0.3604 - val_loss: 0.7002 - val_accuracy: 0.3750\n",
      "Epoch 20/100\n",
      "8/8 [==============================] - 0s 10ms/step - loss: 0.7023 - accuracy: 0.3438 - val_loss: 0.6998 - val_accuracy: 0.3583\n",
      "Epoch 21/100\n",
      "8/8 [==============================] - 0s 10ms/step - loss: 0.7016 - accuracy: 0.3250 - val_loss: 0.6993 - val_accuracy: 0.3583\n",
      "Epoch 22/100\n",
      "8/8 [==============================] - 0s 11ms/step - loss: 0.7009 - accuracy: 0.3187 - val_loss: 0.6988 - val_accuracy: 0.3583\n",
      "Epoch 23/100\n",
      "8/8 [==============================] - 0s 10ms/step - loss: 0.7003 - accuracy: 0.3250 - val_loss: 0.6983 - val_accuracy: 0.3583\n",
      "Epoch 24/100\n",
      "8/8 [==============================] - 0s 10ms/step - loss: 0.6998 - accuracy: 0.3104 - val_loss: 0.6980 - val_accuracy: 0.3583\n",
      "Epoch 25/100\n",
      "8/8 [==============================] - 0s 10ms/step - loss: 0.6992 - accuracy: 0.3083 - val_loss: 0.6975 - val_accuracy: 0.3500\n",
      "Epoch 26/100\n",
      "8/8 [==============================] - 0s 12ms/step - loss: 0.6988 - accuracy: 0.3063 - val_loss: 0.6973 - val_accuracy: 0.3333\n",
      "Epoch 27/100\n",
      "8/8 [==============================] - 0s 10ms/step - loss: 0.6982 - accuracy: 0.3021 - val_loss: 0.6969 - val_accuracy: 0.3417\n",
      "Epoch 28/100\n",
      "8/8 [==============================] - 0s 10ms/step - loss: 0.6978 - accuracy: 0.3000 - val_loss: 0.6966 - val_accuracy: 0.3417\n",
      "Epoch 29/100\n",
      "8/8 [==============================] - 0s 10ms/step - loss: 0.6973 - accuracy: 0.2979 - val_loss: 0.6963 - val_accuracy: 0.3333\n",
      "Epoch 30/100\n",
      "8/8 [==============================] - 0s 9ms/step - loss: 0.6969 - accuracy: 0.2958 - val_loss: 0.6959 - val_accuracy: 0.3333\n",
      "Epoch 31/100\n",
      "8/8 [==============================] - 0s 12ms/step - loss: 0.6965 - accuracy: 0.2979 - val_loss: 0.6957 - val_accuracy: 0.3000\n",
      "Epoch 32/100\n",
      "8/8 [==============================] - 0s 14ms/step - loss: 0.6961 - accuracy: 0.3187 - val_loss: 0.6954 - val_accuracy: 0.3000\n",
      "Epoch 33/100\n",
      "8/8 [==============================] - 0s 11ms/step - loss: 0.6957 - accuracy: 0.3250 - val_loss: 0.6951 - val_accuracy: 0.3000\n",
      "Epoch 34/100\n",
      "8/8 [==============================] - 0s 12ms/step - loss: 0.6953 - accuracy: 0.3313 - val_loss: 0.6948 - val_accuracy: 0.3083\n",
      "Epoch 35/100\n",
      "8/8 [==============================] - 0s 15ms/step - loss: 0.6949 - accuracy: 0.3667 - val_loss: 0.6946 - val_accuracy: 0.3750\n",
      "Epoch 36/100\n",
      "8/8 [==============================] - 0s 13ms/step - loss: 0.6945 - accuracy: 0.4042 - val_loss: 0.6943 - val_accuracy: 0.4083\n",
      "Epoch 37/100\n",
      "8/8 [==============================] - 0s 11ms/step - loss: 0.6941 - accuracy: 0.4208 - val_loss: 0.6940 - val_accuracy: 0.4083\n",
      "Epoch 38/100\n",
      "8/8 [==============================] - 0s 10ms/step - loss: 0.6938 - accuracy: 0.4292 - val_loss: 0.6936 - val_accuracy: 0.4333\n",
      "Epoch 39/100\n",
      "8/8 [==============================] - 0s 11ms/step - loss: 0.6934 - accuracy: 0.4833 - val_loss: 0.6933 - val_accuracy: 0.4500\n",
      "Epoch 40/100\n",
      "8/8 [==============================] - 0s 10ms/step - loss: 0.6930 - accuracy: 0.5021 - val_loss: 0.6931 - val_accuracy: 0.4500\n",
      "Epoch 41/100\n",
      "8/8 [==============================] - 0s 20ms/step - loss: 0.6927 - accuracy: 0.5104 - val_loss: 0.6928 - val_accuracy: 0.4750\n",
      "Epoch 42/100\n",
      "8/8 [==============================] - 0s 11ms/step - loss: 0.6923 - accuracy: 0.5875 - val_loss: 0.6926 - val_accuracy: 0.5417\n",
      "Epoch 43/100\n",
      "8/8 [==============================] - 0s 10ms/step - loss: 0.6919 - accuracy: 0.6250 - val_loss: 0.6923 - val_accuracy: 0.6000\n",
      "Epoch 44/100\n",
      "8/8 [==============================] - 0s 10ms/step - loss: 0.6915 - accuracy: 0.6542 - val_loss: 0.6919 - val_accuracy: 0.6250\n",
      "Epoch 45/100\n",
      "8/8 [==============================] - 0s 12ms/step - loss: 0.6911 - accuracy: 0.6562 - val_loss: 0.6917 - val_accuracy: 0.6250\n",
      "Epoch 46/100\n",
      "8/8 [==============================] - 0s 12ms/step - loss: 0.6908 - accuracy: 0.6583 - val_loss: 0.6915 - val_accuracy: 0.6167\n",
      "Epoch 47/100\n",
      "8/8 [==============================] - 0s 10ms/step - loss: 0.6904 - accuracy: 0.6562 - val_loss: 0.6911 - val_accuracy: 0.6250\n",
      "Epoch 48/100\n",
      "8/8 [==============================] - 0s 11ms/step - loss: 0.6900 - accuracy: 0.6708 - val_loss: 0.6907 - val_accuracy: 0.6417\n",
      "Epoch 49/100\n",
      "8/8 [==============================] - 0s 9ms/step - loss: 0.6896 - accuracy: 0.6979 - val_loss: 0.6903 - val_accuracy: 0.6667\n",
      "Epoch 50/100\n",
      "8/8 [==============================] - 0s 13ms/step - loss: 0.6892 - accuracy: 0.7000 - val_loss: 0.6899 - val_accuracy: 0.6667\n",
      "Epoch 51/100\n",
      "8/8 [==============================] - 0s 11ms/step - loss: 0.6888 - accuracy: 0.7000 - val_loss: 0.6895 - val_accuracy: 0.6667\n",
      "Epoch 52/100\n",
      "8/8 [==============================] - 0s 9ms/step - loss: 0.6883 - accuracy: 0.7083 - val_loss: 0.6889 - val_accuracy: 0.6833\n",
      "Epoch 53/100\n",
      "8/8 [==============================] - 0s 8ms/step - loss: 0.6878 - accuracy: 0.7208 - val_loss: 0.6883 - val_accuracy: 0.7083\n",
      "Epoch 54/100\n",
      "8/8 [==============================] - 0s 8ms/step - loss: 0.6874 - accuracy: 0.7083 - val_loss: 0.6877 - val_accuracy: 0.7500\n",
      "Epoch 55/100\n",
      "8/8 [==============================] - 0s 10ms/step - loss: 0.6868 - accuracy: 0.7188 - val_loss: 0.6871 - val_accuracy: 0.7583\n",
      "Epoch 56/100\n",
      "8/8 [==============================] - 0s 9ms/step - loss: 0.6862 - accuracy: 0.7250 - val_loss: 0.6865 - val_accuracy: 0.7667\n",
      "Epoch 57/100\n",
      "8/8 [==============================] - 0s 10ms/step - loss: 0.6856 - accuracy: 0.7271 - val_loss: 0.6859 - val_accuracy: 0.7667\n",
      "Epoch 58/100\n",
      "8/8 [==============================] - 0s 8ms/step - loss: 0.6850 - accuracy: 0.7292 - val_loss: 0.6852 - val_accuracy: 0.7750\n",
      "Epoch 59/100\n"
     ]
    },
    {
     "name": "stdout",
     "output_type": "stream",
     "text": [
      "8/8 [==============================] - 0s 9ms/step - loss: 0.6843 - accuracy: 0.7333 - val_loss: 0.6845 - val_accuracy: 0.7833\n",
      "Epoch 60/100\n",
      "8/8 [==============================] - 0s 8ms/step - loss: 0.6836 - accuracy: 0.7333 - val_loss: 0.6836 - val_accuracy: 0.7917\n",
      "Epoch 61/100\n",
      "8/8 [==============================] - 0s 12ms/step - loss: 0.6828 - accuracy: 0.7354 - val_loss: 0.6827 - val_accuracy: 0.7917\n",
      "Epoch 62/100\n",
      "8/8 [==============================] - 0s 8ms/step - loss: 0.6820 - accuracy: 0.7354 - val_loss: 0.6818 - val_accuracy: 0.8000\n",
      "Epoch 63/100\n",
      "8/8 [==============================] - 0s 8ms/step - loss: 0.6811 - accuracy: 0.7375 - val_loss: 0.6808 - val_accuracy: 0.8000\n",
      "Epoch 64/100\n",
      "8/8 [==============================] - 0s 11ms/step - loss: 0.6801 - accuracy: 0.7396 - val_loss: 0.6797 - val_accuracy: 0.8000\n",
      "Epoch 65/100\n",
      "8/8 [==============================] - 0s 11ms/step - loss: 0.6791 - accuracy: 0.7500 - val_loss: 0.6787 - val_accuracy: 0.8000\n",
      "Epoch 66/100\n",
      "8/8 [==============================] - 0s 9ms/step - loss: 0.6779 - accuracy: 0.7542 - val_loss: 0.6774 - val_accuracy: 0.8000\n",
      "Epoch 67/100\n",
      "8/8 [==============================] - 0s 14ms/step - loss: 0.6768 - accuracy: 0.7625 - val_loss: 0.6762 - val_accuracy: 0.8000\n",
      "Epoch 68/100\n",
      "8/8 [==============================] - 0s 18ms/step - loss: 0.6755 - accuracy: 0.7646 - val_loss: 0.6747 - val_accuracy: 0.8000\n",
      "Epoch 69/100\n",
      "8/8 [==============================] - 0s 15ms/step - loss: 0.6741 - accuracy: 0.7646 - val_loss: 0.6733 - val_accuracy: 0.8000\n",
      "Epoch 70/100\n",
      "8/8 [==============================] - 0s 19ms/step - loss: 0.6727 - accuracy: 0.7667 - val_loss: 0.6717 - val_accuracy: 0.8000\n",
      "Epoch 71/100\n",
      "8/8 [==============================] - 0s 11ms/step - loss: 0.6712 - accuracy: 0.7688 - val_loss: 0.6699 - val_accuracy: 0.8000\n",
      "Epoch 72/100\n",
      "8/8 [==============================] - 0s 11ms/step - loss: 0.6696 - accuracy: 0.7688 - val_loss: 0.6682 - val_accuracy: 0.8000\n",
      "Epoch 73/100\n",
      "8/8 [==============================] - 0s 10ms/step - loss: 0.6679 - accuracy: 0.7750 - val_loss: 0.6666 - val_accuracy: 0.8083\n",
      "Epoch 74/100\n",
      "8/8 [==============================] - 0s 11ms/step - loss: 0.6660 - accuracy: 0.7729 - val_loss: 0.6646 - val_accuracy: 0.8083\n",
      "Epoch 75/100\n",
      "8/8 [==============================] - 0s 11ms/step - loss: 0.6640 - accuracy: 0.7771 - val_loss: 0.6625 - val_accuracy: 0.8083\n",
      "Epoch 76/100\n",
      "8/8 [==============================] - 0s 15ms/step - loss: 0.6619 - accuracy: 0.7875 - val_loss: 0.6604 - val_accuracy: 0.8083\n",
      "Epoch 77/100\n",
      "8/8 [==============================] - 0s 9ms/step - loss: 0.6597 - accuracy: 0.7979 - val_loss: 0.6581 - val_accuracy: 0.8083\n",
      "Epoch 78/100\n",
      "8/8 [==============================] - 0s 8ms/step - loss: 0.6574 - accuracy: 0.8042 - val_loss: 0.6558 - val_accuracy: 0.8250\n",
      "Epoch 79/100\n",
      "8/8 [==============================] - 0s 10ms/step - loss: 0.6549 - accuracy: 0.8083 - val_loss: 0.6533 - val_accuracy: 0.8250\n",
      "Epoch 80/100\n",
      "8/8 [==============================] - 0s 10ms/step - loss: 0.6525 - accuracy: 0.8042 - val_loss: 0.6507 - val_accuracy: 0.8167\n",
      "Epoch 81/100\n",
      "8/8 [==============================] - 0s 11ms/step - loss: 0.6498 - accuracy: 0.8062 - val_loss: 0.6479 - val_accuracy: 0.8250\n",
      "Epoch 82/100\n",
      "8/8 [==============================] - 0s 9ms/step - loss: 0.6471 - accuracy: 0.8062 - val_loss: 0.6449 - val_accuracy: 0.8333\n",
      "Epoch 83/100\n",
      "8/8 [==============================] - 0s 9ms/step - loss: 0.6442 - accuracy: 0.8104 - val_loss: 0.6421 - val_accuracy: 0.8333\n",
      "Epoch 84/100\n",
      "8/8 [==============================] - 0s 8ms/step - loss: 0.6413 - accuracy: 0.8125 - val_loss: 0.6392 - val_accuracy: 0.8250\n",
      "Epoch 85/100\n",
      "8/8 [==============================] - 0s 10ms/step - loss: 0.6382 - accuracy: 0.8188 - val_loss: 0.6361 - val_accuracy: 0.8250\n",
      "Epoch 86/100\n",
      "8/8 [==============================] - 0s 8ms/step - loss: 0.6352 - accuracy: 0.8250 - val_loss: 0.6328 - val_accuracy: 0.8250\n",
      "Epoch 87/100\n",
      "8/8 [==============================] - 0s 8ms/step - loss: 0.6319 - accuracy: 0.8292 - val_loss: 0.6294 - val_accuracy: 0.8250\n",
      "Epoch 88/100\n",
      "8/8 [==============================] - 0s 9ms/step - loss: 0.6286 - accuracy: 0.8375 - val_loss: 0.6259 - val_accuracy: 0.8250\n",
      "Epoch 89/100\n",
      "8/8 [==============================] - 0s 9ms/step - loss: 0.6252 - accuracy: 0.8417 - val_loss: 0.6225 - val_accuracy: 0.8417\n",
      "Epoch 90/100\n",
      "8/8 [==============================] - 0s 10ms/step - loss: 0.6217 - accuracy: 0.8479 - val_loss: 0.6189 - val_accuracy: 0.8417\n",
      "Epoch 91/100\n",
      "8/8 [==============================] - 0s 8ms/step - loss: 0.6182 - accuracy: 0.8458 - val_loss: 0.6151 - val_accuracy: 0.8417\n",
      "Epoch 92/100\n",
      "8/8 [==============================] - 0s 9ms/step - loss: 0.6146 - accuracy: 0.8479 - val_loss: 0.6112 - val_accuracy: 0.8417\n",
      "Epoch 93/100\n",
      "8/8 [==============================] - 0s 8ms/step - loss: 0.6109 - accuracy: 0.8500 - val_loss: 0.6073 - val_accuracy: 0.8583\n",
      "Epoch 94/100\n",
      "8/8 [==============================] - 0s 9ms/step - loss: 0.6073 - accuracy: 0.8542 - val_loss: 0.6033 - val_accuracy: 0.8583\n",
      "Epoch 95/100\n",
      "8/8 [==============================] - 0s 8ms/step - loss: 0.6034 - accuracy: 0.8562 - val_loss: 0.5994 - val_accuracy: 0.8583\n",
      "Epoch 96/100\n",
      "8/8 [==============================] - 0s 8ms/step - loss: 0.5997 - accuracy: 0.8542 - val_loss: 0.5954 - val_accuracy: 0.8583\n",
      "Epoch 97/100\n",
      "8/8 [==============================] - 0s 8ms/step - loss: 0.5960 - accuracy: 0.8583 - val_loss: 0.5914 - val_accuracy: 0.8667\n",
      "Epoch 98/100\n",
      "8/8 [==============================] - 0s 9ms/step - loss: 0.5921 - accuracy: 0.8562 - val_loss: 0.5872 - val_accuracy: 0.8667\n",
      "Epoch 99/100\n",
      "8/8 [==============================] - 0s 8ms/step - loss: 0.5883 - accuracy: 0.8542 - val_loss: 0.5829 - val_accuracy: 0.8667\n",
      "Epoch 100/100\n",
      "8/8 [==============================] - 0s 10ms/step - loss: 0.5845 - accuracy: 0.8562 - val_loss: 0.5789 - val_accuracy: 0.8667\n"
     ]
    }
   ],
   "source": [
    "# Fitting the ANN to the Training set\n",
    "history = cnn.fit(X_train, y_train, batch_size = 64, epochs = 100, validation_data=(X_test, y_test))"
   ]
  },
  {
   "cell_type": "code",
   "execution_count": 21,
   "metadata": {},
   "outputs": [
    {
     "data": {
      "image/png": "[encoded data removed]",
      "text/plain": [
       "<Figure size 432x288 with 1 Axes>"
      ]
     },
     "metadata": {
      "needs_background": "light"
     },
     "output_type": "display_data"
    }
   ],
   "source": [
    "# Plotting loss & accuracy\n",
    "plt.figure()\n",
    "plt.plot(history.history['loss'])\n",
    "plt.plot(history.history['val_loss'])\n",
    "plt.title('model loss')\n",
    "plt.ylabel('loss')\n",
    "plt.xlabel('epoch')\n",
    "plt.legend(['train', 'test'], loc='best')\n",
    "plt.show()"
   ]
  },
  {
   "cell_type": "code",
   "execution_count": 22,
   "metadata": {},
   "outputs": [],
   "source": [
    "# Predicting the Test set results\n",
    "y_pred = cnn.predict(X_test)\n",
    "y_pred = (y_pred > 0.5)"
   ]
  },
  {
   "cell_type": "code",
   "execution_count": 23,
   "metadata": {},
   "outputs": [
    {
     "name": "stdout",
     "output_type": "stream",
     "text": [
      "[[59  7]\n",
      " [ 9 45]]\n"
     ]
    }
   ],
   "source": [
    "# Making the Confusion Matrix\n",
    "from sklearn.metrics import confusion_matrix\n",
    "cm = confusion_matrix(y_test, y_pred)\n",
    "print(cm)"
   ]
  },
  {
   "cell_type": "code",
   "execution_count": 16,
   "metadata": {},
   "outputs": [
    {
     "name": "stderr",
     "output_type": "stream",
     "text": [
      "*c* argument looks like a single numeric RGB or RGBA sequence, which should be avoided as value-mapping will have precedence in case its length matches with *x* & *y*.  Please use the *color* keyword-argument or provide a 2D array with a single row if you intend to specify the same RGB or RGBA value for all points.\n",
      "*c* argument looks like a single numeric RGB or RGBA sequence, which should be avoided as value-mapping will have precedence in case its length matches with *x* & *y*.  Please use the *color* keyword-argument or provide a 2D array with a single row if you intend to specify the same RGB or RGBA value for all points.\n"
     ]
    },
    {
     "data": {
      "image/png": "[encoded data removed]",
      "text/plain": [
       "<Figure size 432x288 with 1 Axes>"
      ]
     },
     "metadata": {
      "needs_background": "light"
     },
     "output_type": "display_data"
    }
   ],
   "source": [
    "# Visualising the Test set results\n",
    "from matplotlib.colors import ListedColormap\n",
    "X_set, y_set = X_test, y_test\n",
    "X1, X2 = np.meshgrid(np.arange(start = X_set[:, 0].min() - 1, stop = X_set[:, 0].max() + 1, step = 0.01),\n",
    "                     np.arange(start = X_set[:, 1].min() - 1, stop = X_set[:, 1].max() + 1, step = 0.01))\n",
    "plt.contourf(X1, X2, cnn.predict(np.array([X1.ravel(), X2.ravel()]).T).reshape(X1.shape),\n",
    "             alpha = 0.75, cmap = ListedColormap(('red', 'green')))\n",
    "plt.xlim(X1.min(), X1.max())\n",
    "plt.ylim(X2.min(), X2.max())\n",
    "for i, j in enumerate(np.unique(y_set)):\n",
    "    plt.scatter(X_set[y_set == j, 0], X_set[y_set == j, 1],\n",
    "                c = ListedColormap(('red', 'green'))(i), label = j)\n",
    "plt.title('NN (Test set)')\n",
    "plt.xlabel('Age')\n",
    "plt.ylabel('Income')\n",
    "plt.legend()\n",
    "plt.show()"
   ]
  }
 ],
 "metadata": {
  "kernelspec": {
   "display_name": "Python 3 (ipykernel)",
   "language": "python",
   "name": "python3"
  },
  "language_info": {
   "codemirror_mode": {
    "name": "ipython",
    "version": 3
   },
   "file_extension": ".py",
   "mimetype": "text/x-python",
   "name": "python",
   "nbconvert_exporter": "python",
   "pygments_lexer": "ipython3",
   "version": "3.8.11"
  }
 },
 "nbformat": 4,
 "nbformat_minor": 4
}
