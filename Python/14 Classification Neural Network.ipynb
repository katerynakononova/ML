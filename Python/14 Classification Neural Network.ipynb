{
 "cells": [
  {
   "cell_type": "code",
   "execution_count": 12,
   "metadata": {},
   "outputs": [],
   "source": [
    "# Classification Neural Network"
   ]
  },
  {
   "cell_type": "code",
   "execution_count": 28,
   "metadata": {},
   "outputs": [],
   "source": [
    "# Importing the libraries\n",
    "import numpy as np\n",
    "import matplotlib.pyplot as plt\n",
    "import pandas as pd"
   ]
  },
  {
   "cell_type": "code",
   "execution_count": 29,
   "metadata": {},
   "outputs": [],
   "source": [
    "# Importing prepared dataset\n",
    "import pickle\n",
    "input = open('data.pkl', 'rb')\n",
    "obj = pickle.load(input)\n",
    "input.close()\n",
    "X_train = obj[\"X_train\"]\n",
    "X_test = obj[\"X_test\"]\n",
    "y_train = obj[\"y_train\"]\n",
    "y_test = obj[\"y_test\"]"
   ]
  },
  {
   "cell_type": "code",
   "execution_count": 35,
   "metadata": {},
   "outputs": [],
   "source": [
    "# Install Tensorflow\n",
    "# Install Keras\n",
    "# Importing the Keras libraries and packages\n",
    "import keras\n",
    "from keras.models import Sequential\n",
    "from keras.layers import Dense"
   ]
  },
  {
   "cell_type": "code",
   "execution_count": 41,
   "metadata": {},
   "outputs": [
    {
     "name": "stderr",
     "output_type": "stream",
     "text": [
      "C:\\Users\\kater\\anaconda3\\lib\\site-packages\\ipykernel_launcher.py:5: UserWarning: Update your `Dense` call to the Keras 2 API: `Dense(activation=\"relu\", input_dim=2, units=8, kernel_initializer=\"uniform\")`\n",
      "  \"\"\"\n",
      "C:\\Users\\kater\\anaconda3\\lib\\site-packages\\ipykernel_launcher.py:8: UserWarning: Update your `Dense` call to the Keras 2 API: `Dense(activation=\"sigmoid\", units=1, kernel_initializer=\"uniform\")`\n",
      "  \n"
     ]
    }
   ],
   "source": [
    "# Initialising the ANN\n",
    "cnn = Sequential()\n",
    "\n",
    "# Adding the input layer and the first hidden layer\n",
    "cnn.add(Dense(output_dim = 2, init = 'uniform', activation = 'relu', input_dim = 2))\n",
    "\n",
    "# Adding the output layer\n",
    "cnn.add(Dense(output_dim = 1, init = 'uniform', activation = 'sigmoid'))\n",
    "\n",
    "# Compiling the ANN\n",
    "cnn.compile(optimizer = 'adam', loss = 'binary_crossentropy', metrics = ['accuracy'])"
   ]
  },
  {
   "cell_type": "code",
   "execution_count": 42,
   "metadata": {},
   "outputs": [
    {
     "name": "stderr",
     "output_type": "stream",
     "text": [
      "C:\\Users\\kater\\anaconda3\\lib\\site-packages\\ipykernel_launcher.py:2: UserWarning: The `nb_epoch` argument in `fit` has been renamed `epochs`.\n",
      "  \n"
     ]
    },
    {
     "name": "stdout",
     "output_type": "stream",
     "text": [
      "Epoch 1/100\n",
      "480/480 [==============================] - 0s 941us/step - loss: 0.6872 - accuracy: 0.8292\n",
      "Epoch 2/100\n",
      "480/480 [==============================] - 0s 298us/step - loss: 0.6618 - accuracy: 0.8375\n",
      "Epoch 3/100\n",
      "480/480 [==============================] - 0s 327us/step - loss: 0.6117 - accuracy: 0.8375\n",
      "Epoch 4/100\n",
      "480/480 [==============================] - 0s 300us/step - loss: 0.5485 - accuracy: 0.8375\n",
      "Epoch 5/100\n",
      "480/480 [==============================] - 0s 321us/step - loss: 0.4862 - accuracy: 0.8354\n",
      "Epoch 6/100\n",
      "480/480 [==============================] - 0s 271us/step - loss: 0.4369 - accuracy: 0.8333\n",
      "Epoch 7/100\n",
      "480/480 [==============================] - 0s 325us/step - loss: 0.4010 - accuracy: 0.8333\n",
      "Epoch 8/100\n",
      "480/480 [==============================] - 0s 311us/step - loss: 0.3761 - accuracy: 0.8438\n",
      "Epoch 9/100\n",
      "480/480 [==============================] - 0s 300us/step - loss: 0.3588 - accuracy: 0.8458\n",
      "Epoch 10/100\n",
      "480/480 [==============================] - 0s 319us/step - loss: 0.3459 - accuracy: 0.8438\n",
      "Epoch 11/100\n",
      "480/480 [==============================] - 0s 383us/step - loss: 0.3358 - accuracy: 0.8458\n",
      "Epoch 12/100\n",
      "480/480 [==============================] - 0s 438us/step - loss: 0.3277 - accuracy: 0.8500\n",
      "Epoch 13/100\n",
      "480/480 [==============================] - 0s 362us/step - loss: 0.3217 - accuracy: 0.8521\n",
      "Epoch 14/100\n",
      "480/480 [==============================] - 0s 366us/step - loss: 0.3158 - accuracy: 0.8562\n",
      "Epoch 15/100\n",
      "480/480 [==============================] - 0s 506us/step - loss: 0.3111 - accuracy: 0.8542\n",
      "Epoch 16/100\n",
      "480/480 [==============================] - 0s 392us/step - loss: 0.3076 - accuracy: 0.8562\n",
      "Epoch 17/100\n",
      "480/480 [==============================] - 0s 329us/step - loss: 0.3039 - accuracy: 0.8562\n",
      "Epoch 18/100\n",
      "480/480 [==============================] - 0s 327us/step - loss: 0.3010 - accuracy: 0.8562\n",
      "Epoch 19/100\n",
      "480/480 [==============================] - 0s 358us/step - loss: 0.2988 - accuracy: 0.8521\n",
      "Epoch 20/100\n",
      "480/480 [==============================] - 0s 352us/step - loss: 0.2967 - accuracy: 0.8562\n",
      "Epoch 21/100\n",
      "480/480 [==============================] - 0s 450us/step - loss: 0.2948 - accuracy: 0.8562\n",
      "Epoch 22/100\n",
      "480/480 [==============================] - 0s 539us/step - loss: 0.2933 - accuracy: 0.8562\n",
      "Epoch 23/100\n",
      "480/480 [==============================] - 0s 479us/step - loss: 0.2920 - accuracy: 0.8562\n",
      "Epoch 24/100\n",
      "480/480 [==============================] - ETA: 0s - loss: 0.2920 - accuracy: 0.85 - 0s 498us/step - loss: 0.2912 - accuracy: 0.8521\n",
      "Epoch 25/100\n",
      "480/480 [==============================] - 0s 440us/step - loss: 0.2901 - accuracy: 0.8542\n",
      "Epoch 26/100\n",
      "480/480 [==============================] - 0s 390us/step - loss: 0.2897 - accuracy: 0.8542\n",
      "Epoch 27/100\n",
      "480/480 [==============================] - 0s 400us/step - loss: 0.2896 - accuracy: 0.8542\n",
      "Epoch 28/100\n",
      "480/480 [==============================] - 0s 388us/step - loss: 0.2885 - accuracy: 0.8521\n",
      "Epoch 29/100\n",
      "480/480 [==============================] - 0s 380us/step - loss: 0.2878 - accuracy: 0.8542\n",
      "Epoch 30/100\n",
      "480/480 [==============================] - 0s 408us/step - loss: 0.2875 - accuracy: 0.8542\n",
      "Epoch 31/100\n",
      "480/480 [==============================] - 0s 329us/step - loss: 0.2872 - accuracy: 0.8542\n",
      "Epoch 32/100\n",
      "480/480 [==============================] - 0s 364us/step - loss: 0.2869 - accuracy: 0.8562\n",
      "Epoch 33/100\n",
      "480/480 [==============================] - 0s 397us/step - loss: 0.2866 - accuracy: 0.8542\n",
      "Epoch 34/100\n",
      "480/480 [==============================] - 0s 629us/step - loss: 0.2863 - accuracy: 0.8542\n",
      "Epoch 35/100\n",
      "480/480 [==============================] - 0s 470us/step - loss: 0.2863 - accuracy: 0.8542\n",
      "Epoch 36/100\n",
      "480/480 [==============================] - 0s 507us/step - loss: 0.2861 - accuracy: 0.8542\n",
      "Epoch 37/100\n",
      "480/480 [==============================] - 0s 425us/step - loss: 0.2864 - accuracy: 0.8521\n",
      "Epoch 38/100\n",
      "480/480 [==============================] - 0s 423us/step - loss: 0.2859 - accuracy: 0.8542\n",
      "Epoch 39/100\n",
      "480/480 [==============================] - 0s 408us/step - loss: 0.2854 - accuracy: 0.8542\n",
      "Epoch 40/100\n",
      "480/480 [==============================] - 0s 437us/step - loss: 0.2854 - accuracy: 0.8542\n",
      "Epoch 41/100\n",
      "480/480 [==============================] - 0s 396us/step - loss: 0.2852 - accuracy: 0.8542\n",
      "Epoch 42/100\n",
      "480/480 [==============================] - 0s 388us/step - loss: 0.2848 - accuracy: 0.8542\n",
      "Epoch 43/100\n",
      "480/480 [==============================] - 0s 391us/step - loss: 0.2850 - accuracy: 0.8542\n",
      "Epoch 44/100\n",
      "480/480 [==============================] - 0s 352us/step - loss: 0.2846 - accuracy: 0.8542\n",
      "Epoch 45/100\n",
      "480/480 [==============================] - 0s 333us/step - loss: 0.2849 - accuracy: 0.8562\n",
      "Epoch 46/100\n",
      "480/480 [==============================] - 0s 369us/step - loss: 0.2846 - accuracy: 0.8542\n",
      "Epoch 47/100\n",
      "480/480 [==============================] - 0s 389us/step - loss: 0.2844 - accuracy: 0.8542\n",
      "Epoch 48/100\n",
      "480/480 [==============================] - 0s 337us/step - loss: 0.2842 - accuracy: 0.8542\n",
      "Epoch 49/100\n",
      "480/480 [==============================] - 0s 458us/step - loss: 0.2837 - accuracy: 0.8542\n",
      "Epoch 50/100\n",
      "480/480 [==============================] - 0s 510us/step - loss: 0.2835 - accuracy: 0.8542\n",
      "Epoch 51/100\n",
      "480/480 [==============================] - 0s 506us/step - loss: 0.2838 - accuracy: 0.8542\n",
      "Epoch 52/100\n",
      "480/480 [==============================] - 0s 589us/step - loss: 0.2834 - accuracy: 0.8542\n",
      "Epoch 53/100\n",
      "480/480 [==============================] - 0s 427us/step - loss: 0.2837 - accuracy: 0.8542\n",
      "Epoch 54/100\n",
      "480/480 [==============================] - 0s 433us/step - loss: 0.2835 - accuracy: 0.8542\n",
      "Epoch 55/100\n",
      "480/480 [==============================] - 0s 498us/step - loss: 0.2831 - accuracy: 0.8542\n",
      "Epoch 56/100\n",
      "480/480 [==============================] - 0s 543us/step - loss: 0.2831 - accuracy: 0.8542\n",
      "Epoch 57/100\n",
      "480/480 [==============================] - 0s 473us/step - loss: 0.2831 - accuracy: 0.8542\n",
      "Epoch 58/100\n",
      "480/480 [==============================] - 0s 477us/step - loss: 0.2831 - accuracy: 0.8542\n",
      "Epoch 59/100\n",
      "480/480 [==============================] - 0s 416us/step - loss: 0.2827 - accuracy: 0.8542\n",
      "Epoch 60/100\n",
      "480/480 [==============================] - 0s 418us/step - loss: 0.2827 - accuracy: 0.8542\n",
      "Epoch 61/100\n",
      "480/480 [==============================] - 0s 439us/step - loss: 0.2828 - accuracy: 0.8542\n",
      "Epoch 62/100\n",
      "480/480 [==============================] - 0s 385us/step - loss: 0.2825 - accuracy: 0.8562\n",
      "Epoch 63/100\n",
      "480/480 [==============================] - 0s 451us/step - loss: 0.2825 - accuracy: 0.8542\n",
      "Epoch 64/100\n",
      "480/480 [==============================] - 0s 412us/step - loss: 0.2822 - accuracy: 0.8542\n",
      "Epoch 65/100\n",
      "480/480 [==============================] - 0s 454us/step - loss: 0.2823 - accuracy: 0.85620s - loss: 0.2873 - accuracy: 0.85\n",
      "Epoch 66/100\n",
      "480/480 [==============================] - 0s 425us/step - loss: 0.2824 - accuracy: 0.8562\n",
      "Epoch 67/100\n",
      "480/480 [==============================] - 0s 379us/step - loss: 0.2824 - accuracy: 0.8542\n",
      "Epoch 68/100\n",
      "480/480 [==============================] - 0s 416us/step - loss: 0.2821 - accuracy: 0.8542\n",
      "Epoch 69/100\n",
      "480/480 [==============================] - 0s 410us/step - loss: 0.2821 - accuracy: 0.8542\n",
      "Epoch 70/100\n",
      "480/480 [==============================] - 0s 431us/step - loss: 0.2822 - accuracy: 0.8542\n",
      "Epoch 71/100\n",
      "480/480 [==============================] - 0s 387us/step - loss: 0.2819 - accuracy: 0.8583\n",
      "Epoch 72/100\n",
      "480/480 [==============================] - 0s 411us/step - loss: 0.2819 - accuracy: 0.8562\n",
      "Epoch 73/100\n",
      "480/480 [==============================] - 0s 358us/step - loss: 0.2816 - accuracy: 0.8562\n",
      "Epoch 74/100\n",
      "480/480 [==============================] - 0s 366us/step - loss: 0.2819 - accuracy: 0.8562\n",
      "Epoch 75/100\n",
      "480/480 [==============================] - 0s 385us/step - loss: 0.2819 - accuracy: 0.8583\n",
      "Epoch 76/100\n",
      "480/480 [==============================] - 0s 398us/step - loss: 0.2815 - accuracy: 0.8562\n",
      "Epoch 77/100\n",
      "480/480 [==============================] - ETA: 0s - loss: 0.2781 - accuracy: 0.85 - 0s 362us/step - loss: 0.2814 - accuracy: 0.8562\n",
      "Epoch 78/100\n"
     ]
    },
    {
     "name": "stdout",
     "output_type": "stream",
     "text": [
      "480/480 [==============================] - 0s 360us/step - loss: 0.2814 - accuracy: 0.85830s - loss: 0.2801 - accuracy: 0.85\n",
      "Epoch 79/100\n",
      "480/480 [==============================] - 0s 335us/step - loss: 0.2819 - accuracy: 0.8562\n",
      "Epoch 80/100\n",
      "480/480 [==============================] - 0s 366us/step - loss: 0.2813 - accuracy: 0.8542\n",
      "Epoch 81/100\n",
      "480/480 [==============================] - 0s 325us/step - loss: 0.2812 - accuracy: 0.8562\n",
      "Epoch 82/100\n",
      "480/480 [==============================] - 0s 325us/step - loss: 0.2810 - accuracy: 0.8583\n",
      "Epoch 83/100\n",
      "480/480 [==============================] - 0s 389us/step - loss: 0.2812 - accuracy: 0.8583\n",
      "Epoch 84/100\n",
      "480/480 [==============================] - 0s 321us/step - loss: 0.2813 - accuracy: 0.8604\n",
      "Epoch 85/100\n",
      "480/480 [==============================] - 0s 319us/step - loss: 0.2810 - accuracy: 0.8583\n",
      "Epoch 86/100\n",
      "480/480 [==============================] - 0s 356us/step - loss: 0.2812 - accuracy: 0.8583\n",
      "Epoch 87/100\n",
      "480/480 [==============================] - 0s 348us/step - loss: 0.2808 - accuracy: 0.8583\n",
      "Epoch 88/100\n",
      "480/480 [==============================] - 0s 385us/step - loss: 0.2812 - accuracy: 0.8583\n",
      "Epoch 89/100\n",
      "480/480 [==============================] - 0s 333us/step - loss: 0.2810 - accuracy: 0.8604\n",
      "Epoch 90/100\n",
      "480/480 [==============================] - 0s 377us/step - loss: 0.2809 - accuracy: 0.8604\n",
      "Epoch 91/100\n",
      "480/480 [==============================] - 0s 408us/step - loss: 0.2806 - accuracy: 0.8583\n",
      "Epoch 92/100\n",
      "480/480 [==============================] - 0s 408us/step - loss: 0.2805 - accuracy: 0.8604\n",
      "Epoch 93/100\n",
      "480/480 [==============================] - 0s 362us/step - loss: 0.2808 - accuracy: 0.8583\n",
      "Epoch 94/100\n",
      "480/480 [==============================] - 0s 296us/step - loss: 0.2807 - accuracy: 0.86040s - loss: 0.2355 - accuracy: 0.\n",
      "Epoch 95/100\n",
      "480/480 [==============================] - 0s 341us/step - loss: 0.2811 - accuracy: 0.8604\n",
      "Epoch 96/100\n",
      "480/480 [==============================] - 0s 289us/step - loss: 0.2804 - accuracy: 0.8625\n",
      "Epoch 97/100\n",
      "480/480 [==============================] - 0s 254us/step - loss: 0.2798 - accuracy: 0.8625\n",
      "Epoch 98/100\n",
      "480/480 [==============================] - 0s 318us/step - loss: 0.2799 - accuracy: 0.8625\n",
      "Epoch 99/100\n",
      "480/480 [==============================] - 0s 312us/step - loss: 0.2802 - accuracy: 0.8625\n",
      "Epoch 100/100\n",
      "480/480 [==============================] - 0s 298us/step - loss: 0.2800 - accuracy: 0.8604\n"
     ]
    },
    {
     "data": {
      "text/plain": [
       "<keras.callbacks.callbacks.History at 0x17c16ea0dc8>"
      ]
     },
     "execution_count": 42,
     "metadata": {},
     "output_type": "execute_result"
    }
   ],
   "source": [
    "# Fitting the ANN to the Training set\n",
    "cnn.fit(X_train, y_train, batch_size = 10, nb_epoch = 100)"
   ]
  },
  {
   "cell_type": "code",
   "execution_count": 43,
   "metadata": {},
   "outputs": [],
   "source": [
    "# Predicting the Test set results\n",
    "y_pred = cnn.predict(X_test)\n",
    "y_pred = (y_pred > 0.5)"
   ]
  },
  {
   "cell_type": "code",
   "execution_count": 44,
   "metadata": {},
   "outputs": [
    {
     "name": "stdout",
     "output_type": "stream",
     "text": [
      "[[55 11]\n",
      " [ 5 49]]\n"
     ]
    }
   ],
   "source": [
    "# Making the Confusion Matrix\n",
    "from sklearn.metrics import confusion_matrix\n",
    "cm = confusion_matrix(y_test, y_pred)\n",
    "print(cm)"
   ]
  },
  {
   "cell_type": "code",
   "execution_count": 45,
   "metadata": {},
   "outputs": [
    {
     "name": "stderr",
     "output_type": "stream",
     "text": [
      "'c' argument looks like a single numeric RGB or RGBA sequence, which should be avoided as value-mapping will have precedence in case its length matches with 'x' & 'y'.  Please use a 2-D array with a single row if you really want to specify the same RGB or RGBA value for all points.\n",
      "'c' argument looks like a single numeric RGB or RGBA sequence, which should be avoided as value-mapping will have precedence in case its length matches with 'x' & 'y'.  Please use a 2-D array with a single row if you really want to specify the same RGB or RGBA value for all points.\n"
     ]
    },
    {
     "data": {
      "image/png": "[encoded data removed]",
      "text/plain": [
       "<Figure size 432x288 with 1 Axes>"
      ]
     },
     "metadata": {
      "needs_background": "light"
     },
     "output_type": "display_data"
    }
   ],
   "source": [
    "# Visualising the Test set results\n",
    "from matplotlib.colors import ListedColormap\n",
    "X_set, y_set = X_test, y_test\n",
    "X1, X2 = np.meshgrid(np.arange(start = X_set[:, 0].min() - 1, stop = X_set[:, 0].max() + 1, step = 0.01),\n",
    "                     np.arange(start = X_set[:, 1].min() - 1, stop = X_set[:, 1].max() + 1, step = 0.01))\n",
    "plt.contourf(X1, X2, cnn.predict(np.array([X1.ravel(), X2.ravel()]).T).reshape(X1.shape),\n",
    "             alpha = 0.75, cmap = ListedColormap(('red', 'green')))\n",
    "plt.xlim(X1.min(), X1.max())\n",
    "plt.ylim(X2.min(), X2.max())\n",
    "for i, j in enumerate(np.unique(y_set)):\n",
    "    plt.scatter(X_set[y_set == j, 0], X_set[y_set == j, 1],\n",
    "                c = ListedColormap(('red', 'green'))(i), label = j)\n",
    "plt.title('NN (Test set)')\n",
    "plt.xlabel('Age')\n",
    "plt.ylabel('Income')\n",
    "plt.legend()\n",
    "plt.show()"
   ]
  }
 ],
 "metadata": {
  "kernelspec": {
   "display_name": "Python 3",
   "language": "python",
   "name": "python3"
  },
  "language_info": {
   "codemirror_mode": {
    "name": "ipython",
    "version": 3
   },
   "file_extension": ".py",
   "mimetype": "text/x-python",
   "name": "python",
   "nbconvert_exporter": "python",
   "pygments_lexer": "ipython3",
   "version": "3.7.6"
  }
 },
 "nbformat": 4,
 "nbformat_minor": 4
}
