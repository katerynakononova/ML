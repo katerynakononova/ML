{
 "cells": [
  {
   "cell_type": "code",
   "execution_count": 36,
   "metadata": {},
   "outputs": [],
   "source": [
    "# Classification Neural Network"
   ]
  },
  {
   "cell_type": "code",
   "execution_count": 37,
   "metadata": {},
   "outputs": [],
   "source": [
    "# Importing the libraries\n",
    "import numpy as np\n",
    "import matplotlib.pyplot as plt\n",
    "import pandas as pd"
   ]
  },
  {
   "cell_type": "code",
   "execution_count": 38,
   "metadata": {},
   "outputs": [],
   "source": [
    "# Importing prepared dataset\n",
    "import pickle\n",
    "input = open('data.pkl', 'rb')\n",
    "obj = pickle.load(input)\n",
    "input.close()\n",
    "X_train = obj[\"X_train\"]\n",
    "X_test = obj[\"X_test\"]\n",
    "y_train = obj[\"y_train\"]\n",
    "y_test = obj[\"y_test\"]"
   ]
  },
  {
   "cell_type": "code",
   "execution_count": 39,
   "metadata": {},
   "outputs": [],
   "source": [
    "# Install Tensorflow\n",
    "# Install Keras\n",
    "# Importing the Keras libraries and packages\n",
    "import keras\n",
    "from keras.models import Sequential\n",
    "from keras.layers import Dense"
   ]
  },
  {
   "cell_type": "code",
   "execution_count": 40,
   "metadata": {},
   "outputs": [
    {
     "name": "stderr",
     "output_type": "stream",
     "text": [
      "C:\\Users\\kater\\anaconda3\\lib\\site-packages\\ipykernel_launcher.py:5: UserWarning: Update your `Dense` call to the Keras 2 API: `Dense(activation=\"relu\", input_dim=2, units=2, kernel_initializer=\"uniform\")`\n",
      "  \"\"\"\n",
      "C:\\Users\\kater\\anaconda3\\lib\\site-packages\\ipykernel_launcher.py:8: UserWarning: Update your `Dense` call to the Keras 2 API: `Dense(activation=\"sigmoid\", units=1, kernel_initializer=\"uniform\")`\n",
      "  \n"
     ]
    }
   ],
   "source": [
    "# Initialising the ANN\n",
    "cnn = Sequential()\n",
    "\n",
    "# Adding the input layer and the first hidden layer\n",
    "cnn.add(Dense(output_dim = 2, init = 'uniform', activation = 'relu', input_dim = 2))\n",
    "\n",
    "# Adding the output layer\n",
    "cnn.add(Dense(output_dim = 1, init = 'uniform', activation = 'sigmoid'))\n",
    "\n",
    "# Compiling the ANN\n",
    "cnn.compile(optimizer = 'adam', loss = 'binary_crossentropy', metrics = ['accuracy'])"
   ]
  },
  {
   "cell_type": "code",
   "execution_count": 43,
   "metadata": {},
   "outputs": [
    {
     "name": "stdout",
     "output_type": "stream",
     "text": [
      "Train on 480 samples, validate on 120 samples\n",
      "Epoch 1/100\n",
      "328/480 [===================>..........] - ETA: 0s - loss: 0.3523 - accuracy: 0.8232"
     ]
    },
    {
     "name": "stderr",
     "output_type": "stream",
     "text": [
      "C:\\Users\\kater\\anaconda3\\lib\\site-packages\\ipykernel_launcher.py:2: UserWarning: The `nb_epoch` argument in `fit` has been renamed `epochs`.\n",
      "  \n"
     ]
    },
    {
     "name": "stdout",
     "output_type": "stream",
     "text": [
      "480/480 [==============================] - 0s 360us/step - loss: 0.3079 - accuracy: 0.8583 - val_loss: 0.3026 - val_accuracy: 0.8750\n",
      "Epoch 2/100\n",
      "480/480 [==============================] - 0s 344us/step - loss: 0.3076 - accuracy: 0.8583 - val_loss: 0.3027 - val_accuracy: 0.8750\n",
      "Epoch 3/100\n",
      "480/480 [==============================] - 0s 549us/step - loss: 0.3076 - accuracy: 0.8583 - val_loss: 0.3020 - val_accuracy: 0.8750\n",
      "Epoch 4/100\n",
      "480/480 [==============================] - 0s 364us/step - loss: 0.3072 - accuracy: 0.8583 - val_loss: 0.3025 - val_accuracy: 0.8750\n",
      "Epoch 5/100\n",
      "480/480 [==============================] - 0s 425us/step - loss: 0.3071 - accuracy: 0.8583 - val_loss: 0.3026 - val_accuracy: 0.8750\n",
      "Epoch 6/100\n",
      "480/480 [==============================] - 0s 383us/step - loss: 0.3071 - accuracy: 0.8583 - val_loss: 0.3023 - val_accuracy: 0.8750\n",
      "Epoch 7/100\n",
      "480/480 [==============================] - 0s 439us/step - loss: 0.3070 - accuracy: 0.8583 - val_loss: 0.3026 - val_accuracy: 0.8750\n",
      "Epoch 8/100\n",
      "480/480 [==============================] - 0s 454us/step - loss: 0.3068 - accuracy: 0.8604 - val_loss: 0.3025 - val_accuracy: 0.8750\n",
      "Epoch 9/100\n",
      "480/480 [==============================] - 0s 358us/step - loss: 0.3067 - accuracy: 0.8583 - val_loss: 0.3019 - val_accuracy: 0.8750\n",
      "Epoch 10/100\n",
      "480/480 [==============================] - 0s 466us/step - loss: 0.3066 - accuracy: 0.8583 - val_loss: 0.3021 - val_accuracy: 0.8750\n",
      "Epoch 11/100\n",
      "480/480 [==============================] - 0s 402us/step - loss: 0.3065 - accuracy: 0.8604 - val_loss: 0.3021 - val_accuracy: 0.8750\n",
      "Epoch 12/100\n",
      "480/480 [==============================] - 0s 429us/step - loss: 0.3065 - accuracy: 0.8604 - val_loss: 0.3021 - val_accuracy: 0.8750\n",
      "Epoch 13/100\n",
      "480/480 [==============================] - 0s 435us/step - loss: 0.3066 - accuracy: 0.8604 - val_loss: 0.3014 - val_accuracy: 0.8750\n",
      "Epoch 14/100\n",
      "480/480 [==============================] - 0s 337us/step - loss: 0.3064 - accuracy: 0.8583 - val_loss: 0.3021 - val_accuracy: 0.8750\n",
      "Epoch 15/100\n",
      "480/480 [==============================] - 0s 360us/step - loss: 0.3063 - accuracy: 0.8583 - val_loss: 0.3019 - val_accuracy: 0.8750\n",
      "Epoch 16/100\n",
      "480/480 [==============================] - 0s 339us/step - loss: 0.3061 - accuracy: 0.8604 - val_loss: 0.3025 - val_accuracy: 0.8750\n",
      "Epoch 17/100\n",
      "480/480 [==============================] - 0s 302us/step - loss: 0.3060 - accuracy: 0.8583 - val_loss: 0.3017 - val_accuracy: 0.8750\n",
      "Epoch 18/100\n",
      "480/480 [==============================] - 0s 291us/step - loss: 0.3058 - accuracy: 0.8583 - val_loss: 0.3019 - val_accuracy: 0.8750\n",
      "Epoch 19/100\n",
      "480/480 [==============================] - 0s 319us/step - loss: 0.3058 - accuracy: 0.8604 - val_loss: 0.3019 - val_accuracy: 0.8750\n",
      "Epoch 20/100\n",
      "480/480 [==============================] - 0s 275us/step - loss: 0.3061 - accuracy: 0.8583 - val_loss: 0.3013 - val_accuracy: 0.8750\n",
      "Epoch 21/100\n",
      "480/480 [==============================] - 0s 316us/step - loss: 0.3055 - accuracy: 0.8604 - val_loss: 0.3020 - val_accuracy: 0.8750\n",
      "Epoch 22/100\n",
      "480/480 [==============================] - 0s 304us/step - loss: 0.3057 - accuracy: 0.8604 - val_loss: 0.3021 - val_accuracy: 0.8750\n",
      "Epoch 23/100\n",
      "480/480 [==============================] - 0s 304us/step - loss: 0.3053 - accuracy: 0.8604 - val_loss: 0.3019 - val_accuracy: 0.8750\n",
      "Epoch 24/100\n",
      "480/480 [==============================] - 0s 310us/step - loss: 0.3053 - accuracy: 0.8625 - val_loss: 0.3014 - val_accuracy: 0.8750\n",
      "Epoch 25/100\n",
      "480/480 [==============================] - 0s 298us/step - loss: 0.3054 - accuracy: 0.8604 - val_loss: 0.3018 - val_accuracy: 0.8750\n",
      "Epoch 26/100\n",
      "480/480 [==============================] - 0s 306us/step - loss: 0.3053 - accuracy: 0.8604 - val_loss: 0.3016 - val_accuracy: 0.8750\n",
      "Epoch 27/100\n",
      "480/480 [==============================] - 0s 316us/step - loss: 0.3054 - accuracy: 0.8625 - val_loss: 0.3019 - val_accuracy: 0.8750\n",
      "Epoch 28/100\n",
      "480/480 [==============================] - 0s 360us/step - loss: 0.3050 - accuracy: 0.8604 - val_loss: 0.3008 - val_accuracy: 0.8750\n",
      "Epoch 29/100\n",
      "480/480 [==============================] - 0s 373us/step - loss: 0.3050 - accuracy: 0.8604 - val_loss: 0.3008 - val_accuracy: 0.8750\n",
      "Epoch 30/100\n",
      "480/480 [==============================] - 0s 312us/step - loss: 0.3049 - accuracy: 0.8583 - val_loss: 0.3011 - val_accuracy: 0.8750\n",
      "Epoch 31/100\n",
      "480/480 [==============================] - 0s 310us/step - loss: 0.3048 - accuracy: 0.8625 - val_loss: 0.3008 - val_accuracy: 0.8750\n",
      "Epoch 32/100\n",
      "480/480 [==============================] - 0s 300us/step - loss: 0.3047 - accuracy: 0.8604 - val_loss: 0.3006 - val_accuracy: 0.8750\n",
      "Epoch 33/100\n",
      "480/480 [==============================] - 0s 300us/step - loss: 0.3046 - accuracy: 0.8625 - val_loss: 0.3009 - val_accuracy: 0.8750\n",
      "Epoch 34/100\n",
      "480/480 [==============================] - 0s 306us/step - loss: 0.3046 - accuracy: 0.8604 - val_loss: 0.3010 - val_accuracy: 0.8750\n",
      "Epoch 35/100\n",
      "480/480 [==============================] - 0s 275us/step - loss: 0.3045 - accuracy: 0.8625 - val_loss: 0.3004 - val_accuracy: 0.8750\n",
      "Epoch 36/100\n",
      "480/480 [==============================] - 0s 283us/step - loss: 0.3043 - accuracy: 0.8625 - val_loss: 0.3003 - val_accuracy: 0.8750\n",
      "Epoch 37/100\n",
      "480/480 [==============================] - 0s 296us/step - loss: 0.3043 - accuracy: 0.8604 - val_loss: 0.3003 - val_accuracy: 0.8750\n",
      "Epoch 38/100\n",
      "480/480 [==============================] - 0s 279us/step - loss: 0.3042 - accuracy: 0.8604 - val_loss: 0.3002 - val_accuracy: 0.8750\n",
      "Epoch 39/100\n",
      "480/480 [==============================] - 0s 254us/step - loss: 0.3044 - accuracy: 0.8604 - val_loss: 0.2998 - val_accuracy: 0.8750\n",
      "Epoch 40/100\n",
      "480/480 [==============================] - 0s 298us/step - loss: 0.3041 - accuracy: 0.8604 - val_loss: 0.2996 - val_accuracy: 0.8750\n",
      "Epoch 41/100\n",
      "480/480 [==============================] - 0s 273us/step - loss: 0.3041 - accuracy: 0.8604 - val_loss: 0.2997 - val_accuracy: 0.8750\n",
      "Epoch 42/100\n",
      "480/480 [==============================] - 0s 273us/step - loss: 0.3042 - accuracy: 0.8583 - val_loss: 0.3002 - val_accuracy: 0.8750\n",
      "Epoch 43/100\n",
      "480/480 [==============================] - 0s 277us/step - loss: 0.3039 - accuracy: 0.8604 - val_loss: 0.2998 - val_accuracy: 0.8750\n",
      "Epoch 44/100\n",
      "480/480 [==============================] - 0s 277us/step - loss: 0.3040 - accuracy: 0.8604 - val_loss: 0.2999 - val_accuracy: 0.8750\n",
      "Epoch 45/100\n",
      "480/480 [==============================] - 0s 310us/step - loss: 0.3041 - accuracy: 0.8625 - val_loss: 0.2995 - val_accuracy: 0.8750\n",
      "Epoch 46/100\n",
      "480/480 [==============================] - 0s 279us/step - loss: 0.3037 - accuracy: 0.8604 - val_loss: 0.2993 - val_accuracy: 0.8750\n",
      "Epoch 47/100\n",
      "480/480 [==============================] - 0s 291us/step - loss: 0.3037 - accuracy: 0.8604 - val_loss: 0.2991 - val_accuracy: 0.8750\n",
      "Epoch 48/100\n",
      "480/480 [==============================] - 0s 277us/step - loss: 0.3036 - accuracy: 0.8625 - val_loss: 0.2992 - val_accuracy: 0.8750\n",
      "Epoch 49/100\n",
      "480/480 [==============================] - 0s 350us/step - loss: 0.3035 - accuracy: 0.8604 - val_loss: 0.2990 - val_accuracy: 0.8750\n",
      "Epoch 50/100\n",
      "480/480 [==============================] - 0s 323us/step - loss: 0.3036 - accuracy: 0.8604 - val_loss: 0.2985 - val_accuracy: 0.8750\n",
      "Epoch 51/100\n",
      "480/480 [==============================] - 0s 308us/step - loss: 0.3036 - accuracy: 0.8604 - val_loss: 0.2988 - val_accuracy: 0.8750\n",
      "Epoch 52/100\n",
      "480/480 [==============================] - 0s 305us/step - loss: 0.3034 - accuracy: 0.8583 - val_loss: 0.2982 - val_accuracy: 0.8667\n",
      "Epoch 53/100\n",
      "480/480 [==============================] - 0s 291us/step - loss: 0.3033 - accuracy: 0.8604 - val_loss: 0.2981 - val_accuracy: 0.8750\n",
      "Epoch 54/100\n",
      "480/480 [==============================] - 0s 248us/step - loss: 0.3033 - accuracy: 0.8583 - val_loss: 0.2986 - val_accuracy: 0.8750\n",
      "Epoch 55/100\n",
      "480/480 [==============================] - 0s 289us/step - loss: 0.3033 - accuracy: 0.8625 - val_loss: 0.2985 - val_accuracy: 0.8750\n",
      "Epoch 56/100\n",
      "480/480 [==============================] - 0s 323us/step - loss: 0.3031 - accuracy: 0.8583 - val_loss: 0.2985 - val_accuracy: 0.8750\n",
      "Epoch 57/100\n"
     ]
    },
    {
     "name": "stdout",
     "output_type": "stream",
     "text": [
      "480/480 [==============================] - 0s 281us/step - loss: 0.3032 - accuracy: 0.8604 - val_loss: 0.2977 - val_accuracy: 0.8750\n",
      "Epoch 58/100\n",
      "480/480 [==============================] - 0s 279us/step - loss: 0.3031 - accuracy: 0.8583 - val_loss: 0.2983 - val_accuracy: 0.8750\n",
      "Epoch 59/100\n",
      "480/480 [==============================] - 0s 291us/step - loss: 0.3031 - accuracy: 0.8604 - val_loss: 0.2980 - val_accuracy: 0.8750\n",
      "Epoch 60/100\n",
      "480/480 [==============================] - 0s 279us/step - loss: 0.3032 - accuracy: 0.8625 - val_loss: 0.2984 - val_accuracy: 0.8750\n",
      "Epoch 61/100\n",
      "480/480 [==============================] - 0s 289us/step - loss: 0.3031 - accuracy: 0.8604 - val_loss: 0.2982 - val_accuracy: 0.8750\n",
      "Epoch 62/100\n",
      "480/480 [==============================] - 0s 286us/step - loss: 0.3031 - accuracy: 0.8604 - val_loss: 0.2976 - val_accuracy: 0.8750\n",
      "Epoch 63/100\n",
      "480/480 [==============================] - 0s 352us/step - loss: 0.3031 - accuracy: 0.8604 - val_loss: 0.2983 - val_accuracy: 0.8750\n",
      "Epoch 64/100\n",
      "480/480 [==============================] - 0s 325us/step - loss: 0.3028 - accuracy: 0.8604 - val_loss: 0.2977 - val_accuracy: 0.8750\n",
      "Epoch 65/100\n",
      "480/480 [==============================] - 0s 277us/step - loss: 0.3027 - accuracy: 0.8583 - val_loss: 0.2978 - val_accuracy: 0.8750\n",
      "Epoch 66/100\n",
      "480/480 [==============================] - 0s 298us/step - loss: 0.3029 - accuracy: 0.8604 - val_loss: 0.2975 - val_accuracy: 0.8750\n",
      "Epoch 67/100\n",
      "480/480 [==============================] - 0s 275us/step - loss: 0.3028 - accuracy: 0.8583 - val_loss: 0.2976 - val_accuracy: 0.8750\n",
      "Epoch 68/100\n",
      "480/480 [==============================] - 0s 340us/step - loss: 0.3025 - accuracy: 0.8583 - val_loss: 0.2972 - val_accuracy: 0.8750\n",
      "Epoch 69/100\n",
      "480/480 [==============================] - 0s 358us/step - loss: 0.3026 - accuracy: 0.8583 - val_loss: 0.2967 - val_accuracy: 0.8750\n",
      "Epoch 70/100\n",
      "480/480 [==============================] - 0s 341us/step - loss: 0.3027 - accuracy: 0.8583 - val_loss: 0.2974 - val_accuracy: 0.8750\n",
      "Epoch 71/100\n",
      "480/480 [==============================] - 0s 288us/step - loss: 0.3025 - accuracy: 0.8583 - val_loss: 0.2970 - val_accuracy: 0.8750\n",
      "Epoch 72/100\n",
      "480/480 [==============================] - 0s 304us/step - loss: 0.3024 - accuracy: 0.8583 - val_loss: 0.2967 - val_accuracy: 0.8750\n",
      "Epoch 73/100\n",
      "480/480 [==============================] - 0s 289us/step - loss: 0.3027 - accuracy: 0.8562 - val_loss: 0.2965 - val_accuracy: 0.8750\n",
      "Epoch 74/100\n",
      "480/480 [==============================] - 0s 304us/step - loss: 0.3022 - accuracy: 0.8604 - val_loss: 0.2963 - val_accuracy: 0.8750\n",
      "Epoch 75/100\n",
      "480/480 [==============================] - 0s 291us/step - loss: 0.3022 - accuracy: 0.8583 - val_loss: 0.2961 - val_accuracy: 0.8750\n",
      "Epoch 76/100\n",
      "480/480 [==============================] - 0s 331us/step - loss: 0.3022 - accuracy: 0.8583 - val_loss: 0.2961 - val_accuracy: 0.8750\n",
      "Epoch 77/100\n",
      "480/480 [==============================] - 0s 358us/step - loss: 0.3022 - accuracy: 0.8583 - val_loss: 0.2962 - val_accuracy: 0.8750\n",
      "Epoch 78/100\n",
      "480/480 [==============================] - ETA: 0s - loss: 0.2996 - accuracy: 0.86 - 0s 369us/step - loss: 0.3021 - accuracy: 0.8583 - val_loss: 0.2957 - val_accuracy: 0.8750\n",
      "Epoch 79/100\n",
      "480/480 [==============================] - 0s 429us/step - loss: 0.3022 - accuracy: 0.8583 - val_loss: 0.2960 - val_accuracy: 0.8750\n",
      "Epoch 80/100\n",
      "480/480 [==============================] - 0s 348us/step - loss: 0.3020 - accuracy: 0.8583 - val_loss: 0.2955 - val_accuracy: 0.8750\n",
      "Epoch 81/100\n",
      "480/480 [==============================] - 0s 408us/step - loss: 0.3019 - accuracy: 0.8583 - val_loss: 0.2954 - val_accuracy: 0.8750\n",
      "Epoch 82/100\n",
      "480/480 [==============================] - 0s 408us/step - loss: 0.3020 - accuracy: 0.8583 - val_loss: 0.2953 - val_accuracy: 0.8750\n",
      "Epoch 83/100\n",
      "480/480 [==============================] - 0s 439us/step - loss: 0.3019 - accuracy: 0.8583 - val_loss: 0.2959 - val_accuracy: 0.8750\n",
      "Epoch 84/100\n",
      "480/480 [==============================] - 0s 402us/step - loss: 0.3018 - accuracy: 0.8604 - val_loss: 0.2950 - val_accuracy: 0.8750\n",
      "Epoch 85/100\n",
      "480/480 [==============================] - 0s 321us/step - loss: 0.3017 - accuracy: 0.8583 - val_loss: 0.2950 - val_accuracy: 0.8750\n",
      "Epoch 86/100\n",
      "480/480 [==============================] - 0s 402us/step - loss: 0.3015 - accuracy: 0.8583 - val_loss: 0.2946 - val_accuracy: 0.8750\n",
      "Epoch 87/100\n",
      "480/480 [==============================] - 0s 314us/step - loss: 0.3014 - accuracy: 0.8583 - val_loss: 0.2947 - val_accuracy: 0.8750\n",
      "Epoch 88/100\n",
      "480/480 [==============================] - 0s 294us/step - loss: 0.3014 - accuracy: 0.8583 - val_loss: 0.2947 - val_accuracy: 0.8750\n",
      "Epoch 89/100\n",
      "480/480 [==============================] - 0s 337us/step - loss: 0.3013 - accuracy: 0.8583 - val_loss: 0.2946 - val_accuracy: 0.8750\n",
      "Epoch 90/100\n",
      "480/480 [==============================] - 0s 352us/step - loss: 0.3013 - accuracy: 0.8583 - val_loss: 0.2944 - val_accuracy: 0.8750\n",
      "Epoch 91/100\n",
      "480/480 [==============================] - 0s 358us/step - loss: 0.3014 - accuracy: 0.8583 - val_loss: 0.2940 - val_accuracy: 0.8750\n",
      "Epoch 92/100\n",
      "480/480 [==============================] - 0s 312us/step - loss: 0.3011 - accuracy: 0.8583 - val_loss: 0.2940 - val_accuracy: 0.8750\n",
      "Epoch 93/100\n",
      "480/480 [==============================] - 0s 279us/step - loss: 0.3014 - accuracy: 0.8583 - val_loss: 0.2936 - val_accuracy: 0.8750\n",
      "Epoch 94/100\n",
      "480/480 [==============================] - 0s 275us/step - loss: 0.3010 - accuracy: 0.8583 - val_loss: 0.2932 - val_accuracy: 0.8750\n",
      "Epoch 95/100\n",
      "480/480 [==============================] - 0s 280us/step - loss: 0.3009 - accuracy: 0.8583 - val_loss: 0.2935 - val_accuracy: 0.8750\n",
      "Epoch 96/100\n",
      "480/480 [==============================] - 0s 314us/step - loss: 0.3010 - accuracy: 0.8604 - val_loss: 0.2934 - val_accuracy: 0.8750\n",
      "Epoch 97/100\n",
      "480/480 [==============================] - 0s 287us/step - loss: 0.3009 - accuracy: 0.8583 - val_loss: 0.2936 - val_accuracy: 0.8750\n",
      "Epoch 98/100\n",
      "480/480 [==============================] - 0s 275us/step - loss: 0.3008 - accuracy: 0.8583 - val_loss: 0.2928 - val_accuracy: 0.8750\n",
      "Epoch 99/100\n",
      "480/480 [==============================] - 0s 294us/step - loss: 0.3007 - accuracy: 0.8583 - val_loss: 0.2930 - val_accuracy: 0.8750\n",
      "Epoch 100/100\n",
      "480/480 [==============================] - 0s 288us/step - loss: 0.3006 - accuracy: 0.8583 - val_loss: 0.2922 - val_accuracy: 0.8750\n"
     ]
    }
   ],
   "source": [
    "# Fitting the ANN to the Training set\n",
    "history = cnn.fit(X_train, y_train, batch_size = 8, nb_epoch = 100, validation_data=(X_test, y_test))"
   ]
  },
  {
   "cell_type": "code",
   "execution_count": 44,
   "metadata": {},
   "outputs": [
    {
     "data": {
      "image/png": "[encoded data removed]",
      "text/plain": [
       "<Figure size 432x288 with 1 Axes>"
      ]
     },
     "metadata": {
      "needs_background": "light"
     },
     "output_type": "display_data"
    }
   ],
   "source": [
    "# Plotting loss & accuracy\n",
    "plt.figure()\n",
    "plt.plot(history.history['loss'])\n",
    "plt.plot(history.history['val_loss'])\n",
    "plt.title('model loss')\n",
    "plt.ylabel('loss')\n",
    "plt.xlabel('epoch')\n",
    "plt.legend(['train', 'test'], loc='best')\n",
    "plt.show()"
   ]
  },
  {
   "cell_type": "code",
   "execution_count": 45,
   "metadata": {},
   "outputs": [],
   "source": [
    "# Predicting the Test set results\n",
    "y_pred = cnn.predict(X_test)\n",
    "y_pred = (y_pred > 0.5)"
   ]
  },
  {
   "cell_type": "code",
   "execution_count": 46,
   "metadata": {},
   "outputs": [
    {
     "name": "stdout",
     "output_type": "stream",
     "text": [
      "[[55 11]\n",
      " [ 4 50]]\n"
     ]
    }
   ],
   "source": [
    "# Making the Confusion Matrix\n",
    "from sklearn.metrics import confusion_matrix\n",
    "cm = confusion_matrix(y_test, y_pred)\n",
    "print(cm)"
   ]
  },
  {
   "cell_type": "code",
   "execution_count": null,
   "metadata": {},
   "outputs": [],
   "source": [
    "# Visualising the Test set results\n",
    "from matplotlib.colors import ListedColormap\n",
    "X_set, y_set = X_test, y_test\n",
    "X1, X2 = np.meshgrid(np.arange(start = X_set[:, 0].min() - 1, stop = X_set[:, 0].max() + 1, step = 0.01),\n",
    "                     np.arange(start = X_set[:, 1].min() - 1, stop = X_set[:, 1].max() + 1, step = 0.01))\n",
    "plt.contourf(X1, X2, cnn.predict(np.array([X1.ravel(), X2.ravel()]).T).reshape(X1.shape),\n",
    "             alpha = 0.75, cmap = ListedColormap(('red', 'green')))\n",
    "plt.xlim(X1.min(), X1.max())\n",
    "plt.ylim(X2.min(), X2.max())\n",
    "for i, j in enumerate(np.unique(y_set)):\n",
    "    plt.scatter(X_set[y_set == j, 0], X_set[y_set == j, 1],\n",
    "                c = ListedColormap(('red', 'green'))(i), label = j)\n",
    "plt.title('NN (Test set)')\n",
    "plt.xlabel('Age')\n",
    "plt.ylabel('Income')\n",
    "plt.legend()\n",
    "plt.show()"
   ]
  }
 ],
 "metadata": {
  "kernelspec": {
   "display_name": "Python 3",
   "language": "python",
   "name": "python3"
  },
  "language_info": {
   "codemirror_mode": {
    "name": "ipython",
    "version": 3
   },
   "file_extension": ".py",
   "mimetype": "text/x-python",
   "name": "python",
   "nbconvert_exporter": "python",
   "pygments_lexer": "ipython3",
   "version": "3.7.6"
  }
 },
 "nbformat": 4,
 "nbformat_minor": 4
}
