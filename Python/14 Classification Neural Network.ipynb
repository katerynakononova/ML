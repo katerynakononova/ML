{
 "cells": [
  {
   "cell_type": "code",
   "execution_count": 10,
   "metadata": {},
   "outputs": [],
   "source": [
    "# Classification Neural Network"
   ]
  },
  {
   "cell_type": "code",
   "execution_count": 11,
   "metadata": {},
   "outputs": [],
   "source": [
    "# Importing the libraries\n",
    "import numpy as np\n",
    "import matplotlib.pyplot as plt\n",
    "import pandas as pd"
   ]
  },
  {
   "cell_type": "code",
   "execution_count": 12,
   "metadata": {},
   "outputs": [],
   "source": [
    "# Importing prepared dataset\n",
    "import pickle\n",
    "input = open('data.pkl', 'rb')\n",
    "obj = pickle.load(input)\n",
    "input.close()\n",
    "X_train = obj[\"X_train\"]\n",
    "X_test = obj[\"X_test\"]\n",
    "y_train = obj[\"y_train\"]\n",
    "y_test = obj[\"y_test\"]"
   ]
  },
  {
   "cell_type": "code",
   "execution_count": 13,
   "metadata": {},
   "outputs": [],
   "source": [
    "# Install Tensorflow\n",
    "# Install Keras\n",
    "# Importing the Keras libraries and packages\n",
    "import keras\n",
    "from keras.models import Sequential\n",
    "from keras.layers import Dense"
   ]
  },
  {
   "cell_type": "code",
   "execution_count": 14,
   "metadata": {},
   "outputs": [
    {
     "name": "stderr",
     "output_type": "stream",
     "text": [
      "C:\\Users\\kater\\anaconda3\\lib\\site-packages\\ipykernel_launcher.py:5: UserWarning: Update your `Dense` call to the Keras 2 API: `Dense(activation=\"sigmoid\", input_dim=2, units=2, kernel_initializer=\"uniform\")`\n",
      "  \"\"\"\n",
      "C:\\Users\\kater\\anaconda3\\lib\\site-packages\\ipykernel_launcher.py:8: UserWarning: Update your `Dense` call to the Keras 2 API: `Dense(activation=\"sigmoid\", units=1, kernel_initializer=\"uniform\")`\n",
      "  \n"
     ]
    }
   ],
   "source": [
    "# Initialising the ANN\n",
    "cnn = Sequential()\n",
    "\n",
    "# Adding the input layer and the first hidden layer\n",
    "cnn.add(Dense(output_dim = 2, init = 'uniform', activation = 'relu', input_dim = 2))\n",
    "\n",
    "# Adding the output layer\n",
    "cnn.add(Dense(output_dim = 1, init = 'uniform', activation = 'sigmoid'))\n",
    "\n",
    "# Compiling the ANN\n",
    "cnn.compile(optimizer = 'adam', loss = 'binary_crossentropy', metrics = ['accuracy'])"
   ]
  },
  {
   "cell_type": "code",
   "execution_count": 15,
   "metadata": {},
   "outputs": [
    {
     "name": "stderr",
     "output_type": "stream",
     "text": [
      "C:\\Users\\kater\\anaconda3\\lib\\site-packages\\ipykernel_launcher.py:2: UserWarning: The `nb_epoch` argument in `fit` has been renamed `epochs`.\n",
      "  \n"
     ]
    },
    {
     "name": "stdout",
     "output_type": "stream",
     "text": [
      "Epoch 1/100\n",
      "480/480 [==============================] - 0s 916us/step - loss: 0.6928 - accuracy: 0.6667\n",
      "Epoch 2/100\n",
      "480/480 [==============================] - 0s 375us/step - loss: 0.6918 - accuracy: 0.74790s - loss: 0.6920 - accuracy: \n",
      "Epoch 3/100\n",
      "480/480 [==============================] - 0s 375us/step - loss: 0.6900 - accuracy: 0.7896\n",
      "Epoch 4/100\n",
      "480/480 [==============================] - 0s 396us/step - loss: 0.6870 - accuracy: 0.8083\n",
      "Epoch 5/100\n",
      "480/480 [==============================] - 0s 412us/step - loss: 0.6824 - accuracy: 0.8438\n",
      "Epoch 6/100\n",
      "480/480 [==============================] - 0s 400us/step - loss: 0.6759 - accuracy: 0.8062\n",
      "Epoch 7/100\n",
      "480/480 [==============================] - 0s 319us/step - loss: 0.6677 - accuracy: 0.8125\n",
      "Epoch 8/100\n",
      "480/480 [==============================] - 0s 377us/step - loss: 0.6576 - accuracy: 0.8333\n",
      "Epoch 9/100\n",
      "480/480 [==============================] - 0s 364us/step - loss: 0.6466 - accuracy: 0.8313\n",
      "Epoch 10/100\n",
      "480/480 [==============================] - 0s 362us/step - loss: 0.6346 - accuracy: 0.8354\n",
      "Epoch 11/100\n",
      "480/480 [==============================] - 0s 364us/step - loss: 0.6225 - accuracy: 0.8375\n",
      "Epoch 12/100\n",
      "480/480 [==============================] - 0s 308us/step - loss: 0.6101 - accuracy: 0.8354\n",
      "Epoch 13/100\n",
      "480/480 [==============================] - 0s 314us/step - loss: 0.5979 - accuracy: 0.8354\n",
      "Epoch 14/100\n",
      "480/480 [==============================] - 0s 331us/step - loss: 0.5860 - accuracy: 0.8313\n",
      "Epoch 15/100\n",
      "480/480 [==============================] - 0s 329us/step - loss: 0.5740 - accuracy: 0.8354\n",
      "Epoch 16/100\n",
      "480/480 [==============================] - 0s 283us/step - loss: 0.5628 - accuracy: 0.8313\n",
      "Epoch 17/100\n",
      "480/480 [==============================] - 0s 362us/step - loss: 0.5520 - accuracy: 0.8333\n",
      "Epoch 18/100\n",
      "480/480 [==============================] - 0s 327us/step - loss: 0.5418 - accuracy: 0.8313\n",
      "Epoch 19/100\n",
      "480/480 [==============================] - 0s 300us/step - loss: 0.5317 - accuracy: 0.8333\n",
      "Epoch 20/100\n",
      "480/480 [==============================] - 0s 325us/step - loss: 0.5222 - accuracy: 0.8375\n",
      "Epoch 21/100\n",
      "480/480 [==============================] - 0s 418us/step - loss: 0.5132 - accuracy: 0.8375\n",
      "Epoch 22/100\n",
      "480/480 [==============================] - 0s 281us/step - loss: 0.5045 - accuracy: 0.8417\n",
      "Epoch 23/100\n",
      "480/480 [==============================] - 0s 277us/step - loss: 0.4962 - accuracy: 0.8458\n",
      "Epoch 24/100\n",
      "480/480 [==============================] - 0s 223us/step - loss: 0.4884 - accuracy: 0.8458\n",
      "Epoch 25/100\n",
      "480/480 [==============================] - 0s 246us/step - loss: 0.4808 - accuracy: 0.8458\n",
      "Epoch 26/100\n",
      "480/480 [==============================] - 0s 350us/step - loss: 0.4737 - accuracy: 0.8458\n",
      "Epoch 27/100\n",
      "480/480 [==============================] - 0s 312us/step - loss: 0.4669 - accuracy: 0.8458\n",
      "Epoch 28/100\n",
      "480/480 [==============================] - 0s 271us/step - loss: 0.4603 - accuracy: 0.8458\n",
      "Epoch 29/100\n",
      "480/480 [==============================] - 0s 298us/step - loss: 0.4541 - accuracy: 0.8458\n",
      "Epoch 30/100\n",
      "480/480 [==============================] - 0s 277us/step - loss: 0.4481 - accuracy: 0.8458\n",
      "Epoch 31/100\n",
      "480/480 [==============================] - 0s 256us/step - loss: 0.4423 - accuracy: 0.8458\n",
      "Epoch 32/100\n",
      "480/480 [==============================] - 0s 248us/step - loss: 0.4369 - accuracy: 0.8458\n",
      "Epoch 33/100\n",
      "480/480 [==============================] - 0s 246us/step - loss: 0.4315 - accuracy: 0.8479\n",
      "Epoch 34/100\n",
      "480/480 [==============================] - 0s 254us/step - loss: 0.4265 - accuracy: 0.8500\n",
      "Epoch 35/100\n",
      "480/480 [==============================] - 0s 248us/step - loss: 0.4217 - accuracy: 0.8500\n",
      "Epoch 36/100\n",
      "480/480 [==============================] - 0s 242us/step - loss: 0.4171 - accuracy: 0.8479\n",
      "Epoch 37/100\n",
      "480/480 [==============================] - 0s 252us/step - loss: 0.4126 - accuracy: 0.8500\n",
      "Epoch 38/100\n",
      "480/480 [==============================] - 0s 300us/step - loss: 0.4084 - accuracy: 0.8500\n",
      "Epoch 39/100\n",
      "480/480 [==============================] - 0s 312us/step - loss: 0.4042 - accuracy: 0.8521\n",
      "Epoch 40/100\n",
      "480/480 [==============================] - 0s 294us/step - loss: 0.4003 - accuracy: 0.8521\n",
      "Epoch 41/100\n",
      "480/480 [==============================] - 0s 279us/step - loss: 0.3966 - accuracy: 0.8521\n",
      "Epoch 42/100\n",
      "480/480 [==============================] - 0s 281us/step - loss: 0.3930 - accuracy: 0.8542\n",
      "Epoch 43/100\n",
      "480/480 [==============================] - 0s 262us/step - loss: 0.3896 - accuracy: 0.8542\n",
      "Epoch 44/100\n",
      "480/480 [==============================] - 0s 300us/step - loss: 0.3862 - accuracy: 0.8562\n",
      "Epoch 45/100\n",
      "480/480 [==============================] - 0s 294us/step - loss: 0.3830 - accuracy: 0.8562\n",
      "Epoch 46/100\n",
      "480/480 [==============================] - 0s 279us/step - loss: 0.3799 - accuracy: 0.8562\n",
      "Epoch 47/100\n",
      "480/480 [==============================] - 0s 273us/step - loss: 0.3770 - accuracy: 0.8542\n",
      "Epoch 48/100\n",
      "480/480 [==============================] - 0s 258us/step - loss: 0.3743 - accuracy: 0.8521\n",
      "Epoch 49/100\n",
      "480/480 [==============================] - 0s 281us/step - loss: 0.3714 - accuracy: 0.85420s - loss: 0.3779 - accuracy: 0.84\n",
      "Epoch 50/100\n",
      "480/480 [==============================] - 0s 271us/step - loss: 0.3688 - accuracy: 0.8542\n",
      "Epoch 51/100\n",
      "480/480 [==============================] - 0s 371us/step - loss: 0.3665 - accuracy: 0.85420s - loss: 0.3588 - accuracy: 0.86\n",
      "Epoch 52/100\n",
      "480/480 [==============================] - 0s 331us/step - loss: 0.3640 - accuracy: 0.8542\n",
      "Epoch 53/100\n",
      "480/480 [==============================] - 0s 283us/step - loss: 0.3617 - accuracy: 0.8542\n",
      "Epoch 54/100\n",
      "480/480 [==============================] - 0s 333us/step - loss: 0.3595 - accuracy: 0.8542\n",
      "Epoch 55/100\n",
      "480/480 [==============================] - 0s 350us/step - loss: 0.3573 - accuracy: 0.8542\n",
      "Epoch 56/100\n",
      "480/480 [==============================] - 0s 269us/step - loss: 0.3554 - accuracy: 0.8542\n",
      "Epoch 57/100\n",
      "480/480 [==============================] - 0s 366us/step - loss: 0.3535 - accuracy: 0.8562\n",
      "Epoch 58/100\n",
      "480/480 [==============================] - 0s 489us/step - loss: 0.3516 - accuracy: 0.8542\n",
      "Epoch 59/100\n",
      "480/480 [==============================] - 0s 398us/step - loss: 0.3496 - accuracy: 0.8542\n",
      "Epoch 60/100\n",
      "480/480 [==============================] - 0s 314us/step - loss: 0.3479 - accuracy: 0.8542\n",
      "Epoch 61/100\n",
      "480/480 [==============================] - 0s 364us/step - loss: 0.3463 - accuracy: 0.8542\n",
      "Epoch 62/100\n",
      "480/480 [==============================] - 0s 418us/step - loss: 0.3447 - accuracy: 0.8583\n",
      "Epoch 63/100\n",
      "480/480 [==============================] - 0s 412us/step - loss: 0.3431 - accuracy: 0.8562\n",
      "Epoch 64/100\n",
      "480/480 [==============================] - 0s 433us/step - loss: 0.3416 - accuracy: 0.8562\n",
      "Epoch 65/100\n",
      "480/480 [==============================] - 0s 433us/step - loss: 0.3403 - accuracy: 0.8562\n",
      "Epoch 66/100\n",
      "480/480 [==============================] - 0s 454us/step - loss: 0.3391 - accuracy: 0.8562\n",
      "Epoch 67/100\n",
      "480/480 [==============================] - 0s 610us/step - loss: 0.3375 - accuracy: 0.8562\n",
      "Epoch 68/100\n",
      "480/480 [==============================] - 0s 602us/step - loss: 0.3362 - accuracy: 0.8562\n",
      "Epoch 69/100\n",
      "480/480 [==============================] - 0s 533us/step - loss: 0.3350 - accuracy: 0.8562\n",
      "Epoch 70/100\n",
      "480/480 [==============================] - 0s 471us/step - loss: 0.3338 - accuracy: 0.8583\n",
      "Epoch 71/100\n",
      "480/480 [==============================] - 0s 485us/step - loss: 0.3328 - accuracy: 0.8521\n",
      "Epoch 72/100\n",
      "480/480 [==============================] - 0s 400us/step - loss: 0.3316 - accuracy: 0.8542\n",
      "Epoch 73/100\n",
      "480/480 [==============================] - 0s 341us/step - loss: 0.3307 - accuracy: 0.8562\n",
      "Epoch 74/100\n",
      "480/480 [==============================] - 0s 364us/step - loss: 0.3297 - accuracy: 0.8562\n",
      "Epoch 75/100\n",
      "480/480 [==============================] - 0s 331us/step - loss: 0.3286 - accuracy: 0.8562\n",
      "Epoch 76/100\n",
      "480/480 [==============================] - 0s 391us/step - loss: 0.3276 - accuracy: 0.8562\n",
      "Epoch 77/100\n",
      "480/480 [==============================] - 0s 423us/step - loss: 0.3268 - accuracy: 0.8562\n",
      "Epoch 78/100\n"
     ]
    },
    {
     "name": "stdout",
     "output_type": "stream",
     "text": [
      "480/480 [==============================] - 0s 327us/step - loss: 0.3259 - accuracy: 0.8562\n",
      "Epoch 79/100\n",
      "480/480 [==============================] - 0s 344us/step - loss: 0.3250 - accuracy: 0.8542\n",
      "Epoch 80/100\n",
      "480/480 [==============================] - 0s 456us/step - loss: 0.3242 - accuracy: 0.8542\n",
      "Epoch 81/100\n",
      "480/480 [==============================] - 0s 360us/step - loss: 0.3235 - accuracy: 0.8542\n",
      "Epoch 82/100\n",
      "480/480 [==============================] - 0s 471us/step - loss: 0.3228 - accuracy: 0.8542\n",
      "Epoch 83/100\n",
      "480/480 [==============================] - 0s 429us/step - loss: 0.3221 - accuracy: 0.8542\n",
      "Epoch 84/100\n",
      "480/480 [==============================] - 0s 394us/step - loss: 0.3214 - accuracy: 0.8583\n",
      "Epoch 85/100\n",
      "480/480 [==============================] - 0s 358us/step - loss: 0.3207 - accuracy: 0.8583\n",
      "Epoch 86/100\n",
      "480/480 [==============================] - 0s 377us/step - loss: 0.3201 - accuracy: 0.8583\n",
      "Epoch 87/100\n",
      "480/480 [==============================] - 0s 425us/step - loss: 0.3195 - accuracy: 0.8583\n",
      "Epoch 88/100\n",
      "480/480 [==============================] - 0s 429us/step - loss: 0.3191 - accuracy: 0.8583\n",
      "Epoch 89/100\n",
      "480/480 [==============================] - 0s 381us/step - loss: 0.3183 - accuracy: 0.8562\n",
      "Epoch 90/100\n",
      "480/480 [==============================] - 0s 450us/step - loss: 0.3177 - accuracy: 0.8542\n",
      "Epoch 91/100\n",
      "480/480 [==============================] - 0s 539us/step - loss: 0.3172 - accuracy: 0.8542\n",
      "Epoch 92/100\n",
      "480/480 [==============================] - 0s 539us/step - loss: 0.3166 - accuracy: 0.8542\n",
      "Epoch 93/100\n",
      "480/480 [==============================] - 0s 408us/step - loss: 0.3165 - accuracy: 0.8542\n",
      "Epoch 94/100\n",
      "480/480 [==============================] - 0s 350us/step - loss: 0.3158 - accuracy: 0.8542\n",
      "Epoch 95/100\n",
      "480/480 [==============================] - 0s 412us/step - loss: 0.3155 - accuracy: 0.8542\n",
      "Epoch 96/100\n",
      "480/480 [==============================] - 0s 412us/step - loss: 0.3148 - accuracy: 0.8542\n",
      "Epoch 97/100\n",
      "480/480 [==============================] - 0s 360us/step - loss: 0.3143 - accuracy: 0.8542\n",
      "Epoch 98/100\n",
      "480/480 [==============================] - 0s 475us/step - loss: 0.3138 - accuracy: 0.8542\n",
      "Epoch 99/100\n",
      "480/480 [==============================] - 0s 543us/step - loss: 0.3135 - accuracy: 0.8542\n",
      "Epoch 100/100\n",
      "480/480 [==============================] - 0s 454us/step - loss: 0.3131 - accuracy: 0.8542\n"
     ]
    },
    {
     "data": {
      "text/plain": [
       "<keras.callbacks.callbacks.History at 0x22df49a3108>"
      ]
     },
     "execution_count": 15,
     "metadata": {},
     "output_type": "execute_result"
    }
   ],
   "source": [
    "# Fitting the ANN to the Training set\n",
    "cnn.fit(X_train, y_train, batch_size = 8, nb_epoch = 100)"
   ]
  },
  {
   "cell_type": "code",
   "execution_count": 16,
   "metadata": {},
   "outputs": [],
   "source": [
    "# Predicting the Test set results\n",
    "y_pred = cnn.predict(X_test)\n",
    "y_pred = (y_pred > 0.5)"
   ]
  },
  {
   "cell_type": "code",
   "execution_count": 17,
   "metadata": {},
   "outputs": [
    {
     "name": "stdout",
     "output_type": "stream",
     "text": [
      "[[55 11]\n",
      " [ 4 50]]\n"
     ]
    }
   ],
   "source": [
    "# Making the Confusion Matrix\n",
    "from sklearn.metrics import confusion_matrix\n",
    "cm = confusion_matrix(y_test, y_pred)\n",
    "print(cm)"
   ]
  },
  {
   "cell_type": "code",
   "execution_count": 18,
   "metadata": {},
   "outputs": [
    {
     "name": "stderr",
     "output_type": "stream",
     "text": [
      "'c' argument looks like a single numeric RGB or RGBA sequence, which should be avoided as value-mapping will have precedence in case its length matches with 'x' & 'y'.  Please use a 2-D array with a single row if you really want to specify the same RGB or RGBA value for all points.\n",
      "'c' argument looks like a single numeric RGB or RGBA sequence, which should be avoided as value-mapping will have precedence in case its length matches with 'x' & 'y'.  Please use a 2-D array with a single row if you really want to specify the same RGB or RGBA value for all points.\n"
     ]
    },
    {
     "data": {
      "image/png": "[encoded data removed]",
      "text/plain": [
       "<Figure size 432x288 with 1 Axes>"
      ]
     },
     "metadata": {
      "needs_background": "light"
     },
     "output_type": "display_data"
    }
   ],
   "source": [
    "# Visualising the Test set results\n",
    "from matplotlib.colors import ListedColormap\n",
    "X_set, y_set = X_test, y_test\n",
    "X1, X2 = np.meshgrid(np.arange(start = X_set[:, 0].min() - 1, stop = X_set[:, 0].max() + 1, step = 0.01),\n",
    "                     np.arange(start = X_set[:, 1].min() - 1, stop = X_set[:, 1].max() + 1, step = 0.01))\n",
    "plt.contourf(X1, X2, cnn.predict(np.array([X1.ravel(), X2.ravel()]).T).reshape(X1.shape),\n",
    "             alpha = 0.75, cmap = ListedColormap(('red', 'green')))\n",
    "plt.xlim(X1.min(), X1.max())\n",
    "plt.ylim(X2.min(), X2.max())\n",
    "for i, j in enumerate(np.unique(y_set)):\n",
    "    plt.scatter(X_set[y_set == j, 0], X_set[y_set == j, 1],\n",
    "                c = ListedColormap(('red', 'green'))(i), label = j)\n",
    "plt.title('NN (Test set)')\n",
    "plt.xlabel('Age')\n",
    "plt.ylabel('Income')\n",
    "plt.legend()\n",
    "plt.show()"
   ]
  }
 ],
 "metadata": {
  "kernelspec": {
   "display_name": "Python 3",
   "language": "python",
   "name": "python3"
  },
  "language_info": {
   "codemirror_mode": {
    "name": "ipython",
    "version": 3
   },
   "file_extension": ".py",
   "mimetype": "text/x-python",
   "name": "python",
   "nbconvert_exporter": "python",
   "pygments_lexer": "ipython3",
   "version": "3.7.6"
  }
 },
 "nbformat": 4,
 "nbformat_minor": 4
}
