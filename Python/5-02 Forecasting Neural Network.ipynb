{
 "cells": [
  {
   "cell_type": "markdown",
   "metadata": {},
   "source": [
    "# Forecasting Neural Network"
   ]
  },
  {
   "cell_type": "code",
   "execution_count": 2,
   "metadata": {},
   "outputs": [],
   "source": [
    "# Importing the libraries\n",
    "import numpy as np\n",
    "import matplotlib.pyplot as plt\n",
    "import pandas as pd"
   ]
  },
  {
   "cell_type": "code",
   "execution_count": 3,
   "metadata": {
    "scrolled": true
   },
   "outputs": [
    {
     "data": {
      "text/plain": [
       "<AxesSubplot:>"
      ]
     },
     "execution_count": 3,
     "metadata": {},
     "output_type": "execute_result"
    },
    {
     "data": {
      "image/png": "[encoded data removed]",
      "text/plain": [
       "<Figure size 432x288 with 1 Axes>"
      ]
     },
     "metadata": {
      "needs_background": "light"
     },
     "output_type": "display_data"
    }
   ],
   "source": [
    "# Importing the dataset\n",
    "ts = pd.read_csv('iPhone.csv')\n",
    "ts.plot()"
   ]
  },
  {
   "cell_type": "code",
   "execution_count": 5,
   "metadata": {},
   "outputs": [
    {
     "data": {
      "text/html": [
       "<div>\n",
       "<style scoped>\n",
       "    .dataframe tbody tr th:only-of-type {\n",
       "        vertical-align: middle;\n",
       "    }\n",
       "\n",
       "    .dataframe tbody tr th {\n",
       "        vertical-align: top;\n",
       "    }\n",
       "\n",
       "    .dataframe thead th {\n",
       "        text-align: right;\n",
       "    }\n",
       "</style>\n",
       "<table border=\"1\" class=\"dataframe\">\n",
       "  <thead>\n",
       "    <tr style=\"text-align: right;\">\n",
       "      <th></th>\n",
       "      <th>date</th>\n",
       "      <th>search</th>\n",
       "    </tr>\n",
       "  </thead>\n",
       "  <tbody>\n",
       "    <tr>\n",
       "      <th>0</th>\n",
       "      <td>2014-05-11</td>\n",
       "      <td>37</td>\n",
       "    </tr>\n",
       "    <tr>\n",
       "      <th>1</th>\n",
       "      <td>2014-05-18</td>\n",
       "      <td>36</td>\n",
       "    </tr>\n",
       "    <tr>\n",
       "      <th>2</th>\n",
       "      <td>2014-05-25</td>\n",
       "      <td>36</td>\n",
       "    </tr>\n",
       "    <tr>\n",
       "      <th>3</th>\n",
       "      <td>2014-06-01</td>\n",
       "      <td>38</td>\n",
       "    </tr>\n",
       "    <tr>\n",
       "      <th>4</th>\n",
       "      <td>2014-06-08</td>\n",
       "      <td>36</td>\n",
       "    </tr>\n",
       "  </tbody>\n",
       "</table>\n",
       "</div>"
      ],
      "text/plain": [
       "         date  search\n",
       "0  2014-05-11      37\n",
       "1  2014-05-18      36\n",
       "2  2014-05-25      36\n",
       "3  2014-06-01      38\n",
       "4  2014-06-08      36"
      ]
     },
     "execution_count": 5,
     "metadata": {},
     "output_type": "execute_result"
    }
   ],
   "source": [
    "ts.head()"
   ]
  },
  {
   "cell_type": "code",
   "execution_count": 3,
   "metadata": {},
   "outputs": [
    {
     "name": "stdout",
     "output_type": "stream",
     "text": [
      "ADF Statistic: -5.668556\n",
      "p-value: 0.000001\n",
      "Critical Values:\n",
      "\t1%: -3.456\n",
      "\t5%: -2.873\n",
      "\t10%: -2.573\n"
     ]
    }
   ],
   "source": [
    "# Checking Stationarity\n",
    "from statsmodels.tsa.stattools import adfuller\n",
    "adf = adfuller(ts[['search']])\n",
    "print('ADF Statistic: %f' % adf[0])\n",
    "print('p-value: %f' % adf[1])\n",
    "print('Critical Values:')\n",
    "for key, value in adf[4].items():\n",
    "    print('\\t%s: %.3f' % (key, value))\n",
    "# Conclusion:  The null hypothesis is rejected, the process has no unit root, the time series is stationary or does not have time-dependent structure."
   ]
  },
  {
   "cell_type": "code",
   "execution_count": 4,
   "metadata": {},
   "outputs": [],
   "source": [
    "# Feature Scaling\n",
    "from sklearn.preprocessing import MinMaxScaler\n",
    "sc = MinMaxScaler(feature_range=(-1, 1))\n",
    "ts['sc'] = sc.fit_transform(ts[['search']])"
   ]
  },
  {
   "cell_type": "code",
   "execution_count": 5,
   "metadata": {},
   "outputs": [],
   "source": [
    "# Creating lagged dataset\n",
    "ts['x1'] = ts[['sc']].shift(1)\n",
    "ts['x2'] = ts[['sc']].shift(2)\n",
    "ts['x3'] = ts[['sc']].shift(3)\n",
    "ts.columns = ['t','search','y','x1','x2','x3']"
   ]
  },
  {
   "cell_type": "code",
   "execution_count": 6,
   "metadata": {},
   "outputs": [
    {
     "data": {
      "text/html": [
       "<div>\n",
       "<style scoped>\n",
       "    .dataframe tbody tr th:only-of-type {\n",
       "        vertical-align: middle;\n",
       "    }\n",
       "\n",
       "    .dataframe tbody tr th {\n",
       "        vertical-align: top;\n",
       "    }\n",
       "\n",
       "    .dataframe thead th {\n",
       "        text-align: right;\n",
       "    }\n",
       "</style>\n",
       "<table border=\"1\" class=\"dataframe\">\n",
       "  <thead>\n",
       "    <tr style=\"text-align: right;\">\n",
       "      <th></th>\n",
       "      <th>t</th>\n",
       "      <th>search</th>\n",
       "      <th>y</th>\n",
       "      <th>x1</th>\n",
       "      <th>x2</th>\n",
       "      <th>x3</th>\n",
       "    </tr>\n",
       "  </thead>\n",
       "  <tbody>\n",
       "    <tr>\n",
       "      <th>0</th>\n",
       "      <td>2014-05-11</td>\n",
       "      <td>37</td>\n",
       "      <td>-0.852941</td>\n",
       "      <td>NaN</td>\n",
       "      <td>NaN</td>\n",
       "      <td>NaN</td>\n",
       "    </tr>\n",
       "    <tr>\n",
       "      <th>1</th>\n",
       "      <td>2014-05-18</td>\n",
       "      <td>36</td>\n",
       "      <td>-0.882353</td>\n",
       "      <td>-0.852941</td>\n",
       "      <td>NaN</td>\n",
       "      <td>NaN</td>\n",
       "    </tr>\n",
       "    <tr>\n",
       "      <th>2</th>\n",
       "      <td>2014-05-25</td>\n",
       "      <td>36</td>\n",
       "      <td>-0.882353</td>\n",
       "      <td>-0.882353</td>\n",
       "      <td>-0.852941</td>\n",
       "      <td>NaN</td>\n",
       "    </tr>\n",
       "    <tr>\n",
       "      <th>3</th>\n",
       "      <td>2014-06-01</td>\n",
       "      <td>38</td>\n",
       "      <td>-0.823529</td>\n",
       "      <td>-0.882353</td>\n",
       "      <td>-0.882353</td>\n",
       "      <td>-0.852941</td>\n",
       "    </tr>\n",
       "    <tr>\n",
       "      <th>4</th>\n",
       "      <td>2014-06-08</td>\n",
       "      <td>36</td>\n",
       "      <td>-0.882353</td>\n",
       "      <td>-0.823529</td>\n",
       "      <td>-0.882353</td>\n",
       "      <td>-0.882353</td>\n",
       "    </tr>\n",
       "    <tr>\n",
       "      <th>...</th>\n",
       "      <td>...</td>\n",
       "      <td>...</td>\n",
       "      <td>...</td>\n",
       "      <td>...</td>\n",
       "      <td>...</td>\n",
       "      <td>...</td>\n",
       "    </tr>\n",
       "    <tr>\n",
       "      <th>256</th>\n",
       "      <td>2019-04-07</td>\n",
       "      <td>32</td>\n",
       "      <td>-1.000000</td>\n",
       "      <td>-0.970588</td>\n",
       "      <td>-0.941176</td>\n",
       "      <td>-0.970588</td>\n",
       "    </tr>\n",
       "    <tr>\n",
       "      <th>257</th>\n",
       "      <td>2019-04-14</td>\n",
       "      <td>33</td>\n",
       "      <td>-0.970588</td>\n",
       "      <td>-1.000000</td>\n",
       "      <td>-0.970588</td>\n",
       "      <td>-0.941176</td>\n",
       "    </tr>\n",
       "    <tr>\n",
       "      <th>258</th>\n",
       "      <td>2019-04-21</td>\n",
       "      <td>33</td>\n",
       "      <td>-0.970588</td>\n",
       "      <td>-0.970588</td>\n",
       "      <td>-1.000000</td>\n",
       "      <td>-0.970588</td>\n",
       "    </tr>\n",
       "    <tr>\n",
       "      <th>259</th>\n",
       "      <td>2019-04-28</td>\n",
       "      <td>33</td>\n",
       "      <td>-0.970588</td>\n",
       "      <td>-0.970588</td>\n",
       "      <td>-0.970588</td>\n",
       "      <td>-1.000000</td>\n",
       "    </tr>\n",
       "    <tr>\n",
       "      <th>260</th>\n",
       "      <td>2019-05-05</td>\n",
       "      <td>33</td>\n",
       "      <td>-0.970588</td>\n",
       "      <td>-0.970588</td>\n",
       "      <td>-0.970588</td>\n",
       "      <td>-0.970588</td>\n",
       "    </tr>\n",
       "  </tbody>\n",
       "</table>\n",
       "<p>261 rows × 6 columns</p>\n",
       "</div>"
      ],
      "text/plain": [
       "              t  search         y        x1        x2        x3\n",
       "0    2014-05-11      37 -0.852941       NaN       NaN       NaN\n",
       "1    2014-05-18      36 -0.882353 -0.852941       NaN       NaN\n",
       "2    2014-05-25      36 -0.882353 -0.882353 -0.852941       NaN\n",
       "3    2014-06-01      38 -0.823529 -0.882353 -0.882353 -0.852941\n",
       "4    2014-06-08      36 -0.882353 -0.823529 -0.882353 -0.882353\n",
       "..          ...     ...       ...       ...       ...       ...\n",
       "256  2019-04-07      32 -1.000000 -0.970588 -0.941176 -0.970588\n",
       "257  2019-04-14      33 -0.970588 -1.000000 -0.970588 -0.941176\n",
       "258  2019-04-21      33 -0.970588 -0.970588 -1.000000 -0.970588\n",
       "259  2019-04-28      33 -0.970588 -0.970588 -0.970588 -1.000000\n",
       "260  2019-05-05      33 -0.970588 -0.970588 -0.970588 -0.970588\n",
       "\n",
       "[261 rows x 6 columns]"
      ]
     },
     "execution_count": 6,
     "metadata": {},
     "output_type": "execute_result"
    }
   ],
   "source": [
    "ts"
   ]
  },
  {
   "cell_type": "code",
   "execution_count": 8,
   "metadata": {},
   "outputs": [],
   "source": [
    "# Splitting the dataset into the Training set and Test set\n",
    "train_size = int(len(ts[['y']]) * 0.7)\n",
    "train, test = ts[3:train_size], ts[train_size:]\n",
    "train_X, train_y = train[['x1','x2','x3']], train[['y']].to_numpy()\n",
    "test_X, test_y = test[['x1','x2','x3']], test[['y']].to_numpy()"
   ]
  },
  {
   "cell_type": "code",
   "execution_count": 9,
   "metadata": {},
   "outputs": [
    {
     "name": "stderr",
     "output_type": "stream",
     "text": [
      "Using TensorFlow backend.\n",
      "C:\\Users\\kater\\anaconda3\\lib\\site-packages\\tensorflow\\python\\framework\\dtypes.py:516: FutureWarning: Passing (type, 1) or '1type' as a synonym of type is deprecated; in a future version of numpy, it will be understood as (type, (1,)) / '(1,)type'.\n",
      "  _np_qint8 = np.dtype([(\"qint8\", np.int8, 1)])\n",
      "C:\\Users\\kater\\anaconda3\\lib\\site-packages\\tensorflow\\python\\framework\\dtypes.py:517: FutureWarning: Passing (type, 1) or '1type' as a synonym of type is deprecated; in a future version of numpy, it will be understood as (type, (1,)) / '(1,)type'.\n",
      "  _np_quint8 = np.dtype([(\"quint8\", np.uint8, 1)])\n",
      "C:\\Users\\kater\\anaconda3\\lib\\site-packages\\tensorflow\\python\\framework\\dtypes.py:518: FutureWarning: Passing (type, 1) or '1type' as a synonym of type is deprecated; in a future version of numpy, it will be understood as (type, (1,)) / '(1,)type'.\n",
      "  _np_qint16 = np.dtype([(\"qint16\", np.int16, 1)])\n",
      "C:\\Users\\kater\\anaconda3\\lib\\site-packages\\tensorflow\\python\\framework\\dtypes.py:519: FutureWarning: Passing (type, 1) or '1type' as a synonym of type is deprecated; in a future version of numpy, it will be understood as (type, (1,)) / '(1,)type'.\n",
      "  _np_quint16 = np.dtype([(\"quint16\", np.uint16, 1)])\n",
      "C:\\Users\\kater\\anaconda3\\lib\\site-packages\\tensorflow\\python\\framework\\dtypes.py:520: FutureWarning: Passing (type, 1) or '1type' as a synonym of type is deprecated; in a future version of numpy, it will be understood as (type, (1,)) / '(1,)type'.\n",
      "  _np_qint32 = np.dtype([(\"qint32\", np.int32, 1)])\n",
      "C:\\Users\\kater\\anaconda3\\lib\\site-packages\\tensorflow\\python\\framework\\dtypes.py:525: FutureWarning: Passing (type, 1) or '1type' as a synonym of type is deprecated; in a future version of numpy, it will be understood as (type, (1,)) / '(1,)type'.\n",
      "  np_resource = np.dtype([(\"resource\", np.ubyte, 1)])\n",
      "C:\\Users\\kater\\anaconda3\\lib\\site-packages\\tensorboard\\compat\\tensorflow_stub\\dtypes.py:541: FutureWarning: Passing (type, 1) or '1type' as a synonym of type is deprecated; in a future version of numpy, it will be understood as (type, (1,)) / '(1,)type'.\n",
      "  _np_qint8 = np.dtype([(\"qint8\", np.int8, 1)])\n",
      "C:\\Users\\kater\\anaconda3\\lib\\site-packages\\tensorboard\\compat\\tensorflow_stub\\dtypes.py:542: FutureWarning: Passing (type, 1) or '1type' as a synonym of type is deprecated; in a future version of numpy, it will be understood as (type, (1,)) / '(1,)type'.\n",
      "  _np_quint8 = np.dtype([(\"quint8\", np.uint8, 1)])\n",
      "C:\\Users\\kater\\anaconda3\\lib\\site-packages\\tensorboard\\compat\\tensorflow_stub\\dtypes.py:543: FutureWarning: Passing (type, 1) or '1type' as a synonym of type is deprecated; in a future version of numpy, it will be understood as (type, (1,)) / '(1,)type'.\n",
      "  _np_qint16 = np.dtype([(\"qint16\", np.int16, 1)])\n",
      "C:\\Users\\kater\\anaconda3\\lib\\site-packages\\tensorboard\\compat\\tensorflow_stub\\dtypes.py:544: FutureWarning: Passing (type, 1) or '1type' as a synonym of type is deprecated; in a future version of numpy, it will be understood as (type, (1,)) / '(1,)type'.\n",
      "  _np_quint16 = np.dtype([(\"quint16\", np.uint16, 1)])\n",
      "C:\\Users\\kater\\anaconda3\\lib\\site-packages\\tensorboard\\compat\\tensorflow_stub\\dtypes.py:545: FutureWarning: Passing (type, 1) or '1type' as a synonym of type is deprecated; in a future version of numpy, it will be understood as (type, (1,)) / '(1,)type'.\n",
      "  _np_qint32 = np.dtype([(\"qint32\", np.int32, 1)])\n",
      "C:\\Users\\kater\\anaconda3\\lib\\site-packages\\tensorboard\\compat\\tensorflow_stub\\dtypes.py:550: FutureWarning: Passing (type, 1) or '1type' as a synonym of type is deprecated; in a future version of numpy, it will be understood as (type, (1,)) / '(1,)type'.\n",
      "  np_resource = np.dtype([(\"resource\", np.ubyte, 1)])\n"
     ]
    }
   ],
   "source": [
    "# Install Tensorflow\n",
    "# Install Keras\n",
    "# Importing the Keras libraries and packages\n",
    "import keras\n",
    "from keras.models import Sequential\n",
    "from keras.layers import Dense"
   ]
  },
  {
   "cell_type": "code",
   "execution_count": 10,
   "metadata": {},
   "outputs": [
    {
     "name": "stderr",
     "output_type": "stream",
     "text": [
      "C:\\Users\\kater\\anaconda3\\lib\\site-packages\\ipykernel_launcher.py:9: UserWarning: Update your `Dense` call to the Keras 2 API: `Dense(activation=\"tanh\", input_dim=3, units=7)`\n",
      "  if __name__ == '__main__':\n",
      "C:\\Users\\kater\\anaconda3\\lib\\site-packages\\ipykernel_launcher.py:12: UserWarning: Update your `Dense` call to the Keras 2 API: `Dense(activation=\"linear\", units=5)`\n",
      "  if sys.path[0] == '':\n",
      "C:\\Users\\kater\\anaconda3\\lib\\site-packages\\ipykernel_launcher.py:15: UserWarning: Update your `Dense` call to the Keras 2 API: `Dense(activation=\"tanh\", units=1)`\n",
      "  from ipykernel import kernelapp as app\n"
     ]
    }
   ],
   "source": [
    "# Creating model\n",
    "#np.random.get_state()[1][0]\n",
    "np.random.seed(605891282)\n",
    "\n",
    "# Initialising the ANN\n",
    "fnn = Sequential()\n",
    "\n",
    "# Adding the input layer and the first hidden layer\n",
    "fnn.add(Dense(output_dim = 7, activation = 'tanh', input_dim = 3))\n",
    "\n",
    "# Adding the second hidden layer\n",
    "fnn.add(Dense(output_dim = 5, activation = 'linear'))\n",
    "\n",
    "# Adding the output layer\n",
    "fnn.add(Dense(output_dim = 1, activation = 'tanh'))\n",
    "\n",
    "# Compiling the ANN\n",
    "fnn.compile(optimizer='adam', loss='mean_squared_error', metrics = ['accuracy'])"
   ]
  },
  {
   "cell_type": "code",
   "execution_count": 106,
   "metadata": {},
   "outputs": [
    {
     "name": "stdout",
     "output_type": "stream",
     "text": [
      "Epoch 1/200\n",
      "179/179 [==============================] - 0s 201us/step - loss: 0.0396 - accuracy: 0.0056\n",
      "Epoch 2/200\n",
      "179/179 [==============================] - 0s 223us/step - loss: 0.0406 - accuracy: 0.0056\n",
      "Epoch 3/200\n",
      "179/179 [==============================] - 0s 201us/step - loss: 0.0403 - accuracy: 0.0056\n",
      "Epoch 4/200\n",
      "179/179 [==============================] - 0s 190us/step - loss: 0.0404 - accuracy: 0.0056\n",
      "Epoch 5/200\n",
      "  7/179 [>.............................] - ETA: 0s - loss: 0.0031 - accuracy: 0.0000e+00"
     ]
    },
    {
     "name": "stderr",
     "output_type": "stream",
     "text": [
      "C:\\Users\\User\\anaconda3\\lib\\site-packages\\ipykernel_launcher.py:2: UserWarning: The `nb_epoch` argument in `fit` has been renamed `epochs`.\n",
      "  \n"
     ]
    },
    {
     "name": "stdout",
     "output_type": "stream",
     "text": [
      "179/179 [==============================] - 0s 179us/step - loss: 0.0398 - accuracy: 0.0056\n",
      "Epoch 6/200\n",
      "179/179 [==============================] - 0s 201us/step - loss: 0.0395 - accuracy: 0.0056\n",
      "Epoch 7/200\n",
      "179/179 [==============================] - 0s 195us/step - loss: 0.0403 - accuracy: 0.0056\n",
      "Epoch 8/200\n",
      "179/179 [==============================] - 0s 179us/step - loss: 0.0404 - accuracy: 0.0056\n",
      "Epoch 9/200\n",
      "179/179 [==============================] - 0s 179us/step - loss: 0.0396 - accuracy: 0.0056\n",
      "Epoch 10/200\n",
      "179/179 [==============================] - 0s 207us/step - loss: 0.0396 - accuracy: 0.0056\n",
      "Epoch 11/200\n",
      "179/179 [==============================] - 0s 251us/step - loss: 0.0399 - accuracy: 0.0056\n",
      "Epoch 12/200\n",
      "179/179 [==============================] - 0s 223us/step - loss: 0.0395 - accuracy: 0.0056\n",
      "Epoch 13/200\n",
      "179/179 [==============================] - 0s 251us/step - loss: 0.0397 - accuracy: 0.0056\n",
      "Epoch 14/200\n",
      "179/179 [==============================] - 0s 207us/step - loss: 0.0400 - accuracy: 0.0056\n",
      "Epoch 15/200\n",
      "179/179 [==============================] - 0s 184us/step - loss: 0.0396 - accuracy: 0.0056\n",
      "Epoch 16/200\n",
      "179/179 [==============================] - 0s 190us/step - loss: 0.0400 - accuracy: 0.0056\n",
      "Epoch 17/200\n",
      "179/179 [==============================] - 0s 207us/step - loss: 0.0396 - accuracy: 0.0056\n",
      "Epoch 18/200\n",
      "179/179 [==============================] - 0s 162us/step - loss: 0.0396 - accuracy: 0.0056\n",
      "Epoch 19/200\n",
      "179/179 [==============================] - 0s 173us/step - loss: 0.0399 - accuracy: 0.0056\n",
      "Epoch 20/200\n",
      "179/179 [==============================] - 0s 190us/step - loss: 0.0395 - accuracy: 0.0056\n",
      "Epoch 21/200\n",
      "179/179 [==============================] - 0s 190us/step - loss: 0.0394 - accuracy: 0.0056\n",
      "Epoch 22/200\n",
      "179/179 [==============================] - 0s 195us/step - loss: 0.0395 - accuracy: 0.0056\n",
      "Epoch 23/200\n",
      "179/179 [==============================] - 0s 207us/step - loss: 0.0395 - accuracy: 0.0056\n",
      "Epoch 24/200\n",
      "179/179 [==============================] - 0s 201us/step - loss: 0.0399 - accuracy: 0.0056\n",
      "Epoch 25/200\n",
      "179/179 [==============================] - 0s 218us/step - loss: 0.0396 - accuracy: 0.0056\n",
      "Epoch 26/200\n",
      "179/179 [==============================] - 0s 201us/step - loss: 0.0398 - accuracy: 0.0056\n",
      "Epoch 27/200\n",
      "179/179 [==============================] - 0s 251us/step - loss: 0.0398 - accuracy: 0.0056\n",
      "Epoch 28/200\n",
      "179/179 [==============================] - 0s 212us/step - loss: 0.0410 - accuracy: 0.0056\n",
      "Epoch 29/200\n",
      "179/179 [==============================] - 0s 234us/step - loss: 0.0402 - accuracy: 0.0056\n",
      "Epoch 30/200\n",
      "179/179 [==============================] - 0s 223us/step - loss: 0.0394 - accuracy: 0.0056\n",
      "Epoch 31/200\n",
      "179/179 [==============================] - 0s 201us/step - loss: 0.0402 - accuracy: 0.0056\n",
      "Epoch 32/200\n",
      "179/179 [==============================] - 0s 195us/step - loss: 0.0402 - accuracy: 0.0056\n",
      "Epoch 33/200\n",
      "179/179 [==============================] - 0s 218us/step - loss: 0.0397 - accuracy: 0.0056\n",
      "Epoch 34/200\n",
      "179/179 [==============================] - 0s 201us/step - loss: 0.0397 - accuracy: 0.0056\n",
      "Epoch 35/200\n",
      "179/179 [==============================] - 0s 229us/step - loss: 0.0398 - accuracy: 0.0056\n",
      "Epoch 36/200\n",
      "179/179 [==============================] - 0s 207us/step - loss: 0.0404 - accuracy: 0.0056\n",
      "Epoch 37/200\n",
      "179/179 [==============================] - 0s 201us/step - loss: 0.0395 - accuracy: 0.0056\n",
      "Epoch 38/200\n",
      "179/179 [==============================] - 0s 234us/step - loss: 0.0395 - accuracy: 0.0056\n",
      "Epoch 39/200\n",
      "179/179 [==============================] - 0s 229us/step - loss: 0.0398 - accuracy: 0.0056\n",
      "Epoch 40/200\n",
      "179/179 [==============================] - 0s 201us/step - loss: 0.0398 - accuracy: 0.0056\n",
      "Epoch 41/200\n",
      "179/179 [==============================] - 0s 212us/step - loss: 0.0398 - accuracy: 0.0056\n",
      "Epoch 42/200\n",
      "179/179 [==============================] - 0s 212us/step - loss: 0.0393 - accuracy: 0.0056\n",
      "Epoch 43/200\n",
      "179/179 [==============================] - 0s 195us/step - loss: 0.0395 - accuracy: 0.0056\n",
      "Epoch 44/200\n",
      "179/179 [==============================] - 0s 201us/step - loss: 0.0394 - accuracy: 0.0056\n",
      "Epoch 45/200\n",
      "179/179 [==============================] - 0s 190us/step - loss: 0.0399 - accuracy: 0.0056\n",
      "Epoch 46/200\n",
      "179/179 [==============================] - 0s 229us/step - loss: 0.0398 - accuracy: 0.0056\n",
      "Epoch 47/200\n",
      "179/179 [==============================] - 0s 207us/step - loss: 0.0397 - accuracy: 0.0056\n",
      "Epoch 48/200\n",
      "179/179 [==============================] - 0s 190us/step - loss: 0.0402 - accuracy: 0.0056\n",
      "Epoch 49/200\n",
      "179/179 [==============================] - 0s 195us/step - loss: 0.0403 - accuracy: 0.0056\n",
      "Epoch 50/200\n",
      "179/179 [==============================] - 0s 179us/step - loss: 0.0403 - accuracy: 0.0056\n",
      "Epoch 51/200\n",
      "179/179 [==============================] - 0s 218us/step - loss: 0.0395 - accuracy: 0.0056\n",
      "Epoch 52/200\n",
      "179/179 [==============================] - 0s 184us/step - loss: 0.0396 - accuracy: 0.0056\n",
      "Epoch 53/200\n",
      "179/179 [==============================] - 0s 184us/step - loss: 0.0394 - accuracy: 0.0056\n",
      "Epoch 54/200\n",
      "179/179 [==============================] - 0s 173us/step - loss: 0.0396 - accuracy: 0.0056\n",
      "Epoch 55/200\n",
      "179/179 [==============================] - 0s 190us/step - loss: 0.0400 - accuracy: 0.0056\n",
      "Epoch 56/200\n",
      "179/179 [==============================] - 0s 195us/step - loss: 0.0392 - accuracy: 0.0056\n",
      "Epoch 57/200\n",
      "179/179 [==============================] - 0s 179us/step - loss: 0.0398 - accuracy: 0.0056\n",
      "Epoch 58/200\n",
      "179/179 [==============================] - 0s 173us/step - loss: 0.0393 - accuracy: 0.0056  \n",
      "Epoch 59/200\n",
      "179/179 [==============================] - 0s 195us/step - loss: 0.0395 - accuracy: 0.0056\n",
      "Epoch 60/200\n",
      "179/179 [==============================] - 0s 184us/step - loss: 0.0398 - accuracy: 0.0056\n",
      "Epoch 61/200\n",
      "179/179 [==============================] - 0s 179us/step - loss: 0.0396 - accuracy: 0.0056\n",
      "Epoch 62/200\n",
      "179/179 [==============================] - 0s 184us/step - loss: 0.0396 - accuracy: 0.0056\n",
      "Epoch 63/200\n",
      "179/179 [==============================] - 0s 190us/step - loss: 0.0393 - accuracy: 0.0056\n",
      "Epoch 64/200\n",
      "179/179 [==============================] - 0s 179us/step - loss: 0.0392 - accuracy: 0.0056\n",
      "Epoch 65/200\n",
      "179/179 [==============================] - 0s 151us/step - loss: 0.0396 - accuracy: 0.0056\n",
      "Epoch 66/200\n",
      "179/179 [==============================] - 0s 156us/step - loss: 0.0398 - accuracy: 0.0056\n",
      "Epoch 67/200\n",
      "179/179 [==============================] - 0s 156us/step - loss: 0.0393 - accuracy: 0.0056\n",
      "Epoch 68/200\n",
      "179/179 [==============================] - 0s 151us/step - loss: 0.0394 - accuracy: 0.0056\n",
      "Epoch 69/200\n",
      "179/179 [==============================] - 0s 151us/step - loss: 0.0403 - accuracy: 0.0056\n",
      "Epoch 70/200\n",
      "179/179 [==============================] - 0s 151us/step - loss: 0.0399 - accuracy: 0.0056\n",
      "Epoch 71/200\n",
      "179/179 [==============================] - 0s 162us/step - loss: 0.0393 - accuracy: 0.0056\n",
      "Epoch 72/200\n",
      "179/179 [==============================] - 0s 151us/step - loss: 0.0393 - accuracy: 0.0056\n",
      "Epoch 73/200\n",
      "179/179 [==============================] - 0s 156us/step - loss: 0.0391 - accuracy: 0.0056\n",
      "Epoch 74/200\n",
      "179/179 [==============================] - 0s 156us/step - loss: 0.0397 - accuracy: 0.0056\n",
      "Epoch 75/200\n",
      "179/179 [==============================] - 0s 156us/step - loss: 0.0401 - accuracy: 0.0056\n",
      "Epoch 76/200\n",
      "179/179 [==============================] - 0s 151us/step - loss: 0.0395 - accuracy: 0.0056\n",
      "Epoch 77/200\n",
      "179/179 [==============================] - 0s 162us/step - loss: 0.0393 - accuracy: 0.0056\n",
      "Epoch 78/200\n",
      "179/179 [==============================] - 0s 162us/step - loss: 0.0393 - accuracy: 0.0056\n",
      "Epoch 79/200\n",
      "179/179 [==============================] - 0s 145us/step - loss: 0.0394 - accuracy: 0.0056\n",
      "Epoch 80/200\n",
      "179/179 [==============================] - 0s 162us/step - loss: 0.0394 - accuracy: 0.0056\n",
      "Epoch 81/200\n",
      "179/179 [==============================] - 0s 179us/step - loss: 0.0394 - accuracy: 0.0056\n",
      "Epoch 82/200\n",
      "179/179 [==============================] - 0s 162us/step - loss: 0.0394 - accuracy: 0.0056\n",
      "Epoch 83/200\n",
      "179/179 [==============================] - 0s 184us/step - loss: 0.0390 - accuracy: 0.0056  \n",
      "Epoch 84/200\n",
      "179/179 [==============================] - 0s 167us/step - loss: 0.0393 - accuracy: 0.0056\n",
      "Epoch 85/200\n",
      "179/179 [==============================] - 0s 173us/step - loss: 0.0391 - accuracy: 0.0056\n",
      "Epoch 86/200\n",
      "179/179 [==============================] - 0s 151us/step - loss: 0.0393 - accuracy: 0.0056\n",
      "Epoch 87/200\n",
      "179/179 [==============================] - 0s 151us/step - loss: 0.0395 - accuracy: 0.0056\n",
      "Epoch 88/200\n",
      "179/179 [==============================] - 0s 156us/step - loss: 0.0397 - accuracy: 0.0056\n",
      "Epoch 89/200\n",
      "179/179 [==============================] - 0s 167us/step - loss: 0.0391 - accuracy: 0.0056\n",
      "Epoch 90/200\n",
      "179/179 [==============================] - 0s 151us/step - loss: 0.0391 - accuracy: 0.0056\n",
      "Epoch 91/200\n",
      "179/179 [==============================] - 0s 167us/step - loss: 0.0394 - accuracy: 0.0056\n",
      "Epoch 92/200\n",
      "179/179 [==============================] - 0s 140us/step - loss: 0.0394 - accuracy: 0.0056\n",
      "Epoch 93/200\n",
      "179/179 [==============================] - 0s 156us/step - loss: 0.0393 - accuracy: 0.0056  \n",
      "Epoch 94/200\n",
      "179/179 [==============================] - 0s 145us/step - loss: 0.0391 - accuracy: 0.0056\n",
      "Epoch 95/200\n",
      "179/179 [==============================] - 0s 156us/step - loss: 0.0395 - accuracy: 0.0056\n",
      "Epoch 96/200\n",
      "179/179 [==============================] - 0s 179us/step - loss: 0.0396 - accuracy: 0.0056\n",
      "Epoch 97/200\n",
      "179/179 [==============================] - 0s 151us/step - loss: 0.0396 - accuracy: 0.0056\n",
      "Epoch 98/200\n",
      "179/179 [==============================] - 0s 156us/step - loss: 0.0398 - accuracy: 0.0056\n",
      "Epoch 99/200\n",
      "179/179 [==============================] - 0s 167us/step - loss: 0.0392 - accuracy: 0.0056\n",
      "Epoch 100/200\n",
      "179/179 [==============================] - 0s 151us/step - loss: 0.0390 - accuracy: 0.0056\n",
      "Epoch 101/200\n",
      "179/179 [==============================] - 0s 156us/step - loss: 0.0391 - accuracy: 0.0056\n",
      "Epoch 102/200\n",
      "179/179 [==============================] - 0s 151us/step - loss: 0.0399 - accuracy: 0.0056\n",
      "Epoch 103/200\n",
      "179/179 [==============================] - 0s 145us/step - loss: 0.0390 - accuracy: 0.0056\n",
      "Epoch 104/200\n",
      "179/179 [==============================] - 0s 151us/step - loss: 0.0393 - accuracy: 0.0056\n",
      "Epoch 105/200\n",
      "179/179 [==============================] - 0s 156us/step - loss: 0.0392 - accuracy: 0.0056\n",
      "Epoch 106/200\n",
      "179/179 [==============================] - 0s 162us/step - loss: 0.0391 - accuracy: 0.0056  \n",
      "Epoch 107/200\n",
      "179/179 [==============================] - 0s 151us/step - loss: 0.0396 - accuracy: 0.0056\n",
      "Epoch 108/200\n",
      "179/179 [==============================] - 0s 145us/step - loss: 0.0398 - accuracy: 0.0056\n",
      "Epoch 109/200\n",
      "179/179 [==============================] - 0s 201us/step - loss: 0.0394 - accuracy: 0.0056\n",
      "Epoch 110/200\n",
      "179/179 [==============================] - 0s 173us/step - loss: 0.0391 - accuracy: 0.0056\n",
      "Epoch 111/200\n",
      "179/179 [==============================] - 0s 173us/step - loss: 0.0391 - accuracy: 0.0056\n",
      "Epoch 112/200\n",
      "179/179 [==============================] - 0s 151us/step - loss: 0.0393 - accuracy: 0.0056\n",
      "Epoch 113/200\n",
      "179/179 [==============================] - 0s 151us/step - loss: 0.0394 - accuracy: 0.0056\n",
      "Epoch 114/200\n",
      "179/179 [==============================] - 0s 190us/step - loss: 0.0392 - accuracy: 0.0056\n",
      "Epoch 115/200\n",
      "179/179 [==============================] - 0s 156us/step - loss: 0.0392 - accuracy: 0.0056\n",
      "Epoch 116/200\n",
      "179/179 [==============================] - 0s 195us/step - loss: 0.0390 - accuracy: 0.0056\n",
      "Epoch 117/200\n",
      "179/179 [==============================] - 0s 173us/step - loss: 0.0397 - accuracy: 0.0056\n",
      "Epoch 118/200\n",
      "179/179 [==============================] - 0s 151us/step - loss: 0.0391 - accuracy: 0.0056\n",
      "Epoch 119/200\n",
      "179/179 [==============================] - 0s 167us/step - loss: 0.0393 - accuracy: 0.0056\n",
      "Epoch 120/200\n",
      "179/179 [==============================] - 0s 156us/step - loss: 0.0391 - accuracy: 0.0056\n",
      "Epoch 121/200\n",
      "179/179 [==============================] - 0s 145us/step - loss: 0.0392 - accuracy: 0.0056\n",
      "Epoch 122/200\n",
      "179/179 [==============================] - 0s 151us/step - loss: 0.0392 - accuracy: 0.0056\n",
      "Epoch 123/200\n",
      "179/179 [==============================] - 0s 151us/step - loss: 0.0398 - accuracy: 0.0056\n",
      "Epoch 124/200\n",
      "179/179 [==============================] - 0s 156us/step - loss: 0.0403 - accuracy: 0.0056\n",
      "Epoch 125/200\n",
      "179/179 [==============================] - 0s 162us/step - loss: 0.0388 - accuracy: 0.0056\n",
      "Epoch 126/200\n",
      "179/179 [==============================] - 0s 167us/step - loss: 0.0391 - accuracy: 0.0056\n",
      "Epoch 127/200\n",
      "179/179 [==============================] - 0s 156us/step - loss: 0.0389 - accuracy: 0.0056\n",
      "Epoch 128/200\n",
      "179/179 [==============================] - 0s 173us/step - loss: 0.0391 - accuracy: 0.0056\n",
      "Epoch 129/200\n",
      "179/179 [==============================] - 0s 151us/step - loss: 0.0397 - accuracy: 0.0056\n",
      "Epoch 130/200\n",
      "179/179 [==============================] - 0s 156us/step - loss: 0.0392 - accuracy: 0.0056\n",
      "Epoch 131/200\n",
      "179/179 [==============================] - 0s 145us/step - loss: 0.0392 - accuracy: 0.0056\n",
      "Epoch 132/200\n",
      "179/179 [==============================] - 0s 167us/step - loss: 0.0390 - accuracy: 0.0056\n",
      "Epoch 133/200\n",
      "179/179 [==============================] - 0s 156us/step - loss: 0.0392 - accuracy: 0.0056\n",
      "Epoch 134/200\n",
      "179/179 [==============================] - 0s 151us/step - loss: 0.0391 - accuracy: 0.0056\n",
      "Epoch 135/200\n",
      "179/179 [==============================] - 0s 145us/step - loss: 0.0395 - accuracy: 0.0056\n",
      "Epoch 136/200\n",
      "179/179 [==============================] - 0s 145us/step - loss: 0.0391 - accuracy: 0.0056\n",
      "Epoch 137/200\n",
      "179/179 [==============================] - 0s 156us/step - loss: 0.0390 - accuracy: 0.0056\n",
      "Epoch 138/200\n",
      "179/179 [==============================] - 0s 156us/step - loss: 0.0389 - accuracy: 0.0056\n",
      "Epoch 139/200\n",
      "179/179 [==============================] - 0s 151us/step - loss: 0.0388 - accuracy: 0.0056\n",
      "Epoch 140/200\n",
      "179/179 [==============================] - 0s 151us/step - loss: 0.0388 - accuracy: 0.0056\n",
      "Epoch 141/200\n",
      "179/179 [==============================] - 0s 156us/step - loss: 0.0390 - accuracy: 0.0056\n",
      "Epoch 142/200\n",
      "179/179 [==============================] - 0s 156us/step - loss: 0.0390 - accuracy: 0.0056\n",
      "Epoch 143/200\n",
      "179/179 [==============================] - 0s 151us/step - loss: 0.0389 - accuracy: 0.0056\n",
      "Epoch 144/200\n",
      "179/179 [==============================] - 0s 151us/step - loss: 0.0391 - accuracy: 0.0056\n",
      "Epoch 145/200\n",
      "179/179 [==============================] - 0s 151us/step - loss: 0.0390 - accuracy: 0.0056\n",
      "Epoch 146/200\n",
      "179/179 [==============================] - 0s 156us/step - loss: 0.0389 - accuracy: 0.0056\n",
      "Epoch 147/200\n",
      "179/179 [==============================] - 0s 151us/step - loss: 0.0392 - accuracy: 0.0056\n",
      "Epoch 148/200\n",
      "179/179 [==============================] - 0s 156us/step - loss: 0.0397 - accuracy: 0.0056\n",
      "Epoch 149/200\n",
      "179/179 [==============================] - 0s 173us/step - loss: 0.0397 - accuracy: 0.0056\n",
      "Epoch 150/200\n",
      "179/179 [==============================] - 0s 173us/step - loss: 0.0389 - accuracy: 0.0056\n",
      "Epoch 151/200\n",
      "179/179 [==============================] - 0s 145us/step - loss: 0.0390 - accuracy: 0.0056\n",
      "Epoch 152/200\n",
      "179/179 [==============================] - 0s 156us/step - loss: 0.0391 - accuracy: 0.0056\n",
      "Epoch 153/200\n",
      "179/179 [==============================] - 0s 151us/step - loss: 0.0396 - accuracy: 0.0056\n",
      "Epoch 154/200\n",
      "179/179 [==============================] - 0s 145us/step - loss: 0.0397 - accuracy: 0.0056\n",
      "Epoch 155/200\n",
      "179/179 [==============================] - 0s 151us/step - loss: 0.0388 - accuracy: 0.0056\n",
      "Epoch 156/200\n",
      "179/179 [==============================] - 0s 145us/step - loss: 0.0389 - accuracy: 0.0056\n",
      "Epoch 157/200\n",
      "179/179 [==============================] - 0s 156us/step - loss: 0.0390 - accuracy: 0.0056\n",
      "Epoch 158/200\n",
      "179/179 [==============================] - 0s 151us/step - loss: 0.0392 - accuracy: 0.0056\n",
      "Epoch 159/200\n",
      "179/179 [==============================] - 0s 162us/step - loss: 0.0388 - accuracy: 0.0056\n",
      "Epoch 160/200\n",
      "179/179 [==============================] - 0s 151us/step - loss: 0.0388 - accuracy: 0.0056\n",
      "Epoch 161/200\n"
     ]
    },
    {
     "name": "stdout",
     "output_type": "stream",
     "text": [
      "179/179 [==============================] - 0s 173us/step - loss: 0.0389 - accuracy: 0.0056\n",
      "Epoch 162/200\n",
      "179/179 [==============================] - 0s 156us/step - loss: 0.0389 - accuracy: 0.0056\n",
      "Epoch 163/200\n",
      "179/179 [==============================] - 0s 156us/step - loss: 0.0387 - accuracy: 0.0056\n",
      "Epoch 164/200\n",
      "179/179 [==============================] - 0s 151us/step - loss: 0.0388 - accuracy: 0.0056\n",
      "Epoch 165/200\n",
      "179/179 [==============================] - 0s 156us/step - loss: 0.0389 - accuracy: 0.0056\n",
      "Epoch 166/200\n",
      "179/179 [==============================] - 0s 156us/step - loss: 0.0402 - accuracy: 0.0056\n",
      "Epoch 167/200\n",
      "179/179 [==============================] - 0s 151us/step - loss: 0.0396 - accuracy: 0.0056\n",
      "Epoch 168/200\n",
      "179/179 [==============================] - 0s 145us/step - loss: 0.0399 - accuracy: 0.0056\n",
      "Epoch 169/200\n",
      "179/179 [==============================] - 0s 151us/step - loss: 0.0387 - accuracy: 0.0056\n",
      "Epoch 170/200\n",
      "179/179 [==============================] - 0s 151us/step - loss: 0.0388 - accuracy: 0.0056\n",
      "Epoch 171/200\n",
      "179/179 [==============================] - 0s 151us/step - loss: 0.0389 - accuracy: 0.0056\n",
      "Epoch 172/200\n",
      "179/179 [==============================] - 0s 156us/step - loss: 0.0391 - accuracy: 0.0056\n",
      "Epoch 173/200\n",
      "179/179 [==============================] - 0s 151us/step - loss: 0.0392 - accuracy: 0.0056\n",
      "Epoch 174/200\n",
      "179/179 [==============================] - 0s 156us/step - loss: 0.0386 - accuracy: 0.0056\n",
      "Epoch 175/200\n",
      "179/179 [==============================] - 0s 156us/step - loss: 0.0387 - accuracy: 0.0056\n",
      "Epoch 176/200\n",
      "179/179 [==============================] - 0s 151us/step - loss: 0.0387 - accuracy: 0.0056\n",
      "Epoch 177/200\n",
      "179/179 [==============================] - 0s 145us/step - loss: 0.0391 - accuracy: 0.0056\n",
      "Epoch 178/200\n",
      "179/179 [==============================] - 0s 151us/step - loss: 0.0387 - accuracy: 0.0056\n",
      "Epoch 179/200\n",
      "179/179 [==============================] - 0s 156us/step - loss: 0.0389 - accuracy: 0.0056\n",
      "Epoch 180/200\n",
      "179/179 [==============================] - 0s 184us/step - loss: 0.0392 - accuracy: 0.0056\n",
      "Epoch 181/200\n",
      "179/179 [==============================] - 0s 207us/step - loss: 0.0385 - accuracy: 0.0056\n",
      "Epoch 182/200\n",
      "179/179 [==============================] - 0s 257us/step - loss: 0.0387 - accuracy: 0.0056\n",
      "Epoch 183/200\n",
      "179/179 [==============================] - 0s 184us/step - loss: 0.0390 - accuracy: 0.0056\n",
      "Epoch 184/200\n",
      "179/179 [==============================] - 0s 274us/step - loss: 0.0391 - accuracy: 0.0056\n",
      "Epoch 185/200\n",
      "179/179 [==============================] - 0s 201us/step - loss: 0.0390 - accuracy: 0.0056\n",
      "Epoch 186/200\n",
      "179/179 [==============================] - 0s 179us/step - loss: 0.0391 - accuracy: 0.0056\n",
      "Epoch 187/200\n",
      "179/179 [==============================] - 0s 162us/step - loss: 0.0389 - accuracy: 0.0056\n",
      "Epoch 188/200\n",
      "179/179 [==============================] - 0s 151us/step - loss: 0.0389 - accuracy: 0.0056\n",
      "Epoch 189/200\n",
      "179/179 [==============================] - 0s 156us/step - loss: 0.0386 - accuracy: 0.0056\n",
      "Epoch 190/200\n",
      "179/179 [==============================] - 0s 156us/step - loss: 0.0395 - accuracy: 0.0056\n",
      "Epoch 191/200\n",
      "179/179 [==============================] - 0s 173us/step - loss: 0.0391 - accuracy: 0.0056\n",
      "Epoch 192/200\n",
      "179/179 [==============================] - 0s 167us/step - loss: 0.0388 - accuracy: 0.0056\n",
      "Epoch 193/200\n",
      "179/179 [==============================] - 0s 156us/step - loss: 0.0386 - accuracy: 0.0056\n",
      "Epoch 194/200\n",
      "179/179 [==============================] - 0s 195us/step - loss: 0.0386 - accuracy: 0.0056\n",
      "Epoch 195/200\n",
      "179/179 [==============================] - 0s 201us/step - loss: 0.0392 - accuracy: 0.0056\n",
      "Epoch 196/200\n",
      "179/179 [==============================] - 0s 167us/step - loss: 0.0390 - accuracy: 0.0056\n",
      "Epoch 197/200\n",
      "179/179 [==============================] - 0s 179us/step - loss: 0.0387 - accuracy: 0.0056\n",
      "Epoch 198/200\n",
      "179/179 [==============================] - 0s 173us/step - loss: 0.0387 - accuracy: 0.0056\n",
      "Epoch 199/200\n",
      "179/179 [==============================] - 0s 179us/step - loss: 0.0386 - accuracy: 0.0056\n",
      "Epoch 200/200\n",
      "179/179 [==============================] - 0s 151us/step - loss: 0.0390 - accuracy: 0.0056\n"
     ]
    },
    {
     "data": {
      "text/plain": [
       "<keras.callbacks.callbacks.History at 0x1eda5563dc8>"
      ]
     },
     "execution_count": 106,
     "metadata": {},
     "output_type": "execute_result"
    }
   ],
   "source": [
    "# Fitting the ANN to the Training set\n",
    "fnn.fit(train_X, train_y, batch_size = 8, nb_epoch = 200)"
   ]
  },
  {
   "cell_type": "code",
   "execution_count": 107,
   "metadata": {},
   "outputs": [
    {
     "data": {
      "image/png": "[encoded data removed]",
      "text/plain": [
       "<Figure size 432x288 with 1 Axes>"
      ]
     },
     "metadata": {
      "needs_background": "light"
     },
     "output_type": "display_data"
    }
   ],
   "source": [
    "# Predicting scaled training set\n",
    "yhat = fnn.predict(train_X)\n",
    "from matplotlib import pyplot\n",
    "pyplot.plot(train_y)\n",
    "pyplot.plot(yhat, '.')\n",
    "pyplot.show()"
   ]
  },
  {
   "cell_type": "code",
   "execution_count": 108,
   "metadata": {
    "scrolled": true
   },
   "outputs": [
    {
     "data": {
      "image/png": "[encoded data removed]",
      "text/plain": [
       "<Figure size 432x288 with 1 Axes>"
      ]
     },
     "metadata": {
      "needs_background": "light"
     },
     "output_type": "display_data"
    }
   ],
   "source": [
    "# Inversing scaling\n",
    "tshat = pd.DataFrame(yhat, columns=['y']) \n",
    "\n",
    "tshat['searchhat'] = sc.inverse_transform(tshat)\n",
    "tshat['search'] = train['search'][0:].reset_index()['search']\n",
    "pyplot.plot(tshat['search'])\n",
    "pyplot.plot(tshat['searchhat'], '.')\n",
    "pyplot.show()"
   ]
  },
  {
   "cell_type": "code",
   "execution_count": 109,
   "metadata": {},
   "outputs": [
    {
     "name": "stdout",
     "output_type": "stream",
     "text": [
      "Test RMSE: 6.660\n"
     ]
    }
   ],
   "source": [
    "# Reporting performance\n",
    "from sklearn.metrics import mean_squared_error\n",
    "from math import sqrt\n",
    "rmse = sqrt(mean_squared_error(tshat['search'], tshat['searchhat']))\n",
    "print('Test RMSE: %.3f' % rmse)"
   ]
  },
  {
   "cell_type": "code",
   "execution_count": 110,
   "metadata": {},
   "outputs": [
    {
     "data": {
      "image/png": "[encoded data removed]",
      "text/plain": [
       "<Figure size 432x288 with 1 Axes>"
      ]
     },
     "metadata": {
      "needs_background": "light"
     },
     "output_type": "display_data"
    }
   ],
   "source": [
    "# Predicting scaled test set\n",
    "X1, y1 = test_X, test_y\n",
    "yhat1 = fnn.predict(X1)\n",
    "from matplotlib import pyplot\n",
    "pyplot.plot(y1)\n",
    "pyplot.plot(yhat1, '.')\n",
    "pyplot.show()"
   ]
  },
  {
   "cell_type": "code",
   "execution_count": 111,
   "metadata": {},
   "outputs": [
    {
     "data": {
      "image/png": "[encoded data removed]",
      "text/plain": [
       "<Figure size 432x288 with 1 Axes>"
      ]
     },
     "metadata": {
      "needs_background": "light"
     },
     "output_type": "display_data"
    }
   ],
   "source": [
    "# Inversing scaling\n",
    "tshat1 = pd.DataFrame(yhat1, columns=['y']) \n",
    "from sklearn.preprocessing import MinMaxScaler\n",
    "tshat1['searchhat'] = sc.inverse_transform(tshat1)\n",
    "tshat1['search'] = test['search'].reset_index()['search']\n",
    "pyplot.plot(tshat1['search'])\n",
    "pyplot.plot(tshat1['searchhat'], '.')\n",
    "pyplot.show()"
   ]
  },
  {
   "cell_type": "code",
   "execution_count": 105,
   "metadata": {},
   "outputs": [
    {
     "name": "stdout",
     "output_type": "stream",
     "text": [
      "Test RMSE: 4.016\n"
     ]
    }
   ],
   "source": [
    "# Reporting performance\n",
    "from sklearn.metrics import mean_squared_error\n",
    "from math import sqrt\n",
    "rmse = sqrt(mean_squared_error(tshat1['search'], tshat1['searchhat']))\n",
    "print('Test RMSE: %.3f' % rmse)"
   ]
  }
 ],
 "metadata": {
  "kernelspec": {
   "display_name": "Python 3 (ipykernel)",
   "language": "python",
   "name": "python3"
  },
  "language_info": {
   "codemirror_mode": {
    "name": "ipython",
    "version": 3
   },
   "file_extension": ".py",
   "mimetype": "text/x-python",
   "name": "python",
   "nbconvert_exporter": "python",
   "pygments_lexer": "ipython3",
   "version": "3.8.11"
  }
 },
 "nbformat": 4,
 "nbformat_minor": 4
}
