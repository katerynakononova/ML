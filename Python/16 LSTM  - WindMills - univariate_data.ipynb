{
 "cells": [
  {
   "cell_type": "code",
   "execution_count": null,
   "metadata": {},
   "outputs": [],
   "source": [
    "# LSTM - WindMills\n",
    "'''Точечное прогнозирование. В данном случае модель обучается прогнозированию одного значения в будущем \n",
    "на основе имеющейся истории по одной переменной.'''"
   ]
  },
  {
   "cell_type": "code",
   "execution_count": 1,
   "metadata": {},
   "outputs": [],
   "source": [
    "# Importing the libraries\n",
    "import numpy as np\n",
    "import matplotlib.pyplot as plt\n",
    "import pandas as pd"
   ]
  },
  {
   "cell_type": "code",
   "execution_count": 2,
   "metadata": {},
   "outputs": [],
   "source": [
    "# Importing the dataset\n",
    "wma = pd.read_csv('WindMillsActual.csv')"
   ]
  },
  {
   "cell_type": "code",
   "execution_count": 4,
   "metadata": {},
   "outputs": [
    {
     "data": {
      "text/html": [
       "<div>\n",
       "<style scoped>\n",
       "    .dataframe tbody tr th:only-of-type {\n",
       "        vertical-align: middle;\n",
       "    }\n",
       "\n",
       "    .dataframe tbody tr th {\n",
       "        vertical-align: top;\n",
       "    }\n",
       "\n",
       "    .dataframe thead th {\n",
       "        text-align: right;\n",
       "    }\n",
       "</style>\n",
       "<table border=\"1\" class=\"dataframe\">\n",
       "  <thead>\n",
       "    <tr style=\"text-align: right;\">\n",
       "      <th></th>\n",
       "      <th>Time</th>\n",
       "      <th>Wind_direction</th>\n",
       "      <th>Temperature</th>\n",
       "      <th>Pressure</th>\n",
       "      <th>Humidity</th>\n",
       "    </tr>\n",
       "  </thead>\n",
       "  <tbody>\n",
       "    <tr>\n",
       "      <th>0</th>\n",
       "      <td>1/1/2016 0:00</td>\n",
       "      <td>101.0</td>\n",
       "      <td>1.3</td>\n",
       "      <td>885.9</td>\n",
       "      <td>65.4</td>\n",
       "    </tr>\n",
       "    <tr>\n",
       "      <th>1</th>\n",
       "      <td>1/1/2016 0:15</td>\n",
       "      <td>98.1</td>\n",
       "      <td>1.3</td>\n",
       "      <td>885.7</td>\n",
       "      <td>67.2</td>\n",
       "    </tr>\n",
       "    <tr>\n",
       "      <th>2</th>\n",
       "      <td>1/1/2016 0:30</td>\n",
       "      <td>99.8</td>\n",
       "      <td>1.2</td>\n",
       "      <td>885.6</td>\n",
       "      <td>68.1</td>\n",
       "    </tr>\n",
       "    <tr>\n",
       "      <th>3</th>\n",
       "      <td>1/1/2016 0:45</td>\n",
       "      <td>102.4</td>\n",
       "      <td>1.2</td>\n",
       "      <td>885.5</td>\n",
       "      <td>68.8</td>\n",
       "    </tr>\n",
       "    <tr>\n",
       "      <th>4</th>\n",
       "      <td>1/1/2016 1:00</td>\n",
       "      <td>102.8</td>\n",
       "      <td>1.2</td>\n",
       "      <td>885.3</td>\n",
       "      <td>70.1</td>\n",
       "    </tr>\n",
       "    <tr>\n",
       "      <th>...</th>\n",
       "      <td>...</td>\n",
       "      <td>...</td>\n",
       "      <td>...</td>\n",
       "      <td>...</td>\n",
       "      <td>...</td>\n",
       "    </tr>\n",
       "    <tr>\n",
       "      <th>70172</th>\n",
       "      <td>12/31/2017 23:00</td>\n",
       "      <td>63.4</td>\n",
       "      <td>2.1</td>\n",
       "      <td>885.5</td>\n",
       "      <td>45.2</td>\n",
       "    </tr>\n",
       "    <tr>\n",
       "      <th>70173</th>\n",
       "      <td>12/31/2017 23:15</td>\n",
       "      <td>75.9</td>\n",
       "      <td>2.0</td>\n",
       "      <td>885.3</td>\n",
       "      <td>45.5</td>\n",
       "    </tr>\n",
       "    <tr>\n",
       "      <th>70174</th>\n",
       "      <td>12/31/2017 23:30</td>\n",
       "      <td>69.4</td>\n",
       "      <td>2.1</td>\n",
       "      <td>885.3</td>\n",
       "      <td>45.8</td>\n",
       "    </tr>\n",
       "    <tr>\n",
       "      <th>70175</th>\n",
       "      <td>12/31/2017 23:45</td>\n",
       "      <td>72.9</td>\n",
       "      <td>2.0</td>\n",
       "      <td>885.2</td>\n",
       "      <td>46.2</td>\n",
       "    </tr>\n",
       "    <tr>\n",
       "      <th>70176</th>\n",
       "      <td>1/1/2018 0:00</td>\n",
       "      <td>78.5</td>\n",
       "      <td>2.1</td>\n",
       "      <td>885.0</td>\n",
       "      <td>46.2</td>\n",
       "    </tr>\n",
       "  </tbody>\n",
       "</table>\n",
       "<p>70177 rows × 5 columns</p>\n",
       "</div>"
      ],
      "text/plain": [
       "                   Time  Wind_direction  Temperature  Pressure   Humidity\n",
       "0         1/1/2016 0:00           101.0          1.3      885.9      65.4\n",
       "1         1/1/2016 0:15            98.1          1.3      885.7      67.2\n",
       "2         1/1/2016 0:30            99.8          1.2      885.6      68.1\n",
       "3         1/1/2016 0:45           102.4          1.2      885.5      68.8\n",
       "4         1/1/2016 1:00           102.8          1.2      885.3      70.1\n",
       "...                 ...             ...          ...        ...       ...\n",
       "70172  12/31/2017 23:00            63.4          2.1      885.5      45.2\n",
       "70173  12/31/2017 23:15            75.9          2.0      885.3      45.5\n",
       "70174  12/31/2017 23:30            69.4          2.1      885.3      45.8\n",
       "70175  12/31/2017 23:45            72.9          2.0      885.2      46.2\n",
       "70176     1/1/2018 0:00            78.5          2.1      885.0      46.2\n",
       "\n",
       "[70177 rows x 5 columns]"
      ]
     },
     "execution_count": 4,
     "metadata": {},
     "output_type": "execute_result"
    }
   ],
   "source": [
    "wma"
   ]
  },
  {
   "cell_type": "code",
   "execution_count": 3,
   "metadata": {},
   "outputs": [
    {
     "data": {
      "text/html": [
       "<div>\n",
       "<style scoped>\n",
       "    .dataframe tbody tr th:only-of-type {\n",
       "        vertical-align: middle;\n",
       "    }\n",
       "\n",
       "    .dataframe tbody tr th {\n",
       "        vertical-align: top;\n",
       "    }\n",
       "\n",
       "    .dataframe thead th {\n",
       "        text-align: right;\n",
       "    }\n",
       "</style>\n",
       "<table border=\"1\" class=\"dataframe\">\n",
       "  <thead>\n",
       "    <tr style=\"text-align: right;\">\n",
       "      <th></th>\n",
       "      <th>Total</th>\n",
       "      <th>Percent</th>\n",
       "    </tr>\n",
       "  </thead>\n",
       "  <tbody>\n",
       "    <tr>\n",
       "      <th>Wind_direction</th>\n",
       "      <td>33067</td>\n",
       "      <td>0.471194</td>\n",
       "    </tr>\n",
       "    <tr>\n",
       "      <th>Humidity</th>\n",
       "      <td>33050</td>\n",
       "      <td>0.470952</td>\n",
       "    </tr>\n",
       "    <tr>\n",
       "      <th>Pressure</th>\n",
       "      <td>33007</td>\n",
       "      <td>0.470339</td>\n",
       "    </tr>\n",
       "    <tr>\n",
       "      <th>Temperature</th>\n",
       "      <td>33004</td>\n",
       "      <td>0.470297</td>\n",
       "    </tr>\n",
       "    <tr>\n",
       "      <th>Time</th>\n",
       "      <td>0</td>\n",
       "      <td>0.000000</td>\n",
       "    </tr>\n",
       "  </tbody>\n",
       "</table>\n",
       "</div>"
      ],
      "text/plain": [
       "                Total   Percent\n",
       "Wind_direction  33067  0.471194\n",
       "Humidity        33050  0.470952\n",
       "Pressure        33007  0.470339\n",
       "Temperature     33004  0.470297\n",
       "Time                0  0.000000"
      ]
     },
     "execution_count": 3,
     "metadata": {},
     "output_type": "execute_result"
    }
   ],
   "source": [
    "# Checking missing\n",
    "total = wma.isnull().sum().sort_values(ascending=False)\n",
    "percent = (wma.isnull().sum()/wma.isnull().count()).sort_values(ascending=False)\n",
    "missing_data = pd.concat([total, percent], axis=1, keys=['Total', 'Percent'])\n",
    "missing_data"
   ]
  },
  {
   "cell_type": "code",
   "execution_count": 4,
   "metadata": {},
   "outputs": [],
   "source": [
    "wma = wma.dropna()"
   ]
  },
  {
   "cell_type": "code",
   "execution_count": 5,
   "metadata": {},
   "outputs": [
    {
     "data": {
      "text/html": [
       "<div>\n",
       "<style scoped>\n",
       "    .dataframe tbody tr th:only-of-type {\n",
       "        vertical-align: middle;\n",
       "    }\n",
       "\n",
       "    .dataframe tbody tr th {\n",
       "        vertical-align: top;\n",
       "    }\n",
       "\n",
       "    .dataframe thead th {\n",
       "        text-align: right;\n",
       "    }\n",
       "</style>\n",
       "<table border=\"1\" class=\"dataframe\">\n",
       "  <thead>\n",
       "    <tr style=\"text-align: right;\">\n",
       "      <th></th>\n",
       "      <th>Wind_direction</th>\n",
       "      <th>Temperature</th>\n",
       "      <th>Pressure</th>\n",
       "      <th>Humidity</th>\n",
       "    </tr>\n",
       "  </thead>\n",
       "  <tbody>\n",
       "    <tr>\n",
       "      <th>count</th>\n",
       "      <td>37070.000000</td>\n",
       "      <td>37070.000000</td>\n",
       "      <td>37070.000000</td>\n",
       "      <td>37070.000000</td>\n",
       "    </tr>\n",
       "    <tr>\n",
       "      <th>mean</th>\n",
       "      <td>198.969852</td>\n",
       "      <td>8.703280</td>\n",
       "      <td>893.071573</td>\n",
       "      <td>66.159884</td>\n",
       "    </tr>\n",
       "    <tr>\n",
       "      <th>std</th>\n",
       "      <td>101.235127</td>\n",
       "      <td>8.949399</td>\n",
       "      <td>13.317089</td>\n",
       "      <td>27.550012</td>\n",
       "    </tr>\n",
       "    <tr>\n",
       "      <th>min</th>\n",
       "      <td>0.500000</td>\n",
       "      <td>-16.000000</td>\n",
       "      <td>868.100000</td>\n",
       "      <td>0.200000</td>\n",
       "    </tr>\n",
       "    <tr>\n",
       "      <th>25%</th>\n",
       "      <td>97.000000</td>\n",
       "      <td>1.300000</td>\n",
       "      <td>883.800000</td>\n",
       "      <td>42.800000</td>\n",
       "    </tr>\n",
       "    <tr>\n",
       "      <th>50%</th>\n",
       "      <td>262.000000</td>\n",
       "      <td>7.900000</td>\n",
       "      <td>886.700000</td>\n",
       "      <td>66.000000</td>\n",
       "    </tr>\n",
       "    <tr>\n",
       "      <th>75%</th>\n",
       "      <td>296.400000</td>\n",
       "      <td>16.400000</td>\n",
       "      <td>903.200000</td>\n",
       "      <td>99.100000</td>\n",
       "    </tr>\n",
       "    <tr>\n",
       "      <th>max</th>\n",
       "      <td>359.900000</td>\n",
       "      <td>27.200000</td>\n",
       "      <td>945.500000</td>\n",
       "      <td>99.400000</td>\n",
       "    </tr>\n",
       "  </tbody>\n",
       "</table>\n",
       "</div>"
      ],
      "text/plain": [
       "       Wind_direction   Temperature     Pressure       Humidity\n",
       "count    37070.000000  37070.000000  37070.000000  37070.000000\n",
       "mean       198.969852      8.703280    893.071573     66.159884\n",
       "std        101.235127      8.949399     13.317089     27.550012\n",
       "min          0.500000    -16.000000    868.100000      0.200000\n",
       "25%         97.000000      1.300000    883.800000     42.800000\n",
       "50%        262.000000      7.900000    886.700000     66.000000\n",
       "75%        296.400000     16.400000    903.200000     99.100000\n",
       "max        359.900000     27.200000    945.500000     99.400000"
      ]
     },
     "execution_count": 5,
     "metadata": {},
     "output_type": "execute_result"
    }
   ],
   "source": [
    "wma.describe()"
   ]
  },
  {
   "cell_type": "code",
   "execution_count": 6,
   "metadata": {},
   "outputs": [
    {
     "data": {
      "text/plain": [
       "array([<matplotlib.axes._subplots.AxesSubplot object at 0x0000020574267948>],\n",
       "      dtype=object)"
      ]
     },
     "execution_count": 6,
     "metadata": {},
     "output_type": "execute_result"
    },
    {
     "data": {
      "image/png": "[encoded data removed]",
      "text/plain": [
       "<Figure size 432x288 with 1 Axes>"
      ]
     },
     "metadata": {
      "needs_background": "light"
     },
     "output_type": "display_data"
    }
   ],
   "source": [
    "'''Извлечем только температуру из набора данных.'''\n",
    "# Features \n",
    "uni_data = wma['Temperature']\n",
    "uni_data.index = wma['Time']\n",
    "uni_data.plot(subplots=True)"
   ]
  },
  {
   "cell_type": "code",
   "execution_count": 7,
   "metadata": {},
   "outputs": [],
   "source": [
    "'''Функция возвращает временные интервалы для обучения модели. \n",
    "Аргумент history_size — размер временного интервала, на основе которого будет делаться прогноз, \n",
    "target_size – аргумент, определяющий насколько далеко в будущее модель должна научиться прогнозировать. \n",
    "Другими словами, target_size – это целевой вектор, который необходимо спрогнозировать.'''\n",
    "def univariate_data(dataset, start_index, end_index, history_size, target_size):\n",
    "  data = []\n",
    "  labels = []\n",
    "\n",
    "  start_index = start_index + history_size\n",
    "  if end_index is None:\n",
    "    end_index = len(dataset) - target_size\n",
    "\n",
    "  for i in range(start_index, end_index):\n",
    "    indices = range(i-history_size, i)\n",
    "    # Reshape data from (history_size,) to (history_size, 1)\n",
    "    data.append(np.reshape(dataset[indices], (history_size, 1)))\n",
    "    labels.append(dataset[i+target_size])\n",
    "  return np.array(data), np.array(labels)"
   ]
  },
  {
   "cell_type": "code",
   "execution_count": 8,
   "metadata": {},
   "outputs": [],
   "source": [
    "'''Подготовим данные для модели с одномерным входом.'''\n",
    "uni_data = uni_data.values\n",
    "\n",
    "'''Первые 30 000 строк данных будут использоваться для обучения модели, оставшиеся – для её валидации (проверки). \n",
    "В этом случае объём обучающих данных составляет примерно 313 дней.'''\n",
    "# Splitting dataset\n",
    "TRAIN_SPLIT = 30000\n",
    "uni_train_mean = uni_data[:TRAIN_SPLIT].mean()\n",
    "uni_train_std = uni_data[:TRAIN_SPLIT].std()\n",
    "\n",
    "'''Стандартизация должна выполняться только c использованием обучающих данных.'''\n",
    "# Feature Scaling\n",
    "uni_data = (uni_data-uni_train_mean)/uni_train_std"
   ]
  },
  {
   "cell_type": "code",
   "execution_count": 9,
   "metadata": {},
   "outputs": [
    {
     "data": {
      "text/plain": [
       "array([-0.89140509, -0.89140509, -0.90210683, ..., -0.80579123,\n",
       "       -0.81649297, -0.80579123])"
      ]
     },
     "execution_count": 9,
     "metadata": {},
     "output_type": "execute_result"
    }
   ],
   "source": [
    "uni_data"
   ]
  },
  {
   "cell_type": "code",
   "execution_count": 10,
   "metadata": {},
   "outputs": [],
   "source": [
    "'''На вход в модель будут подаваться последние 12 зарегистрированных наблюдений за температурой, \n",
    "модель необходимо обучить прогнозировать температуру на следующем шаге по времени.'''\n",
    "# Creating lagged dataset\n",
    "univariate_past_history = 12\n",
    "univariate_future_target = 0\n",
    "\n",
    "x_train_uni, y_train_uni = univariate_data(uni_data, 0, TRAIN_SPLIT,\n",
    "                                           univariate_past_history,\n",
    "                                           univariate_future_target)\n",
    "x_val_uni, y_val_uni = univariate_data(uni_data, TRAIN_SPLIT, None,\n",
    "                                       univariate_past_history,\n",
    "                                       univariate_future_target)"
   ]
  },
  {
   "cell_type": "code",
   "execution_count": 14,
   "metadata": {},
   "outputs": [
    {
     "name": "stdout",
     "output_type": "stream",
     "text": [
      "Single window of past history\n",
      "[[-0.89140509]\n",
      " [-0.89140509]\n",
      " [-0.90210683]\n",
      " [-0.90210683]\n",
      " [-0.90210683]\n",
      " [-0.91280856]\n",
      " [-0.92351029]\n",
      " [-0.92351029]\n",
      " [-0.93421202]\n",
      " [-0.93421202]\n",
      " [-0.93421202]\n",
      " [-0.93421202]]\n",
      "\n",
      " Target temperature to predict\n",
      "-0.9342120241965741\n"
     ]
    }
   ],
   "source": [
    "'''Результаты применения функции univariate_data.'''\n",
    "# Sliding window\n",
    "print ('Single window of past history')\n",
    "print (x_train_uni[0])\n",
    "print ('\\n Target temperature to predict')\n",
    "print (y_train_uni[0])"
   ]
  },
  {
   "cell_type": "code",
   "execution_count": 9,
   "metadata": {},
   "outputs": [],
   "source": [
    "def create_time_steps(length):\n",
    "  return list(range(-length, 0))"
   ]
  },
  {
   "cell_type": "code",
   "execution_count": 10,
   "metadata": {},
   "outputs": [],
   "source": [
    "def show_plot(plot_data, delta, title):\n",
    "  labels = ['History', 'True Future', 'Model Prediction']\n",
    "  marker = ['.-', 'rx', 'go']\n",
    "  time_steps = create_time_steps(plot_data[0].shape[0])\n",
    "  if delta:\n",
    "    future = delta\n",
    "  else:\n",
    "    future = 0\n",
    "\n",
    "  plt.title(title)\n",
    "  for i, x in enumerate(plot_data):\n",
    "    if i:\n",
    "      plt.plot(future, plot_data[i], marker[i], markersize=10,\n",
    "               label=labels[i])\n",
    "    else:\n",
    "      plt.plot(time_steps, plot_data[i].flatten(), marker[i], label=labels[i])\n",
    "  plt.legend()\n",
    "  plt.xlim([time_steps[0], (future+5)*2])\n",
    "  plt.xlabel('Time-Step')\n",
    "  return plt"
   ]
  },
  {
   "cell_type": "code",
   "execution_count": 11,
   "metadata": {},
   "outputs": [
    {
     "data": {
      "text/plain": [
       "<module 'matplotlib.pyplot' from 'C:\\\\Users\\\\kater\\\\anaconda3\\\\lib\\\\site-packages\\\\matplotlib\\\\pyplot.py'>"
      ]
     },
     "execution_count": 11,
     "metadata": {},
     "output_type": "execute_result"
    },
    {
     "data": {
      "image/png": "[encoded data removed]",
      "text/plain": [
       "<Figure size 432x288 with 1 Axes>"
      ]
     },
     "metadata": {
      "needs_background": "light"
     },
     "output_type": "display_data"
    }
   ],
   "source": [
    "# One sliding window plotting\n",
    "show_plot([x_train_uni[0], y_train_uni[0]], 0, 'Sample Example')"
   ]
  },
  {
   "cell_type": "code",
   "execution_count": 12,
   "metadata": {},
   "outputs": [],
   "source": [
    "'''Прежде чем приступить к обучению модели, рассчитаем базовое решение (baseline). \n",
    "Оно заключается в следующем: для заданного входного вектора метод базового решения \n",
    "«просматривает» всю историю и прогнозирует следующее значение как среднее из последних 12 наблюдений.'''\n",
    "# Baseline model\n",
    "def baseline(history):\n",
    "  return np.mean(history)"
   ]
  },
  {
   "cell_type": "code",
   "execution_count": 13,
   "metadata": {},
   "outputs": [
    {
     "data": {
      "text/plain": [
       "<module 'matplotlib.pyplot' from 'C:\\\\Users\\\\kater\\\\anaconda3\\\\lib\\\\site-packages\\\\matplotlib\\\\pyplot.py'>"
      ]
     },
     "execution_count": 13,
     "metadata": {},
     "output_type": "execute_result"
    },
    {
     "data": {
      "image/png": "[encoded data removed]",
      "text/plain": [
       "<Figure size 432x288 with 1 Axes>"
      ]
     },
     "metadata": {
      "needs_background": "light"
     },
     "output_type": "display_data"
    }
   ],
   "source": [
    "# Baseline Prediction plotting\n",
    "show_plot([x_train_uni[0], y_train_uni[0], baseline(x_train_uni[0])], 0,\n",
    "           'Baseline Prediction Example')"
   ]
  },
  {
   "cell_type": "code",
   "execution_count": 20,
   "metadata": {},
   "outputs": [],
   "source": [
    "# Importing the Tensorflow libraries and packages\n",
    "import tensorflow as tf\n",
    "#from tf.data import Dataset\n",
    "\n",
    "# Importing the Keras libraries and packages\n",
    "import keras\n",
    "from tensorflow.keras.models import Sequential\n",
    "from tensorflow.keras.layers import LSTM\n",
    "from tensorflow.keras.layers import Dense"
   ]
  },
  {
   "cell_type": "code",
   "execution_count": 21,
   "metadata": {},
   "outputs": [],
   "source": [
    "'''C помощью tf.data выполним перемешивание (shuffle), пакетирование (batch) и кэширование (cache) набора данных.'''\n",
    "# Data preprocessing\n",
    "BATCH_SIZE = 128\n",
    "BUFFER_SIZE = 500\n",
    "\n",
    "train_univariate = tf.data.Dataset.from_tensor_slices((x_train_uni, y_train_uni))\n",
    "train_univariate = train_univariate.cache().shuffle(BUFFER_SIZE).batch(BATCH_SIZE).repeat()\n",
    "\n",
    "val_univariate = tf.data.Dataset.from_tensor_slices((x_val_uni, y_val_uni))\n",
    "val_univariate = val_univariate.batch(BATCH_SIZE).repeat()"
   ]
  },
  {
   "cell_type": "code",
   "execution_count": 22,
   "metadata": {},
   "outputs": [],
   "source": [
    "# LSTM creating\n",
    "simple_lstm_model = tf.keras.models.Sequential([\n",
    "    tf.keras.layers.LSTM(4, input_shape=x_train_uni.shape[-2:]),\n",
    "    tf.keras.layers.Dense(1)\n",
    "])\n",
    "\n",
    "simple_lstm_model.compile(optimizer='adam', loss='mae')"
   ]
  },
  {
   "cell_type": "code",
   "execution_count": 30,
   "metadata": {},
   "outputs": [
    {
     "data": {
      "text/plain": [
       "(128, 1)"
      ]
     },
     "execution_count": 30,
     "metadata": {},
     "output_type": "execute_result"
    }
   ],
   "source": [
    "'''Проверим выход модели'''\n",
    "simple_lstm_model.predict(val_univariate.take(1)).shape"
   ]
  },
  {
   "cell_type": "code",
   "execution_count": 32,
   "metadata": {},
   "outputs": [
    {
     "name": "stdout",
     "output_type": "stream",
     "text": [
      "(29988, 12, 1)\n"
     ]
    }
   ],
   "source": [
    "'''В общем плане РНС работают с последовательностями (sequences). \n",
    "Это означает, что подаваемые на вход модели данные должны иметь следующую форму:\n",
    "[наблюдения, временной интервал, кол-во признаков]\n",
    "Форма обучающих данных для модели с одномерным входом имеет следующий вид:'''\n",
    "print(x_train_uni.shape)"
   ]
  },
  {
   "cell_type": "code",
   "execution_count": 33,
   "metadata": {},
   "outputs": [
    {
     "name": "stdout",
     "output_type": "stream",
     "text": [
      "WARNING:tensorflow:From C:\\Users\\kater\\anaconda3\\lib\\site-packages\\tensorflow\\python\\ops\\math_grad.py:1250: add_dispatch_support.<locals>.wrapper (from tensorflow.python.ops.array_ops) is deprecated and will be removed in a future version.\n",
      "Instructions for updating:\n",
      "Use tf.where in 2.0, which has the same broadcast rule as np.where\n",
      "Epoch 1/10\n",
      "200/200 [==============================] - 5s 25ms/step - loss: 0.5911 - val_loss: 0.8782\n",
      "Epoch 2/10\n",
      "200/200 [==============================] - 3s 14ms/step - loss: 0.2820 - val_loss: 0.5716\n",
      "Epoch 3/10\n",
      "200/200 [==============================] - 3s 15ms/step - loss: 0.1522 - val_loss: 0.3135\n",
      "Epoch 4/10\n",
      "200/200 [==============================] - 3s 15ms/step - loss: 0.0901 - val_loss: 0.1402\n",
      "Epoch 5/10\n",
      "200/200 [==============================] - 3s 15ms/step - loss: 0.0681 - val_loss: 0.0988\n",
      "Epoch 6/10\n",
      "200/200 [==============================] - 3s 15ms/step - loss: 0.0570 - val_loss: 0.0901\n",
      "Epoch 7/10\n",
      "200/200 [==============================] - 3s 14ms/step - loss: 0.0482 - val_loss: 0.0807\n",
      "Epoch 8/10\n",
      "200/200 [==============================] - 3s 14ms/step - loss: 0.0453 - val_loss: 0.0741\n",
      "Epoch 9/10\n",
      "200/200 [==============================] - 3s 14ms/step - loss: 0.0433 - val_loss: 0.0686\n",
      "Epoch 10/10\n",
      "200/200 [==============================] - 3s 14ms/step - loss: 0.0379 - val_loss: 0.0658\n"
     ]
    },
    {
     "data": {
      "text/plain": [
       "<tensorflow.python.keras.callbacks.History at 0x27d236ae608>"
      ]
     },
     "execution_count": 33,
     "metadata": {},
     "output_type": "execute_result"
    }
   ],
   "source": [
    "# Fitting\n",
    "EVALUATION_INTERVAL = 200\n",
    "EPOCHS = 10\n",
    "\n",
    "simple_lstm_model.fit(train_univariate, epochs=EPOCHS,\n",
    "                      steps_per_epoch=EVALUATION_INTERVAL,\n",
    "                      validation_data=val_univariate, validation_steps=50)"
   ]
  },
  {
   "cell_type": "code",
   "execution_count": 51,
   "metadata": {},
   "outputs": [
    {
     "data": {
      "text/plain": [
       "<module 'matplotlib.pyplot' from 'C:\\\\Users\\\\kater\\\\anaconda3\\\\lib\\\\site-packages\\\\matplotlib\\\\pyplot.py'>"
      ]
     },
     "execution_count": 51,
     "metadata": {},
     "output_type": "execute_result"
    },
    {
     "data": {
      "image/png": "[encoded data removed]",
      "text/plain": [
       "<Figure size 432x288 with 1 Axes>"
      ]
     },
     "metadata": {
      "needs_background": "light"
     },
     "output_type": "display_data"
    }
   ],
   "source": [
    "# LSTM Prediction plotting\n",
    "show_plot([x_val_uni[0], y_val_uni[0], simple_lstm_model.predict(val_univariate.take(1))[0]], 0,\n",
    "           'LSTM Prediction Example')"
   ]
  },
  {
   "cell_type": "code",
   "execution_count": 57,
   "metadata": {},
   "outputs": [
    {
     "data": {
      "image/png": "[encoded data removed]",
      "text/plain": [
       "<Figure size 432x288 with 1 Axes>"
      ]
     },
     "metadata": {
      "needs_background": "light"
     },
     "output_type": "display_data"
    },
    {
     "data": {
      "image/png": "[encoded data removed]",
      "text/plain": [
       "<Figure size 432x288 with 1 Axes>"
      ]
     },
     "metadata": {
      "needs_background": "light"
     },
     "output_type": "display_data"
    },
    {
     "data": {
      "image/png": "[encoded data removed]",
      "text/plain": [
       "<Figure size 432x288 with 1 Axes>"
      ]
     },
     "metadata": {
      "needs_background": "light"
     },
     "output_type": "display_data"
    }
   ],
   "source": [
    "# LSTM Prediction plotting\n",
    "for i in range(0,3):\n",
    "    plot = show_plot([x_val_uni[i], y_val_uni[i], simple_lstm_model.predict(val_univariate.take(1))[i]], 0,\n",
    "           'LSTM Prediction Example')\n",
    "    plot.show()"
   ]
  }
 ],
 "metadata": {
  "kernelspec": {
   "display_name": "Python 3",
   "language": "python",
   "name": "python3"
  },
  "language_info": {
   "codemirror_mode": {
    "name": "ipython",
    "version": 3
   },
   "file_extension": ".py",
   "mimetype": "text/x-python",
   "name": "python",
   "nbconvert_exporter": "python",
   "pygments_lexer": "ipython3",
   "version": "3.7.6"
  }
 },
 "nbformat": 4,
 "nbformat_minor": 4
}
